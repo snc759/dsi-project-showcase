{
 "cells": [
  {
   "cell_type": "code",
   "execution_count": 10,
   "metadata": {},
   "outputs": [],
   "source": [
    "# imports \n",
    "import numpy as np\n",
    "import pandas as pd\n",
    "import matplotlib.pyplot as plt\n",
    "import seaborn as sns"
   ]
  },
  {
   "cell_type": "code",
   "execution_count": 11,
   "metadata": {},
   "outputs": [],
   "source": [
    "# imports the data\n",
    "df = pd.read_feather('../../data/h201.feather')\n",
    "health_vars = pd.read_csv('../../data/Health Status Variables.csv')"
   ]
  },
  {
   "cell_type": "code",
   "execution_count": null,
   "metadata": {},
   "outputs": [],
   "source": []
  },
  {
   "cell_type": "code",
   "execution_count": 12,
   "metadata": {},
   "outputs": [],
   "source": [
    "def eda_clean_df(df):\n",
    "    df = df[(df['AGELAST']>=5) & (df['AGELAST']<=17)]\n",
    "    df = df[(df['UNHAP42']>=0) & (df['UNHAP42']<=4)]\n",
    "    df['UNHAP42'] = df['UNHAP42'].map({0:0, 1:1, 2:1, 3:1, 4:1})\n",
    "    df['RACEV2X'] = df['RACEV2X'].replace({5:4, 6:4, 10:4, 12:5})\n",
    "    return df"
   ]
  },
  {
   "cell_type": "code",
   "execution_count": 13,
   "metadata": {},
   "outputs": [
    {
     "data": {
      "text/plain": [
       "(5920, 1564)"
      ]
     },
     "execution_count": 13,
     "metadata": {},
     "output_type": "execute_result"
    }
   ],
   "source": [
    "child_df = eda_clean_df(df)\n",
    "child_df.shape"
   ]
  },
  {
   "cell_type": "code",
   "execution_count": 14,
   "metadata": {},
   "outputs": [
    {
     "data": {
      "text/plain": [
       "1.0    4033\n",
       "2.0    1095\n",
       "5.0     392\n",
       "4.0     364\n",
       "3.0      36\n",
       "Name: RACEV2X, dtype: int64"
      ]
     },
     "execution_count": 14,
     "metadata": {},
     "output_type": "execute_result"
    }
   ],
   "source": [
    "child_df['RACEV2X'].value_counts()"
   ]
  },
  {
   "cell_type": "code",
   "execution_count": 18,
   "metadata": {},
   "outputs": [],
   "source": [
    "# children with special health care needs screener variables\n",
    "special_needs = list(health_vars['VARIABLE'][30:45])\n",
    "\n",
    "# columbia impairment scale\n",
    "impairment = list(health_vars['VARIABLE'][45:58])\n",
    "\n",
    "# Consumer Assessment of Healthcare Providers and Systems (CAHPS)\n",
    "cahps = list(health_vars['VARIABLE'][58:72])\n",
    "\n",
    "# all children variables \n",
    "all_child = list(health_vars['VARIABLE'][30:97])\n",
    "\n",
    "#####\n",
    "# other physical variables \n",
    "other = ['ADHDADDX']\n",
    "\n",
    "# other identifier/demographic variables \n",
    "demo = ['AGELAST', 'SEX', 'RACEV2X', 'FAMINC17']"
   ]
  },
  {
   "cell_type": "markdown",
   "metadata": {},
   "source": [
    "#### Children with Special Health Care Needs Variables "
   ]
  },
  {
   "cell_type": "code",
   "execution_count": 19,
   "metadata": {},
   "outputs": [],
   "source": [
    "# Creates a list of features from the Children with special health care needs variables\n",
    "features = special_needs + other + demo"
   ]
  },
  {
   "cell_type": "code",
   "execution_count": 20,
   "metadata": {},
   "outputs": [
    {
     "data": {
      "image/png": "[encoded data removed]",
      "text/plain": [
       "<Figure size 432x288 with 1 Axes>"
      ]
     },
     "metadata": {
      "needs_background": "light"
     },
     "output_type": "display_data"
    }
   ],
   "source": [
    "# Shows percent unhappy based on ADHD Diagnosis\n",
    "add_df = child_df[child_df['ADHDADDX'] > 0]\n",
    "plt.bar(add_df.groupby('ADHDADDX')['UNHAP42'].mean().index, \n",
    "        add_df.groupby('ADHDADDX')['UNHAP42'].mean(),\n",
    "        color =['green','blue'])\n",
    "plt.xticks(ticks=add_df.groupby('ADHDADDX')['UNHAP42'].mean().index)\n",
    "plt.ylabel(\"Percent Unhappy\")\n",
    "plt.xlabel(\"Diagnosed with ADHD (1=Yes, 2=No)\")\n",
    "plt.title('Percent Unhappy Based on ADHD Diagnosis');"
   ]
  },
  {
   "cell_type": "code",
   "execution_count": 21,
   "metadata": {},
   "outputs": [],
   "source": [
    "# Ask if teammates did any EDA on Children with Special Healthcare Needs Screener"
   ]
  },
  {
   "cell_type": "code",
   "execution_count": 23,
   "metadata": {},
   "outputs": [
    {
     "data": {
      "text/plain": [
       "<Figure size 432x288 with 0 Axes>"
      ]
     },
     "metadata": {},
     "output_type": "display_data"
    }
   ],
   "source": [
    "plt.savefig('../../charts_graphs/adhd.png')"
   ]
  },
  {
   "cell_type": "code",
   "execution_count": null,
   "metadata": {},
   "outputs": [],
   "source": []
  }
 ],
 "metadata": {
  "kernelspec": {
   "display_name": "Python 3",
   "language": "python",
   "name": "python3"
  },
  "language_info": {
   "codemirror_mode": {
    "name": "ipython",
    "version": 3
   },
   "file_extension": ".py",
   "mimetype": "text/x-python",
   "name": "python",
   "nbconvert_exporter": "python",
   "pygments_lexer": "ipython3",
   "version": "3.8.5"
  }
 },
 "nbformat": 4,
 "nbformat_minor": 4
}
