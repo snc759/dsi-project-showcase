{
 "cells": [
  {
   "cell_type": "markdown",
   "metadata": {},
   "source": [
    "### The purpose of this notebook is to take our selected features in semi_clean_df and run multiple classifiers using a function.  This function will return default classifiers but provide us with insight on what classifiers to investigate further."
   ]
  },
  {
   "cell_type": "code",
   "execution_count": 1,
   "metadata": {},
   "outputs": [],
   "source": [
    "#imports \n",
    "import pandas as pd"
   ]
  },
  {
   "cell_type": "code",
   "execution_count": 2,
   "metadata": {},
   "outputs": [],
   "source": [
    "# read in semi clean df\n",
    "child = pd.read_csv('../data/semi_clean_df.csv')"
   ]
  },
  {
   "cell_type": "code",
   "execution_count": 3,
   "metadata": {},
   "outputs": [
    {
     "data": {
      "text/plain": [
       "0    0.736149\n",
       "1    0.263851\n",
       "Name: UNHAP42, dtype: float64"
      ]
     },
     "execution_count": 3,
     "metadata": {},
     "output_type": "execute_result"
    }
   ],
   "source": [
    "# filter UNHAP42 to only 1-4\n",
    "hap_filter =(child['UNHAP42'] == 0) | (child['UNHAP42'] == 1) | (child['UNHAP42'] == 2) | (child['UNHAP42'] == 3) | (child['UNHAP42'] == 4)\n",
    "# set df equal to origin dataframe with above filter\n",
    "df = child[hap_filter]\n",
    "# create classes for UNHAP42 \n",
    "df['UNHAP42'] = df['UNHAP42'].map({0:0, 1:1, 2:1, 3:1, 4:1})\n",
    "# check class distribution\n",
    "df['UNHAP42'].value_counts(normalize=True)"
   ]
  },
  {
   "cell_type": "markdown",
   "metadata": {},
   "source": [
    "Unbalanced classes shown above, during next modeling step actions will be taken to combat this issue."
   ]
  },
  {
   "cell_type": "code",
   "execution_count": 4,
   "metadata": {},
   "outputs": [],
   "source": [
    "# imports for classifiers\n",
    "# import classifers\n",
    "from sklearn.linear_model import LogisticRegression\n",
    "from sklearn.neighbors import KNeighborsClassifier\n",
    "from sklearn.svm import SVC\n",
    "from sklearn.ensemble import RandomForestClassifier, AdaBoostClassifier, BaggingClassifier\n",
    "from sklearn.tree import DecisionTreeClassifier\n",
    "# import home modeling function\n",
    "from model import modeling_class\n",
    "# import metrics\n",
    "from sklearn.model_selection import train_test_split, cross_val_score\n",
    "from sklearn.metrics import accuracy_score, f1_score, recall_score"
   ]
  },
  {
   "cell_type": "code",
   "execution_count": 5,
   "metadata": {},
   "outputs": [],
   "source": [
    "# set X, y \n",
    "X = df.drop(columns='UNHAP42')\n",
    "y = df['UNHAP42']"
   ]
  },
  {
   "cell_type": "code",
   "execution_count": 6,
   "metadata": {},
   "outputs": [],
   "source": [
    "#TTS\n",
    "X_train, X_test, y_train, y_test = train_test_split(X,y, stratify=y)"
   ]
  },
  {
   "cell_type": "code",
   "execution_count": 7,
   "metadata": {},
   "outputs": [],
   "source": [
    "# instantiate classifiers\n",
    "logreg = LogisticRegression()\n",
    "knn = KNeighborsClassifier()\n",
    "svc = SVC()\n",
    "forest = RandomForestClassifier()\n",
    "tree = DecisionTreeClassifier()\n",
    "abc = AdaBoostClassifier()\n",
    "bag = BaggingClassifier() "
   ]
  },
  {
   "cell_type": "code",
   "execution_count": 8,
   "metadata": {},
   "outputs": [],
   "source": [
    "# create list of classifiers\n",
    "class_list = [logreg, knn, svc, forest, tree, abc, bag]"
   ]
  },
  {
   "cell_type": "code",
   "execution_count": 9,
   "metadata": {},
   "outputs": [
    {
     "name": "stderr",
     "output_type": "stream",
     "text": [
      "C:\\Users\\phill\\anaconda3\\lib\\site-packages\\sklearn\\linear_model\\_logistic.py:762: ConvergenceWarning: lbfgs failed to converge (status=1):\n",
      "STOP: TOTAL NO. of ITERATIONS REACHED LIMIT.\n",
      "\n",
      "Increase the number of iterations (max_iter) or scale the data as shown in:\n",
      "    https://scikit-learn.org/stable/modules/preprocessing.html\n",
      "Please also refer to the documentation for alternative solver options:\n",
      "    https://scikit-learn.org/stable/modules/linear_model.html#logistic-regression\n",
      "  n_iter_i = _check_optimize_result(\n"
     ]
    }
   ],
   "source": [
    "# run function from model.py \n",
    "class_results = modeling_class(X_train, X_test, y_train, y_test, class_list)"
   ]
  },
  {
   "cell_type": "code",
   "execution_count": 10,
   "metadata": {},
   "outputs": [
    {
     "data": {
      "text/html": [
       "<div>\n",
       "<style scoped>\n",
       "    .dataframe tbody tr th:only-of-type {\n",
       "        vertical-align: middle;\n",
       "    }\n",
       "\n",
       "    .dataframe tbody tr th {\n",
       "        vertical-align: top;\n",
       "    }\n",
       "\n",
       "    .dataframe thead th {\n",
       "        text-align: right;\n",
       "    }\n",
       "</style>\n",
       "<table border=\"1\" class=\"dataframe\">\n",
       "  <thead>\n",
       "    <tr style=\"text-align: right;\">\n",
       "      <th></th>\n",
       "      <th>train_score</th>\n",
       "      <th>test_score</th>\n",
       "      <th>acc_score</th>\n",
       "      <th>recall_score</th>\n",
       "    </tr>\n",
       "  </thead>\n",
       "  <tbody>\n",
       "    <tr>\n",
       "      <th>LogisticRegression()</th>\n",
       "      <td>0.831306</td>\n",
       "      <td>0.833108</td>\n",
       "      <td>0.833108</td>\n",
       "      <td>0.546154</td>\n",
       "    </tr>\n",
       "    <tr>\n",
       "      <th>KNeighborsClassifier()</th>\n",
       "      <td>0.827027</td>\n",
       "      <td>0.775676</td>\n",
       "      <td>0.775676</td>\n",
       "      <td>0.284615</td>\n",
       "    </tr>\n",
       "    <tr>\n",
       "      <th>SVC()</th>\n",
       "      <td>0.819595</td>\n",
       "      <td>0.799324</td>\n",
       "      <td>0.799324</td>\n",
       "      <td>0.323077</td>\n",
       "    </tr>\n",
       "    <tr>\n",
       "      <th>RandomForestClassifier()</th>\n",
       "      <td>1.000000</td>\n",
       "      <td>0.849324</td>\n",
       "      <td>0.849324</td>\n",
       "      <td>0.589744</td>\n",
       "    </tr>\n",
       "    <tr>\n",
       "      <th>DecisionTreeClassifier()</th>\n",
       "      <td>1.000000</td>\n",
       "      <td>0.786486</td>\n",
       "      <td>0.786486</td>\n",
       "      <td>0.620513</td>\n",
       "    </tr>\n",
       "    <tr>\n",
       "      <th>AdaBoostClassifier()</th>\n",
       "      <td>0.847973</td>\n",
       "      <td>0.848649</td>\n",
       "      <td>0.848649</td>\n",
       "      <td>0.612821</td>\n",
       "    </tr>\n",
       "    <tr>\n",
       "      <th>BaggingClassifier()</th>\n",
       "      <td>0.987162</td>\n",
       "      <td>0.833108</td>\n",
       "      <td>0.833108</td>\n",
       "      <td>0.574359</td>\n",
       "    </tr>\n",
       "  </tbody>\n",
       "</table>\n",
       "</div>"
      ],
      "text/plain": [
       "                          train_score  test_score  acc_score  recall_score\n",
       "LogisticRegression()         0.831306    0.833108   0.833108      0.546154\n",
       "KNeighborsClassifier()       0.827027    0.775676   0.775676      0.284615\n",
       "SVC()                        0.819595    0.799324   0.799324      0.323077\n",
       "RandomForestClassifier()     1.000000    0.849324   0.849324      0.589744\n",
       "DecisionTreeClassifier()     1.000000    0.786486   0.786486      0.620513\n",
       "AdaBoostClassifier()         0.847973    0.848649   0.848649      0.612821\n",
       "BaggingClassifier()          0.987162    0.833108   0.833108      0.574359"
      ]
     },
     "execution_count": 10,
     "metadata": {},
     "output_type": "execute_result"
    }
   ],
   "source": [
    "class_results"
   ]
  },
  {
   "cell_type": "markdown",
   "metadata": {},
   "source": [
    "### Note:\n",
    "Shown above is our results from the modeling function.  Based on the results shown Logistic Regression, Random forest and ada boost were chosen to look at the problem further."
   ]
  }
 ],
 "metadata": {
  "kernelspec": {
   "display_name": "Python 3",
   "language": "python",
   "name": "python3"
  },
  "language_info": {
   "codemirror_mode": {
    "name": "ipython",
    "version": 3
   },
   "file_extension": ".py",
   "mimetype": "text/x-python",
   "name": "python",
   "nbconvert_exporter": "python",
   "pygments_lexer": "ipython3",
   "version": "3.8.5"
  }
 },
 "nbformat": 4,
 "nbformat_minor": 4
}
