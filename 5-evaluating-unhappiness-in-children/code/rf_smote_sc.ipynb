{
 "cells": [
  {
   "cell_type": "markdown",
   "metadata": {},
   "source": [
    "## Modeling using Random Forest Classifier and SMOTE"
   ]
  },
  {
   "cell_type": "code",
   "execution_count": 3,
   "metadata": {},
   "outputs": [],
   "source": [
    "# imports\n",
    "import numpy as np\n",
    "import pandas as pd\n",
    "import matplotlib.pyplot as plt\n",
    "import seaborn as sns\n",
    "\n",
    "## week 3 imports\n",
    "import missingno as msno     # msno.bar(titanic);  or msno.matrix(titanic);\n",
    "import statsmodels.api as sm\n",
    "from statsmodels.formula.api import ols\n",
    "\n",
    "# Linear and general modeling imports\n",
    "from sklearn.linear_model import LinearRegression, Ridge, Lasso, ElasticNet, RidgeCV, LassoCV, ElasticNetCV\n",
    "from sklearn.model_selection import train_test_split, cross_val_score, cross_validate, GridSearchCV, RandomizedSearchCV\n",
    "from sklearn.metrics import mean_squared_error, r2_score\n",
    "\n",
    "# Feature Engineering\n",
    "from sklearn.impute import SimpleImputer   # Imputation \n",
    "from sklearn.preprocessing import StandardScaler, PolynomialFeatures   # Scale/transform/feature engineering\n",
    "\n",
    "import patsy\n",
    "# y, X = patsy.dmatrices(formula, data=diamonds, return_type='dataframe')\n",
    "\n",
    "# GridSearch and Hyperparameter Tuning\n",
    "# from sklearn.model_selection import GridSearchCV, RandomizedSearchCV\n",
    "########from sklearn.pipeline import Pipeline, make_pipeline\n",
    "from imblearn.pipeline import Pipeline, make_pipeline\n",
    "\n",
    "# Logistic and Classification metrics\n",
    "from sklearn.linear_model import LogisticRegression\n",
    "# from sklearn.model_selection import train_test_split, cross_val_score, GridSearchCV, RandomizedSearchCV\n",
    "from sklearn.metrics import confusion_matrix, ConfusionMatrixDisplay, accuracy_score, plot_roc_curve, roc_auc_score, recall_score, precision_score, f1_score, classification_report\n",
    "\n",
    "# K Nearest Neighbors\n",
    "from sklearn.neighbors import KNeighborsClassifier, KNeighborsRegressor\n",
    "# from sklearn.model_selection import train_test_split, cross_val_score\n",
    "# from sklearn.preprocessing import StandardScaler\n",
    "\n",
    "# naive bayes imports\n",
    "from sklearn.naive_bayes import MultinomialNB, BernoulliNB\n",
    "\n",
    "# SVMs\n",
    "from sklearn.svm import LinearSVC, SVC\n",
    "\n",
    "# Decision Trees\n",
    "from sklearn.tree import DecisionTreeClassifier, plot_tree, export_text\n",
    "\n",
    "# Import Bagging, Boosting, and Random Forests, and ExtraTrees (Extremely Randomized Trees)\n",
    "from sklearn.ensemble import BaggingClassifier, BaggingRegressor, AdaBoostClassifier, AdaBoostRegressor, RandomForestClassifier, RandomForestRegressor, ExtraTreesClassifier, ExtraTreesRegressor\n",
    "\n",
    "# NLP imports\n",
    "from sklearn.feature_extraction.text import CountVectorizer, TfidfVectorizer\n",
    "# nltk.download()  --> Download all, and then restart jupyter lab\n",
    "import nltk\n",
    "from nltk.tokenize import sent_tokenize, word_tokenize, RegexpTokenizer\n",
    "from nltk.stem import WordNetLemmatizer\n",
    "from nltk.stem.porter import PorterStemmer\n",
    "from nltk.corpus import stopwords\n",
    "from nltk.sentiment.vader import SentimentIntensityAnalyzer\n",
    "from nltk import FreqDist, pos_tag\n",
    "import re\n",
    "\n",
    "import json\n",
    "\n",
    "\n",
    "%matplotlib inline\n",
    "%config InlineBackend.figure_format = 'retina'"
   ]
  },
  {
   "cell_type": "code",
   "execution_count": 4,
   "metadata": {},
   "outputs": [],
   "source": [
    "# !pip install imblearn"
   ]
  },
  {
   "cell_type": "code",
   "execution_count": 5,
   "metadata": {},
   "outputs": [],
   "source": [
    "# imports SMOTE (oversampling) and undersampleing packages \n",
    "from imblearn.over_sampling import SMOTE\n",
    "from imblearn.under_sampling import RandomUnderSampler"
   ]
  },
  {
   "cell_type": "code",
   "execution_count": 6,
   "metadata": {},
   "outputs": [
    {
     "data": {
      "text/html": [
       "<div>\n",
       "<style scoped>\n",
       "    .dataframe tbody tr th:only-of-type {\n",
       "        vertical-align: middle;\n",
       "    }\n",
       "\n",
       "    .dataframe tbody tr th {\n",
       "        vertical-align: top;\n",
       "    }\n",
       "\n",
       "    .dataframe thead th {\n",
       "        text-align: right;\n",
       "    }\n",
       "</style>\n",
       "<table border=\"1\" class=\"dataframe\">\n",
       "  <thead>\n",
       "    <tr style=\"text-align: right;\">\n",
       "      <th></th>\n",
       "      <th>DUID</th>\n",
       "      <th>PID</th>\n",
       "      <th>DUPERSID</th>\n",
       "      <th>PANEL</th>\n",
       "      <th>FAMID31</th>\n",
       "      <th>FAMID42</th>\n",
       "      <th>FAMID53</th>\n",
       "      <th>FAMID17</th>\n",
       "      <th>FAMIDYR</th>\n",
       "      <th>CPSFAMID</th>\n",
       "      <th>...</th>\n",
       "      <th>RXPTR17</th>\n",
       "      <th>RXOTH17</th>\n",
       "      <th>PERWT17F</th>\n",
       "      <th>FAMWT17F</th>\n",
       "      <th>FAMWT17C</th>\n",
       "      <th>SAQWT17F</th>\n",
       "      <th>DIABW17F</th>\n",
       "      <th>CSAQW17F</th>\n",
       "      <th>VARSTR</th>\n",
       "      <th>VARPSU</th>\n",
       "    </tr>\n",
       "  </thead>\n",
       "  <tbody>\n",
       "    <tr>\n",
       "      <th>0</th>\n",
       "      <td>10001.0</td>\n",
       "      <td>101.0</td>\n",
       "      <td>10001101</td>\n",
       "      <td>21.0</td>\n",
       "      <td>A</td>\n",
       "      <td>A</td>\n",
       "      <td>A</td>\n",
       "      <td>A</td>\n",
       "      <td>A</td>\n",
       "      <td>A</td>\n",
       "      <td>...</td>\n",
       "      <td>2506.0</td>\n",
       "      <td>0.0</td>\n",
       "      <td>13494.959896</td>\n",
       "      <td>13651.501535</td>\n",
       "      <td>13651.501535</td>\n",
       "      <td>18363.716686</td>\n",
       "      <td>0.0</td>\n",
       "      <td>0.0</td>\n",
       "      <td>1021.0</td>\n",
       "      <td>1.0</td>\n",
       "    </tr>\n",
       "    <tr>\n",
       "      <th>1</th>\n",
       "      <td>10001.0</td>\n",
       "      <td>102.0</td>\n",
       "      <td>10001102</td>\n",
       "      <td>21.0</td>\n",
       "      <td>A</td>\n",
       "      <td>A</td>\n",
       "      <td>A</td>\n",
       "      <td>A</td>\n",
       "      <td>A</td>\n",
       "      <td>A</td>\n",
       "      <td>...</td>\n",
       "      <td>0.0</td>\n",
       "      <td>0.0</td>\n",
       "      <td>12031.802435</td>\n",
       "      <td>13651.501535</td>\n",
       "      <td>13651.501535</td>\n",
       "      <td>14279.941801</td>\n",
       "      <td>0.0</td>\n",
       "      <td>0.0</td>\n",
       "      <td>1021.0</td>\n",
       "      <td>1.0</td>\n",
       "    </tr>\n",
       "    <tr>\n",
       "      <th>2</th>\n",
       "      <td>10001.0</td>\n",
       "      <td>103.0</td>\n",
       "      <td>10001103</td>\n",
       "      <td>21.0</td>\n",
       "      <td>A</td>\n",
       "      <td>A</td>\n",
       "      <td>A</td>\n",
       "      <td>A</td>\n",
       "      <td>A</td>\n",
       "      <td>A</td>\n",
       "      <td>...</td>\n",
       "      <td>135.0</td>\n",
       "      <td>0.0</td>\n",
       "      <td>12308.918980</td>\n",
       "      <td>13651.501535</td>\n",
       "      <td>13651.501535</td>\n",
       "      <td>0.000000</td>\n",
       "      <td>0.0</td>\n",
       "      <td>0.0</td>\n",
       "      <td>1021.0</td>\n",
       "      <td>1.0</td>\n",
       "    </tr>\n",
       "    <tr>\n",
       "      <th>3</th>\n",
       "      <td>10001.0</td>\n",
       "      <td>104.0</td>\n",
       "      <td>10001104</td>\n",
       "      <td>21.0</td>\n",
       "      <td>A</td>\n",
       "      <td>A</td>\n",
       "      <td>A</td>\n",
       "      <td>A</td>\n",
       "      <td>A</td>\n",
       "      <td>A</td>\n",
       "      <td>...</td>\n",
       "      <td>0.0</td>\n",
       "      <td>0.0</td>\n",
       "      <td>12280.755977</td>\n",
       "      <td>13651.501535</td>\n",
       "      <td>13651.501535</td>\n",
       "      <td>0.000000</td>\n",
       "      <td>0.0</td>\n",
       "      <td>0.0</td>\n",
       "      <td>1021.0</td>\n",
       "      <td>1.0</td>\n",
       "    </tr>\n",
       "    <tr>\n",
       "      <th>4</th>\n",
       "      <td>10002.0</td>\n",
       "      <td>101.0</td>\n",
       "      <td>10002101</td>\n",
       "      <td>21.0</td>\n",
       "      <td>A</td>\n",
       "      <td>A</td>\n",
       "      <td>A</td>\n",
       "      <td>A</td>\n",
       "      <td>A</td>\n",
       "      <td>A</td>\n",
       "      <td>...</td>\n",
       "      <td>0.0</td>\n",
       "      <td>0.0</td>\n",
       "      <td>6596.640550</td>\n",
       "      <td>7113.635349</td>\n",
       "      <td>7113.635349</td>\n",
       "      <td>7427.265851</td>\n",
       "      <td>0.0</td>\n",
       "      <td>0.0</td>\n",
       "      <td>1077.0</td>\n",
       "      <td>1.0</td>\n",
       "    </tr>\n",
       "  </tbody>\n",
       "</table>\n",
       "<p>5 rows × 1564 columns</p>\n",
       "</div>"
      ],
      "text/plain": [
       "      DUID    PID  DUPERSID  PANEL FAMID31 FAMID42 FAMID53 FAMID17 FAMIDYR  \\\n",
       "0  10001.0  101.0  10001101   21.0       A       A       A       A       A   \n",
       "1  10001.0  102.0  10001102   21.0       A       A       A       A       A   \n",
       "2  10001.0  103.0  10001103   21.0       A       A       A       A       A   \n",
       "3  10001.0  104.0  10001104   21.0       A       A       A       A       A   \n",
       "4  10002.0  101.0  10002101   21.0       A       A       A       A       A   \n",
       "\n",
       "  CPSFAMID  ...  RXPTR17  RXOTH17      PERWT17F      FAMWT17F      FAMWT17C  \\\n",
       "0        A  ...   2506.0      0.0  13494.959896  13651.501535  13651.501535   \n",
       "1        A  ...      0.0      0.0  12031.802435  13651.501535  13651.501535   \n",
       "2        A  ...    135.0      0.0  12308.918980  13651.501535  13651.501535   \n",
       "3        A  ...      0.0      0.0  12280.755977  13651.501535  13651.501535   \n",
       "4        A  ...      0.0      0.0   6596.640550   7113.635349   7113.635349   \n",
       "\n",
       "       SAQWT17F  DIABW17F  CSAQW17F  VARSTR  VARPSU  \n",
       "0  18363.716686       0.0       0.0  1021.0     1.0  \n",
       "1  14279.941801       0.0       0.0  1021.0     1.0  \n",
       "2      0.000000       0.0       0.0  1021.0     1.0  \n",
       "3      0.000000       0.0       0.0  1021.0     1.0  \n",
       "4   7427.265851       0.0       0.0  1077.0     1.0  \n",
       "\n",
       "[5 rows x 1564 columns]"
      ]
     },
     "execution_count": 6,
     "metadata": {},
     "output_type": "execute_result"
    }
   ],
   "source": [
    "# Loads in the data\n",
    "df = pd.read_feather('../data/h201.feather')\n",
    "df.head()"
   ]
  },
  {
   "cell_type": "code",
   "execution_count": 7,
   "metadata": {},
   "outputs": [
    {
     "data": {
      "text/html": [
       "<div>\n",
       "<style scoped>\n",
       "    .dataframe tbody tr th:only-of-type {\n",
       "        vertical-align: middle;\n",
       "    }\n",
       "\n",
       "    .dataframe tbody tr th {\n",
       "        vertical-align: top;\n",
       "    }\n",
       "\n",
       "    .dataframe thead th {\n",
       "        text-align: right;\n",
       "    }\n",
       "</style>\n",
       "<table border=\"1\" class=\"dataframe\">\n",
       "  <thead>\n",
       "    <tr style=\"text-align: right;\">\n",
       "      <th></th>\n",
       "      <th>VARIABLE</th>\n",
       "      <th>DESCRIPTION</th>\n",
       "      <th>SOURCE</th>\n",
       "      <th>Activate</th>\n",
       "      <th>Unnamed: 4</th>\n",
       "      <th>Unnamed: 5</th>\n",
       "      <th>Unnamed: 6</th>\n",
       "      <th>Unnamed: 7</th>\n",
       "      <th>Unnamed: 8</th>\n",
       "      <th>Unnamed: 9</th>\n",
       "      <th>...</th>\n",
       "      <th>Unnamed: 40</th>\n",
       "      <th>Unnamed: 41</th>\n",
       "      <th>Unnamed: 42</th>\n",
       "      <th>Unnamed: 43</th>\n",
       "      <th>Unnamed: 44</th>\n",
       "      <th>Unnamed: 45</th>\n",
       "      <th>Unnamed: 46</th>\n",
       "      <th>Unnamed: 47</th>\n",
       "      <th>Unnamed: 48</th>\n",
       "      <th>Unnamed: 49</th>\n",
       "    </tr>\n",
       "  </thead>\n",
       "  <tbody>\n",
       "    <tr>\n",
       "      <th>0</th>\n",
       "      <td>IADLHP31</td>\n",
       "      <td>IADL Screener – RD 3/1</td>\n",
       "      <td>HE 1-3</td>\n",
       "      <td>0.0</td>\n",
       "      <td>NaN</td>\n",
       "      <td>NaN</td>\n",
       "      <td>NaN</td>\n",
       "      <td>NaN</td>\n",
       "      <td>NaN</td>\n",
       "      <td>NaN</td>\n",
       "      <td>...</td>\n",
       "      <td>NaN</td>\n",
       "      <td>NaN</td>\n",
       "      <td>NaN</td>\n",
       "      <td>NaN</td>\n",
       "      <td>NaN</td>\n",
       "      <td>NaN</td>\n",
       "      <td>NaN</td>\n",
       "      <td>NaN</td>\n",
       "      <td>NaN</td>\n",
       "      <td>NaN</td>\n",
       "    </tr>\n",
       "    <tr>\n",
       "      <th>1</th>\n",
       "      <td>ADLHLP31</td>\n",
       "      <td>ADL Screener – RD 3/1</td>\n",
       "      <td>HE 4-6</td>\n",
       "      <td>0.0</td>\n",
       "      <td>NaN</td>\n",
       "      <td>NaN</td>\n",
       "      <td>NaN</td>\n",
       "      <td>NaN</td>\n",
       "      <td>NaN</td>\n",
       "      <td>NaN</td>\n",
       "      <td>...</td>\n",
       "      <td>NaN</td>\n",
       "      <td>NaN</td>\n",
       "      <td>NaN</td>\n",
       "      <td>NaN</td>\n",
       "      <td>NaN</td>\n",
       "      <td>NaN</td>\n",
       "      <td>NaN</td>\n",
       "      <td>NaN</td>\n",
       "      <td>NaN</td>\n",
       "      <td>NaN</td>\n",
       "    </tr>\n",
       "    <tr>\n",
       "      <th>2</th>\n",
       "      <td>AIDHLP31</td>\n",
       "      <td>Used Assistive Devices – RD 3/1</td>\n",
       "      <td>HE 7-8</td>\n",
       "      <td>1.0</td>\n",
       "      <td>NaN</td>\n",
       "      <td>NaN</td>\n",
       "      <td>NaN</td>\n",
       "      <td>NaN</td>\n",
       "      <td>NaN</td>\n",
       "      <td>NaN</td>\n",
       "      <td>...</td>\n",
       "      <td>NaN</td>\n",
       "      <td>NaN</td>\n",
       "      <td>NaN</td>\n",
       "      <td>NaN</td>\n",
       "      <td>NaN</td>\n",
       "      <td>NaN</td>\n",
       "      <td>NaN</td>\n",
       "      <td>NaN</td>\n",
       "      <td>NaN</td>\n",
       "      <td>NaN</td>\n",
       "    </tr>\n",
       "    <tr>\n",
       "      <th>3</th>\n",
       "      <td>WLKLIM31</td>\n",
       "      <td>Limitation in Physical Functioning – RD 3/1</td>\n",
       "      <td>HE 9-10</td>\n",
       "      <td>1.0</td>\n",
       "      <td>NaN</td>\n",
       "      <td>NaN</td>\n",
       "      <td>NaN</td>\n",
       "      <td>NaN</td>\n",
       "      <td>NaN</td>\n",
       "      <td>NaN</td>\n",
       "      <td>...</td>\n",
       "      <td>NaN</td>\n",
       "      <td>NaN</td>\n",
       "      <td>NaN</td>\n",
       "      <td>NaN</td>\n",
       "      <td>NaN</td>\n",
       "      <td>NaN</td>\n",
       "      <td>NaN</td>\n",
       "      <td>NaN</td>\n",
       "      <td>NaN</td>\n",
       "      <td>NaN</td>\n",
       "    </tr>\n",
       "    <tr>\n",
       "      <th>4</th>\n",
       "      <td>LFTDIF31</td>\n",
       "      <td>Difficulty Lifting 10 Pounds – RD 3/1</td>\n",
       "      <td>HE 11</td>\n",
       "      <td>0.0</td>\n",
       "      <td>NaN</td>\n",
       "      <td>NaN</td>\n",
       "      <td>NaN</td>\n",
       "      <td>NaN</td>\n",
       "      <td>NaN</td>\n",
       "      <td>NaN</td>\n",
       "      <td>...</td>\n",
       "      <td>NaN</td>\n",
       "      <td>NaN</td>\n",
       "      <td>NaN</td>\n",
       "      <td>NaN</td>\n",
       "      <td>NaN</td>\n",
       "      <td>NaN</td>\n",
       "      <td>NaN</td>\n",
       "      <td>NaN</td>\n",
       "      <td>NaN</td>\n",
       "      <td>NaN</td>\n",
       "    </tr>\n",
       "  </tbody>\n",
       "</table>\n",
       "<p>5 rows × 50 columns</p>\n",
       "</div>"
      ],
      "text/plain": [
       "   VARIABLE                                  DESCRIPTION   SOURCE  Activate  \\\n",
       "0  IADLHP31                       IADL Screener – RD 3/1   HE 1-3       0.0   \n",
       "1  ADLHLP31                        ADL Screener – RD 3/1   HE 4-6       0.0   \n",
       "2  AIDHLP31              Used Assistive Devices – RD 3/1   HE 7-8       1.0   \n",
       "3  WLKLIM31  Limitation in Physical Functioning – RD 3/1  HE 9-10       1.0   \n",
       "4  LFTDIF31        Difficulty Lifting 10 Pounds – RD 3/1    HE 11       0.0   \n",
       "\n",
       "   Unnamed: 4  Unnamed: 5  Unnamed: 6  Unnamed: 7  Unnamed: 8  Unnamed: 9  \\\n",
       "0         NaN         NaN         NaN         NaN         NaN         NaN   \n",
       "1         NaN         NaN         NaN         NaN         NaN         NaN   \n",
       "2         NaN         NaN         NaN         NaN         NaN         NaN   \n",
       "3         NaN         NaN         NaN         NaN         NaN         NaN   \n",
       "4         NaN         NaN         NaN         NaN         NaN         NaN   \n",
       "\n",
       "   ...  Unnamed: 40  Unnamed: 41  Unnamed: 42  Unnamed: 43  Unnamed: 44  \\\n",
       "0  ...          NaN          NaN          NaN          NaN          NaN   \n",
       "1  ...          NaN          NaN          NaN          NaN          NaN   \n",
       "2  ...          NaN          NaN          NaN          NaN          NaN   \n",
       "3  ...          NaN          NaN          NaN          NaN          NaN   \n",
       "4  ...          NaN          NaN          NaN          NaN          NaN   \n",
       "\n",
       "   Unnamed: 45  Unnamed: 46  Unnamed: 47  Unnamed: 48  Unnamed: 49  \n",
       "0          NaN          NaN          NaN          NaN          NaN  \n",
       "1          NaN          NaN          NaN          NaN          NaN  \n",
       "2          NaN          NaN          NaN          NaN          NaN  \n",
       "3          NaN          NaN          NaN          NaN          NaN  \n",
       "4          NaN          NaN          NaN          NaN          NaN  \n",
       "\n",
       "[5 rows x 50 columns]"
      ]
     },
     "execution_count": 7,
     "metadata": {},
     "output_type": "execute_result"
    }
   ],
   "source": [
    "# Loads in health status variables dataframe of variable descriptions\n",
    "deps = pd.read_csv('../data/Health Status Variables.csv')\n",
    "deps.head()"
   ]
  },
  {
   "cell_type": "code",
   "execution_count": 8,
   "metadata": {
    "scrolled": true
   },
   "outputs": [],
   "source": [
    "# Subsets the health status variables for the ones that pertain to children\n",
    "child_vars = list(deps['VARIABLE'][30:97])\n",
    "# child_vars"
   ]
  },
  {
   "cell_type": "code",
   "execution_count": 9,
   "metadata": {},
   "outputs": [],
   "source": [
    "# Creates a list of other variables we want to add\n",
    "other_vars = ['AGELAST', 'SEX', 'RACEV2X', 'FAMINC17', 'ADHDADDX']"
   ]
  },
  {
   "cell_type": "code",
   "execution_count": 10,
   "metadata": {
    "scrolled": true
   },
   "outputs": [
    {
     "data": {
      "text/plain": [
       "['CHPMED42',\n",
       " 'CHPMHB42',\n",
       " 'CHPMCN42',\n",
       " 'CHSERV42',\n",
       " 'CHSRHB42',\n",
       " 'CHSRCN42',\n",
       " 'CHLIMI42',\n",
       " 'CHLIHB42',\n",
       " 'CHLICO42',\n",
       " 'CHTHER42',\n",
       " 'CHTHHB42',\n",
       " 'CHTHCO42',\n",
       " 'CHCOUN42',\n",
       " 'CHEMPB42',\n",
       " 'CSHCN42',\n",
       " 'MOMPRO42',\n",
       " 'DADPRO42',\n",
       " 'UNHAP42',\n",
       " 'SCHLBH42',\n",
       " 'HAVFUN42',\n",
       " 'ADUPRO42',\n",
       " 'NERVAF42',\n",
       " 'SIBPRO42',\n",
       " 'KIDPRO42',\n",
       " 'SPRPRO42',\n",
       " 'SCHPRO42',\n",
       " 'HOMEBH42',\n",
       " 'TRBLE42',\n",
       " 'CHILCR42',\n",
       " 'CHILWW42',\n",
       " 'CHRTCR42',\n",
       " 'CHRTWW42',\n",
       " 'CHAPPT42',\n",
       " 'CHNDCR42',\n",
       " 'CHENEC42',\n",
       " 'CHLIST42',\n",
       " 'CHEXPL42',\n",
       " 'CHRESP42',\n",
       " 'CHPRTM42',\n",
       " 'CHHECR42',\n",
       " 'CHSPEC42',\n",
       " 'CHEYRE42',\n",
       " 'MESHGT42',\n",
       " 'WHNHGT42',\n",
       " 'MESWGT42',\n",
       " 'WHNWGT42',\n",
       " 'CHBMIX42',\n",
       " 'MESVIS42',\n",
       " 'MESBPR42',\n",
       " 'WHNBPR42',\n",
       " 'DENTAL42',\n",
       " 'WHNDEN42',\n",
       " 'EATHLT42',\n",
       " 'WHNEAT42',\n",
       " 'PHYSCL42',\n",
       " 'WHNPHY42',\n",
       " 'SAFEST42',\n",
       " 'WHNSAF42',\n",
       " 'BOOST42',\n",
       " 'WHNBST42',\n",
       " 'LAPBLT42',\n",
       " 'WHNLAP42',\n",
       " 'HELMET42',\n",
       " 'WHNHEL42',\n",
       " 'NOSMOK42',\n",
       " 'WHNSMK42',\n",
       " 'TIMALN42',\n",
       " 'AGELAST',\n",
       " 'SEX',\n",
       " 'RACEV2X',\n",
       " 'FAMINC17',\n",
       " 'ADHDADDX']"
      ]
     },
     "execution_count": 10,
     "metadata": {},
     "output_type": "execute_result"
    }
   ],
   "source": [
    "# Combines the child variables with additional other variables we want to add\n",
    "child_vars = child_vars + other_vars\n",
    "child_vars"
   ]
  },
  {
   "cell_type": "code",
   "execution_count": 11,
   "metadata": {},
   "outputs": [
    {
     "data": {
      "text/html": [
       "<div>\n",
       "<style scoped>\n",
       "    .dataframe tbody tr th:only-of-type {\n",
       "        vertical-align: middle;\n",
       "    }\n",
       "\n",
       "    .dataframe tbody tr th {\n",
       "        vertical-align: top;\n",
       "    }\n",
       "\n",
       "    .dataframe thead th {\n",
       "        text-align: right;\n",
       "    }\n",
       "</style>\n",
       "<table border=\"1\" class=\"dataframe\">\n",
       "  <thead>\n",
       "    <tr style=\"text-align: right;\">\n",
       "      <th></th>\n",
       "      <th>CHPMED42</th>\n",
       "      <th>CHPMHB42</th>\n",
       "      <th>CHPMCN42</th>\n",
       "      <th>CHSERV42</th>\n",
       "      <th>CHSRHB42</th>\n",
       "      <th>CHSRCN42</th>\n",
       "      <th>CHLIMI42</th>\n",
       "      <th>CHLIHB42</th>\n",
       "      <th>CHLICO42</th>\n",
       "      <th>CHTHER42</th>\n",
       "      <th>...</th>\n",
       "      <th>HELMET42</th>\n",
       "      <th>WHNHEL42</th>\n",
       "      <th>NOSMOK42</th>\n",
       "      <th>WHNSMK42</th>\n",
       "      <th>TIMALN42</th>\n",
       "      <th>AGELAST</th>\n",
       "      <th>SEX</th>\n",
       "      <th>RACEV2X</th>\n",
       "      <th>FAMINC17</th>\n",
       "      <th>ADHDADDX</th>\n",
       "    </tr>\n",
       "  </thead>\n",
       "  <tbody>\n",
       "    <tr>\n",
       "      <th>2</th>\n",
       "      <td>2.0</td>\n",
       "      <td>-1.0</td>\n",
       "      <td>-1.0</td>\n",
       "      <td>2.0</td>\n",
       "      <td>-1.0</td>\n",
       "      <td>-1.0</td>\n",
       "      <td>2.0</td>\n",
       "      <td>-1.0</td>\n",
       "      <td>-1.0</td>\n",
       "      <td>2.0</td>\n",
       "      <td>...</td>\n",
       "      <td>2.0</td>\n",
       "      <td>-1.0</td>\n",
       "      <td>2.0</td>\n",
       "      <td>-1.0</td>\n",
       "      <td>2.0</td>\n",
       "      <td>17.0</td>\n",
       "      <td>1.0</td>\n",
       "      <td>1.0</td>\n",
       "      <td>125300.0</td>\n",
       "      <td>2.0</td>\n",
       "    </tr>\n",
       "    <tr>\n",
       "      <th>3</th>\n",
       "      <td>1.0</td>\n",
       "      <td>1.0</td>\n",
       "      <td>1.0</td>\n",
       "      <td>2.0</td>\n",
       "      <td>-1.0</td>\n",
       "      <td>-1.0</td>\n",
       "      <td>2.0</td>\n",
       "      <td>-1.0</td>\n",
       "      <td>-1.0</td>\n",
       "      <td>2.0</td>\n",
       "      <td>...</td>\n",
       "      <td>2.0</td>\n",
       "      <td>-1.0</td>\n",
       "      <td>2.0</td>\n",
       "      <td>-1.0</td>\n",
       "      <td>2.0</td>\n",
       "      <td>14.0</td>\n",
       "      <td>1.0</td>\n",
       "      <td>1.0</td>\n",
       "      <td>125300.0</td>\n",
       "      <td>2.0</td>\n",
       "    </tr>\n",
       "    <tr>\n",
       "      <th>9</th>\n",
       "      <td>2.0</td>\n",
       "      <td>-1.0</td>\n",
       "      <td>-1.0</td>\n",
       "      <td>2.0</td>\n",
       "      <td>-1.0</td>\n",
       "      <td>-1.0</td>\n",
       "      <td>2.0</td>\n",
       "      <td>-1.0</td>\n",
       "      <td>-1.0</td>\n",
       "      <td>2.0</td>\n",
       "      <td>...</td>\n",
       "      <td>1.0</td>\n",
       "      <td>1.0</td>\n",
       "      <td>2.0</td>\n",
       "      <td>-1.0</td>\n",
       "      <td>-1.0</td>\n",
       "      <td>10.0</td>\n",
       "      <td>2.0</td>\n",
       "      <td>2.0</td>\n",
       "      <td>235653.0</td>\n",
       "      <td>2.0</td>\n",
       "    </tr>\n",
       "    <tr>\n",
       "      <th>13</th>\n",
       "      <td>1.0</td>\n",
       "      <td>1.0</td>\n",
       "      <td>1.0</td>\n",
       "      <td>2.0</td>\n",
       "      <td>-1.0</td>\n",
       "      <td>-1.0</td>\n",
       "      <td>2.0</td>\n",
       "      <td>-1.0</td>\n",
       "      <td>-1.0</td>\n",
       "      <td>2.0</td>\n",
       "      <td>...</td>\n",
       "      <td>2.0</td>\n",
       "      <td>-1.0</td>\n",
       "      <td>2.0</td>\n",
       "      <td>-1.0</td>\n",
       "      <td>2.0</td>\n",
       "      <td>12.0</td>\n",
       "      <td>2.0</td>\n",
       "      <td>1.0</td>\n",
       "      <td>18616.0</td>\n",
       "      <td>1.0</td>\n",
       "    </tr>\n",
       "    <tr>\n",
       "      <th>14</th>\n",
       "      <td>1.0</td>\n",
       "      <td>1.0</td>\n",
       "      <td>1.0</td>\n",
       "      <td>2.0</td>\n",
       "      <td>-1.0</td>\n",
       "      <td>-1.0</td>\n",
       "      <td>2.0</td>\n",
       "      <td>-1.0</td>\n",
       "      <td>-1.0</td>\n",
       "      <td>2.0</td>\n",
       "      <td>...</td>\n",
       "      <td>2.0</td>\n",
       "      <td>-1.0</td>\n",
       "      <td>2.0</td>\n",
       "      <td>-1.0</td>\n",
       "      <td>-1.0</td>\n",
       "      <td>11.0</td>\n",
       "      <td>1.0</td>\n",
       "      <td>1.0</td>\n",
       "      <td>18616.0</td>\n",
       "      <td>1.0</td>\n",
       "    </tr>\n",
       "    <tr>\n",
       "      <th>...</th>\n",
       "      <td>...</td>\n",
       "      <td>...</td>\n",
       "      <td>...</td>\n",
       "      <td>...</td>\n",
       "      <td>...</td>\n",
       "      <td>...</td>\n",
       "      <td>...</td>\n",
       "      <td>...</td>\n",
       "      <td>...</td>\n",
       "      <td>...</td>\n",
       "      <td>...</td>\n",
       "      <td>...</td>\n",
       "      <td>...</td>\n",
       "      <td>...</td>\n",
       "      <td>...</td>\n",
       "      <td>...</td>\n",
       "      <td>...</td>\n",
       "      <td>...</td>\n",
       "      <td>...</td>\n",
       "      <td>...</td>\n",
       "      <td>...</td>\n",
       "    </tr>\n",
       "    <tr>\n",
       "      <th>31867</th>\n",
       "      <td>2.0</td>\n",
       "      <td>-1.0</td>\n",
       "      <td>-1.0</td>\n",
       "      <td>2.0</td>\n",
       "      <td>-1.0</td>\n",
       "      <td>-1.0</td>\n",
       "      <td>2.0</td>\n",
       "      <td>-1.0</td>\n",
       "      <td>-1.0</td>\n",
       "      <td>2.0</td>\n",
       "      <td>...</td>\n",
       "      <td>2.0</td>\n",
       "      <td>-1.0</td>\n",
       "      <td>1.0</td>\n",
       "      <td>2.0</td>\n",
       "      <td>-1.0</td>\n",
       "      <td>6.0</td>\n",
       "      <td>2.0</td>\n",
       "      <td>1.0</td>\n",
       "      <td>84000.0</td>\n",
       "      <td>2.0</td>\n",
       "    </tr>\n",
       "    <tr>\n",
       "      <th>31870</th>\n",
       "      <td>2.0</td>\n",
       "      <td>-1.0</td>\n",
       "      <td>-1.0</td>\n",
       "      <td>2.0</td>\n",
       "      <td>-1.0</td>\n",
       "      <td>-1.0</td>\n",
       "      <td>2.0</td>\n",
       "      <td>-1.0</td>\n",
       "      <td>-1.0</td>\n",
       "      <td>2.0</td>\n",
       "      <td>...</td>\n",
       "      <td>1.0</td>\n",
       "      <td>3.0</td>\n",
       "      <td>1.0</td>\n",
       "      <td>3.0</td>\n",
       "      <td>-1.0</td>\n",
       "      <td>9.0</td>\n",
       "      <td>2.0</td>\n",
       "      <td>1.0</td>\n",
       "      <td>650.0</td>\n",
       "      <td>2.0</td>\n",
       "    </tr>\n",
       "    <tr>\n",
       "      <th>31871</th>\n",
       "      <td>2.0</td>\n",
       "      <td>-1.0</td>\n",
       "      <td>-1.0</td>\n",
       "      <td>2.0</td>\n",
       "      <td>-1.0</td>\n",
       "      <td>-1.0</td>\n",
       "      <td>2.0</td>\n",
       "      <td>-1.0</td>\n",
       "      <td>-1.0</td>\n",
       "      <td>2.0</td>\n",
       "      <td>...</td>\n",
       "      <td>1.0</td>\n",
       "      <td>3.0</td>\n",
       "      <td>1.0</td>\n",
       "      <td>3.0</td>\n",
       "      <td>-1.0</td>\n",
       "      <td>5.0</td>\n",
       "      <td>1.0</td>\n",
       "      <td>1.0</td>\n",
       "      <td>650.0</td>\n",
       "      <td>2.0</td>\n",
       "    </tr>\n",
       "    <tr>\n",
       "      <th>31878</th>\n",
       "      <td>2.0</td>\n",
       "      <td>-1.0</td>\n",
       "      <td>-1.0</td>\n",
       "      <td>2.0</td>\n",
       "      <td>-1.0</td>\n",
       "      <td>-1.0</td>\n",
       "      <td>2.0</td>\n",
       "      <td>-1.0</td>\n",
       "      <td>-1.0</td>\n",
       "      <td>2.0</td>\n",
       "      <td>...</td>\n",
       "      <td>2.0</td>\n",
       "      <td>-1.0</td>\n",
       "      <td>2.0</td>\n",
       "      <td>-1.0</td>\n",
       "      <td>1.0</td>\n",
       "      <td>13.0</td>\n",
       "      <td>2.0</td>\n",
       "      <td>1.0</td>\n",
       "      <td>268351.0</td>\n",
       "      <td>2.0</td>\n",
       "    </tr>\n",
       "    <tr>\n",
       "      <th>31879</th>\n",
       "      <td>1.0</td>\n",
       "      <td>1.0</td>\n",
       "      <td>1.0</td>\n",
       "      <td>2.0</td>\n",
       "      <td>-1.0</td>\n",
       "      <td>-1.0</td>\n",
       "      <td>2.0</td>\n",
       "      <td>-1.0</td>\n",
       "      <td>-1.0</td>\n",
       "      <td>2.0</td>\n",
       "      <td>...</td>\n",
       "      <td>2.0</td>\n",
       "      <td>-1.0</td>\n",
       "      <td>2.0</td>\n",
       "      <td>-1.0</td>\n",
       "      <td>-1.0</td>\n",
       "      <td>10.0</td>\n",
       "      <td>1.0</td>\n",
       "      <td>1.0</td>\n",
       "      <td>268351.0</td>\n",
       "      <td>2.0</td>\n",
       "    </tr>\n",
       "  </tbody>\n",
       "</table>\n",
       "<p>6155 rows × 72 columns</p>\n",
       "</div>"
      ],
      "text/plain": [
       "       CHPMED42  CHPMHB42  CHPMCN42  CHSERV42  CHSRHB42  CHSRCN42  CHLIMI42  \\\n",
       "2           2.0      -1.0      -1.0       2.0      -1.0      -1.0       2.0   \n",
       "3           1.0       1.0       1.0       2.0      -1.0      -1.0       2.0   \n",
       "9           2.0      -1.0      -1.0       2.0      -1.0      -1.0       2.0   \n",
       "13          1.0       1.0       1.0       2.0      -1.0      -1.0       2.0   \n",
       "14          1.0       1.0       1.0       2.0      -1.0      -1.0       2.0   \n",
       "...         ...       ...       ...       ...       ...       ...       ...   \n",
       "31867       2.0      -1.0      -1.0       2.0      -1.0      -1.0       2.0   \n",
       "31870       2.0      -1.0      -1.0       2.0      -1.0      -1.0       2.0   \n",
       "31871       2.0      -1.0      -1.0       2.0      -1.0      -1.0       2.0   \n",
       "31878       2.0      -1.0      -1.0       2.0      -1.0      -1.0       2.0   \n",
       "31879       1.0       1.0       1.0       2.0      -1.0      -1.0       2.0   \n",
       "\n",
       "       CHLIHB42  CHLICO42  CHTHER42  ...  HELMET42  WHNHEL42  NOSMOK42  \\\n",
       "2          -1.0      -1.0       2.0  ...       2.0      -1.0       2.0   \n",
       "3          -1.0      -1.0       2.0  ...       2.0      -1.0       2.0   \n",
       "9          -1.0      -1.0       2.0  ...       1.0       1.0       2.0   \n",
       "13         -1.0      -1.0       2.0  ...       2.0      -1.0       2.0   \n",
       "14         -1.0      -1.0       2.0  ...       2.0      -1.0       2.0   \n",
       "...         ...       ...       ...  ...       ...       ...       ...   \n",
       "31867      -1.0      -1.0       2.0  ...       2.0      -1.0       1.0   \n",
       "31870      -1.0      -1.0       2.0  ...       1.0       3.0       1.0   \n",
       "31871      -1.0      -1.0       2.0  ...       1.0       3.0       1.0   \n",
       "31878      -1.0      -1.0       2.0  ...       2.0      -1.0       2.0   \n",
       "31879      -1.0      -1.0       2.0  ...       2.0      -1.0       2.0   \n",
       "\n",
       "       WHNSMK42  TIMALN42  AGELAST  SEX  RACEV2X  FAMINC17  ADHDADDX  \n",
       "2          -1.0       2.0     17.0  1.0      1.0  125300.0       2.0  \n",
       "3          -1.0       2.0     14.0  1.0      1.0  125300.0       2.0  \n",
       "9          -1.0      -1.0     10.0  2.0      2.0  235653.0       2.0  \n",
       "13         -1.0       2.0     12.0  2.0      1.0   18616.0       1.0  \n",
       "14         -1.0      -1.0     11.0  1.0      1.0   18616.0       1.0  \n",
       "...         ...       ...      ...  ...      ...       ...       ...  \n",
       "31867       2.0      -1.0      6.0  2.0      1.0   84000.0       2.0  \n",
       "31870       3.0      -1.0      9.0  2.0      1.0     650.0       2.0  \n",
       "31871       3.0      -1.0      5.0  1.0      1.0     650.0       2.0  \n",
       "31878      -1.0       1.0     13.0  2.0      1.0  268351.0       2.0  \n",
       "31879      -1.0      -1.0     10.0  1.0      1.0  268351.0       2.0  \n",
       "\n",
       "[6155 rows x 72 columns]"
      ]
     },
     "execution_count": 11,
     "metadata": {},
     "output_type": "execute_result"
    }
   ],
   "source": [
    "# Filters the age of children between 5-17\n",
    "child_df = df.loc[(df['AGELAST'] <= 17) & (df['AGELAST'] >= 5), child_vars]\n",
    "child_df"
   ]
  },
  {
   "cell_type": "code",
   "execution_count": 12,
   "metadata": {},
   "outputs": [
    {
     "data": {
      "text/plain": [
       " 0.0     4358\n",
       " 1.0      879\n",
       " 2.0      499\n",
       "-1.0      195\n",
       " 3.0      119\n",
       " 4.0       65\n",
       "-7.0       19\n",
       "-8.0        8\n",
       "-9.0        7\n",
       " 99.0       6\n",
       "Name: UNHAP42, dtype: int64"
      ]
     },
     "execution_count": 12,
     "metadata": {},
     "output_type": "execute_result"
    }
   ],
   "source": [
    "# Checks the baseline/class balance of target variable\n",
    "child_df['UNHAP42'].value_counts()"
   ]
  },
  {
   "cell_type": "code",
   "execution_count": 13,
   "metadata": {},
   "outputs": [],
   "source": [
    "# filters the target variable to be between 0 and 4\n",
    "hap_filter =(child_df['UNHAP42'] >= 0) & (child_df['UNHAP42'] <= 4)\n",
    "child_df = child_df[hap_filter]"
   ]
  },
  {
   "cell_type": "code",
   "execution_count": 14,
   "metadata": {},
   "outputs": [
    {
     "name": "stderr",
     "output_type": "stream",
     "text": [
      "<ipython-input-14-a1b61958f7cf>:2: SettingWithCopyWarning: \n",
      "A value is trying to be set on a copy of a slice from a DataFrame.\n",
      "Try using .loc[row_indexer,col_indexer] = value instead\n",
      "\n",
      "See the caveats in the documentation: https://pandas.pydata.org/pandas-docs/stable/user_guide/indexing.html#returning-a-view-versus-a-copy\n",
      "  child_df['UNHAP42'] = child_df['UNHAP42'].map({0:0, 1:1, 2:1, 3:1, 4:1})\n"
     ]
    }
   ],
   "source": [
    "# Re-assigns the response variable into binary classes\n",
    "child_df['UNHAP42'] = child_df['UNHAP42'].map({0:0, 1:1, 2:1, 3:1, 4:1})"
   ]
  },
  {
   "cell_type": "code",
   "execution_count": 15,
   "metadata": {},
   "outputs": [
    {
     "data": {
      "text/plain": [
       "0    0.736149\n",
       "1    0.263851\n",
       "Name: UNHAP42, dtype: float64"
      ]
     },
     "execution_count": 15,
     "metadata": {},
     "output_type": "execute_result"
    }
   ],
   "source": [
    "# Rechecks the balance/baseline of the target variable\n",
    "child_df['UNHAP42'].value_counts(normalize=True)"
   ]
  },
  {
   "cell_type": "code",
   "execution_count": null,
   "metadata": {},
   "outputs": [],
   "source": []
  },
  {
   "cell_type": "markdown",
   "metadata": {},
   "source": [
    "#### Modeling with Random Forest and SMOTE"
   ]
  },
  {
   "cell_type": "markdown",
   "metadata": {},
   "source": [
    "Best params: (found when doing regular random forest grid search in other notebook)\n",
    "* {'max_depth': 10,\n",
    "* 'min_samples_leaf': 2,\n",
    "* 'min_samples_split': 3,\n",
    "* 'n_estimators': 307}"
   ]
  },
  {
   "cell_type": "code",
   "execution_count": 16,
   "metadata": {},
   "outputs": [],
   "source": [
    "# Sets up X and y\n",
    "X = child_df.drop(columns='UNHAP42')\n",
    "y = child_df['UNHAP42']"
   ]
  },
  {
   "cell_type": "code",
   "execution_count": 17,
   "metadata": {},
   "outputs": [
    {
     "data": {
      "text/plain": [
       "(5920, 71)"
      ]
     },
     "execution_count": 17,
     "metadata": {},
     "output_type": "execute_result"
    }
   ],
   "source": [
    "X.shape"
   ]
  },
  {
   "cell_type": "code",
   "execution_count": 18,
   "metadata": {},
   "outputs": [],
   "source": [
    "# TTS\n",
    "X_train, X_test, y_train, y_test = train_test_split(X, y, \n",
    "                                                    stratify=y, \n",
    "                                                    random_state=42)"
   ]
  },
  {
   "cell_type": "code",
   "execution_count": 19,
   "metadata": {},
   "outputs": [],
   "source": [
    "# sc = StandardScaler()\n",
    "# X_train = sc.fit_transform(X_train)\n",
    "# X_test = sc.transform(X_test)"
   ]
  },
  {
   "cell_type": "code",
   "execution_count": 20,
   "metadata": {},
   "outputs": [],
   "source": [
    "rf = RandomForestClassifier(n_estimators=307, \n",
    "                            max_depth=10, \n",
    "                            min_samples_leaf=2,\n",
    "                            min_samples_split=3,\n",
    "                            random_state=42)\n",
    "\n",
    "# rf = RandomForestClassifier(max_depth=10, \n",
    "#                             random_state=42)"
   ]
  },
  {
   "cell_type": "code",
   "execution_count": 21,
   "metadata": {},
   "outputs": [
    {
     "data": {
      "text/plain": [
       "RandomForestClassifier(max_depth=10, min_samples_leaf=2, min_samples_split=3,\n",
       "                       n_estimators=307, random_state=42)"
      ]
     },
     "execution_count": 21,
     "metadata": {},
     "output_type": "execute_result"
    }
   ],
   "source": [
    "rf.fit(X_train, y_train)"
   ]
  },
  {
   "cell_type": "code",
   "execution_count": 22,
   "metadata": {},
   "outputs": [
    {
     "data": {
      "text/plain": [
       "(0.9245495495495496, 0.8439189189189189)"
      ]
     },
     "execution_count": 22,
     "metadata": {},
     "output_type": "execute_result"
    }
   ],
   "source": [
    "rf.score(X_train, y_train), rf.score(X_test, y_test)"
   ]
  },
  {
   "cell_type": "markdown",
   "metadata": {},
   "source": [
    "**Instantiating SMOTE**"
   ]
  },
  {
   "cell_type": "code",
   "execution_count": 23,
   "metadata": {},
   "outputs": [
    {
     "name": "stdout",
     "output_type": "stream",
     "text": [
      "Resampled dataset shape Counter({0: 3267, 1: 1307})\n"
     ]
    },
    {
     "data": {
      "text/plain": [
       "(0.9271972015741146, 0.8439189189189189)"
      ]
     },
     "execution_count": 23,
     "metadata": {},
     "output_type": "execute_result"
    }
   ],
   "source": [
    "from collections import Counter\n",
    "smote = SMOTE(sampling_strategy=0.4, random_state=42)\n",
    "under = RandomUnderSampler(sampling_strategy=0.4, random_state=42)\n",
    "X_train_res, y_train_res = smote.fit_resample(X_train, y_train)\n",
    "X_train_res, y_train_res = under.fit_resample(X_train_res, y_train_res)\n",
    "print('Resampled dataset shape %s' % Counter(y_train_res))\n",
    "rf.fit(X_train_res, y_train_res)\n",
    "rf.score(X_train_res, y_train_res), rf.score(X_test, y_test)"
   ]
  },
  {
   "cell_type": "markdown",
   "metadata": {},
   "source": [
    "#### SMOTE in Pipeline"
   ]
  },
  {
   "cell_type": "code",
   "execution_count": 24,
   "metadata": {},
   "outputs": [],
   "source": [
    "# Instantiates the pipeline for using SMOTE\n",
    "pipe = Pipeline([\n",
    "    ('over', SMOTE(sampling_strategy=0.8, random_state=42)), \n",
    "    ('under',RandomUnderSampler(sampling_strategy=0.8, random_state=42)), \n",
    "    ('rf', RandomForestClassifier(n_estimators=307, \n",
    "                                  max_depth=10, \n",
    "                                  min_samples_leaf=2,\n",
    "                                  min_samples_split=3,\n",
    "                                  random_state=42))\n",
    "])"
   ]
  },
  {
   "cell_type": "code",
   "execution_count": 25,
   "metadata": {},
   "outputs": [
    {
     "data": {
      "text/plain": [
       "Pipeline(steps=[('over', SMOTE(random_state=42, sampling_strategy=0.8)),\n",
       "                ('under',\n",
       "                 RandomUnderSampler(random_state=42, sampling_strategy=0.8)),\n",
       "                ('rf',\n",
       "                 RandomForestClassifier(max_depth=10, min_samples_leaf=2,\n",
       "                                        min_samples_split=3, n_estimators=307,\n",
       "                                        random_state=42))])"
      ]
     },
     "execution_count": 25,
     "metadata": {},
     "output_type": "execute_result"
    }
   ],
   "source": [
    "# Fits the data to SMOTE (oversampe minority, undersample majority, random forest model)\n",
    "pipe.fit(X_train, y_train)"
   ]
  },
  {
   "cell_type": "code",
   "execution_count": 26,
   "metadata": {},
   "outputs": [
    {
     "data": {
      "text/plain": [
       "(0.9274774774774774, 0.8472972972972973)"
      ]
     },
     "execution_count": 26,
     "metadata": {},
     "output_type": "execute_result"
    }
   ],
   "source": [
    "# sampling strategy = 0.8 for both over and under sampling\n",
    "pipe.score(X_train, y_train), pipe.score(X_test, y_test)"
   ]
  },
  {
   "cell_type": "code",
   "execution_count": 27,
   "metadata": {},
   "outputs": [],
   "source": [
    "# Gets predictions from pipe model.\n",
    "pipe_preds = pipe.predict(X_test)"
   ]
  },
  {
   "cell_type": "code",
   "execution_count": 28,
   "metadata": {},
   "outputs": [
    {
     "data": {
      "text/plain": [
       "0.7777699364855328"
      ]
     },
     "execution_count": 28,
     "metadata": {},
     "output_type": "execute_result"
    }
   ],
   "source": [
    "# Finds the AUC score\n",
    "roc_auc_score(y_test, pipe_preds)"
   ]
  },
  {
   "cell_type": "code",
   "execution_count": 29,
   "metadata": {},
   "outputs": [
    {
     "data": {
      "image/png": "[encoded data removed]",
      "text/plain": [
       "<Figure size 720x720 with 2 Axes>"
      ]
     },
     "metadata": {
      "image/png": {
       "height": 559,
       "width": 658
      }
     },
     "output_type": "display_data"
    }
   ],
   "source": [
    "# Confusion matrix with pipe model predictions\n",
    "sns.set(font_scale=1.5)\n",
    "cm = confusion_matrix(y_test, pipe_preds)\n",
    "fig, ax = plt.subplots(figsize=(10,10))\n",
    "ConfusionMatrixDisplay(cm).plot(ax=ax)\n",
    "plt.title('Confusion Matrix')\n",
    "ax.set_xticklabels(['Happy', 'Unhappy'])\n",
    "ax.set_yticklabels(['Happy', 'Unhappy']);"
   ]
  },
  {
   "cell_type": "code",
   "execution_count": 32,
   "metadata": {},
   "outputs": [
    {
     "data": {
      "image/png": "[encoded data removed]",
      "text/plain": [
       "<Figure size 432x288 with 1 Axes>"
      ]
     },
     "metadata": {
      "image/png": {
       "height": 251,
       "width": 421
      }
     },
     "output_type": "display_data"
    }
   ],
   "source": [
    "# The feature importances \n",
    "sns.set(font_scale=1.0)\n",
    "features = X.columns\n",
    "feat_imp = pipe.named_steps['rf'].feature_importances_\n",
    "\n",
    "importance_dict = pd.DataFrame({'feature_importance': feat_imp,\n",
    "                                'features': features})\n",
    "top = importance_dict.nlargest(20, columns=['feature_importance'])\n",
    "\n",
    "plt.barh(top['features'], top['feature_importance']);\n",
    "plt.savefig('../charts_graphs/rf_smote_featImp.jpg')"
   ]
  },
  {
   "cell_type": "code",
   "execution_count": null,
   "metadata": {},
   "outputs": [],
   "source": []
  },
  {
   "cell_type": "markdown",
   "metadata": {},
   "source": [
    "#### SMOTE in GridSearchCV"
   ]
  },
  {
   "cell_type": "code",
   "execution_count": 72,
   "metadata": {},
   "outputs": [],
   "source": [
    "# Instantiates the pipeline for using SMOTE\n",
    "pipe = Pipeline([\n",
    "    ('over', SMOTE(random_state=42)), \n",
    "    ('under',RandomUnderSampler(random_state=42)), \n",
    "    ('rf', RandomForestClassifier(n_estimators=307, \n",
    "                                  max_depth=10, \n",
    "                                  min_samples_leaf=2,\n",
    "                                  min_samples_split=3,\n",
    "                                  random_state=42))\n",
    "])"
   ]
  },
  {
   "cell_type": "code",
   "execution_count": 73,
   "metadata": {},
   "outputs": [],
   "source": [
    "# sets the pipe params\n",
    "pipe_params = {'over__sampling_strategy':[0.4, 0.5, 0.6, 0.7, 0.8, 0.9, 1.0],\n",
    "               'under__sampling_strategy' : [0.4, 0.5, 0.6, 0.7, 0.8, 0.9, 1.0],  \n",
    "              }"
   ]
  },
  {
   "cell_type": "code",
   "execution_count": 74,
   "metadata": {},
   "outputs": [],
   "source": [
    "# Instantiates the gridsearch\n",
    "gs = GridSearchCV(pipe, \n",
    "                  param_grid=pipe_params,\n",
    "                  cv=3, \n",
    "                  verbose=1,\n",
    "                  n_jobs=4)"
   ]
  },
  {
   "cell_type": "code",
   "execution_count": 75,
   "metadata": {},
   "outputs": [
    {
     "name": "stdout",
     "output_type": "stream",
     "text": [
      "Fitting 3 folds for each of 49 candidates, totalling 147 fits\n"
     ]
    },
    {
     "name": "stderr",
     "output_type": "stream",
     "text": [
      "C:\\Users\\snchu\\anaconda3\\lib\\site-packages\\sklearn\\model_selection\\_search.py:918: UserWarning: One or more of the test scores are non-finite: [0.84324324 0.84369369 0.83806306 0.83220721 0.82545045 0.82027027\n",
      " 0.81283784        nan 0.84144144 0.84144144 0.84031532 0.83581081\n",
      " 0.8286036  0.82342342        nan        nan 0.84414414 0.84121622\n",
      " 0.83738739 0.83851351 0.83265766        nan        nan        nan\n",
      " 0.84346847 0.84009009 0.83851351 0.83378378        nan        nan\n",
      "        nan        nan 0.84504505 0.84279279 0.84031532        nan\n",
      "        nan        nan        nan        nan 0.84144144 0.83918919\n",
      "        nan        nan        nan        nan        nan        nan\n",
      " 0.84054054]\n",
      "  warnings.warn(\n"
     ]
    },
    {
     "data": {
      "text/plain": [
       "GridSearchCV(cv=3,\n",
       "             estimator=Pipeline(steps=[('over', SMOTE(random_state=42)),\n",
       "                                       ('under',\n",
       "                                        RandomUnderSampler(random_state=42)),\n",
       "                                       ('rf',\n",
       "                                        RandomForestClassifier(max_depth=10,\n",
       "                                                               min_samples_leaf=2,\n",
       "                                                               min_samples_split=3,\n",
       "                                                               n_estimators=307,\n",
       "                                                               random_state=42))]),\n",
       "             n_jobs=4,\n",
       "             param_grid={'over__sampling_strategy': [0.4, 0.5, 0.6, 0.7, 0.8,\n",
       "                                                     0.9, 1.0],\n",
       "                         'under__sampling_strategy': [0.4, 0.5, 0.6, 0.7, 0.8,\n",
       "                                                      0.9, 1.0]},\n",
       "             verbose=1)"
      ]
     },
     "execution_count": 75,
     "metadata": {},
     "output_type": "execute_result"
    }
   ],
   "source": [
    "# Fits the data to the gridsearch \n",
    "gs.fit(X_train, y_train)"
   ]
  },
  {
   "cell_type": "code",
   "execution_count": 76,
   "metadata": {},
   "outputs": [
    {
     "data": {
      "text/plain": [
       "(0.9220720720720721, 0.8452702702702702)"
      ]
     },
     "execution_count": 76,
     "metadata": {},
     "output_type": "execute_result"
    }
   ],
   "source": [
    "# Evaluates the gridsearch scores\n",
    "gs.score(X_train, y_train), gs.score(X_test, y_test)"
   ]
  },
  {
   "cell_type": "code",
   "execution_count": 77,
   "metadata": {},
   "outputs": [
    {
     "data": {
      "text/plain": [
       "0.8450450450450452"
      ]
     },
     "execution_count": 77,
     "metadata": {},
     "output_type": "execute_result"
    }
   ],
   "source": [
    "# Best gridsearch cross-validated score\n",
    "gs.best_score_"
   ]
  },
  {
   "cell_type": "code",
   "execution_count": 78,
   "metadata": {},
   "outputs": [
    {
     "data": {
      "text/plain": [
       "{'over__sampling_strategy': 0.8, 'under__sampling_strategy': 0.8}"
      ]
     },
     "execution_count": 78,
     "metadata": {},
     "output_type": "execute_result"
    }
   ],
   "source": [
    "# Best gridsearch params for over sampling and undersampling strategy\n",
    "gs.best_params_"
   ]
  },
  {
   "cell_type": "code",
   "execution_count": null,
   "metadata": {},
   "outputs": [],
   "source": []
  }
 ],
 "metadata": {
  "kernelspec": {
   "display_name": "Python 3",
   "language": "python",
   "name": "python3"
  },
  "language_info": {
   "codemirror_mode": {
    "name": "ipython",
    "version": 3
   },
   "file_extension": ".py",
   "mimetype": "text/x-python",
   "name": "python",
   "nbconvert_exporter": "python",
   "pygments_lexer": "ipython3",
   "version": "3.8.5"
  }
 },
 "nbformat": 4,
 "nbformat_minor": 4
}
