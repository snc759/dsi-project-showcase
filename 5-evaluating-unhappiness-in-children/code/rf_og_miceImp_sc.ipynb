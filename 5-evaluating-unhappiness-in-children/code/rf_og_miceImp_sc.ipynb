{
 "cells": [
  {
   "cell_type": "markdown",
   "metadata": {},
   "source": [
    "### Trying Imputation with MICE on Random Forest Model"
   ]
  },
  {
   "cell_type": "code",
   "execution_count": 2,
   "metadata": {},
   "outputs": [],
   "source": [
    "# imports\n",
    "import numpy as np\n",
    "import pandas as pd\n",
    "import matplotlib.pyplot as plt\n",
    "import seaborn as sns\n",
    "\n",
    "## week 3 imports\n",
    "import missingno as msno     # msno.bar(titanic);  or msno.matrix(titanic);\n",
    "import statsmodels.api as sm\n",
    "from statsmodels.formula.api import ols\n",
    "\n",
    "# Linear and general modeling imports\n",
    "from sklearn.linear_model import LinearRegression, Ridge, Lasso, ElasticNet, RidgeCV, LassoCV, ElasticNetCV\n",
    "from sklearn.model_selection import train_test_split, cross_val_score, cross_validate, GridSearchCV, RandomizedSearchCV\n",
    "from sklearn.metrics import mean_squared_error, r2_score\n",
    "\n",
    "# Feature Engineering\n",
    "from sklearn.impute import SimpleImputer   # Imputation \n",
    "from sklearn.preprocessing import StandardScaler, PolynomialFeatures   # Scale/transform/feature engineering\n",
    "\n",
    "import patsy\n",
    "# y, X = patsy.dmatrices(formula, data=diamonds, return_type='dataframe')\n",
    "\n",
    "# GridSearch and Hyperparameter Tuning\n",
    "# from sklearn.model_selection import GridSearchCV, RandomizedSearchCV\n",
    "########from sklearn.pipeline import Pipeline, make_pipeline\n",
    "from imblearn.pipeline import Pipeline, make_pipeline\n",
    "\n",
    "# Logistic and Classification metrics\n",
    "from sklearn.linear_model import LogisticRegression\n",
    "# from sklearn.model_selection import train_test_split, cross_val_score, GridSearchCV, RandomizedSearchCV\n",
    "from sklearn.metrics import confusion_matrix, ConfusionMatrixDisplay, accuracy_score, plot_roc_curve, roc_auc_score, recall_score, precision_score, f1_score, classification_report\n",
    "\n",
    "# K Nearest Neighbors\n",
    "from sklearn.neighbors import KNeighborsClassifier, KNeighborsRegressor\n",
    "# from sklearn.model_selection import train_test_split, cross_val_score\n",
    "# from sklearn.preprocessing import StandardScaler\n",
    "\n",
    "# naive bayes imports\n",
    "from sklearn.naive_bayes import MultinomialNB, BernoulliNB\n",
    "\n",
    "# SVMs\n",
    "from sklearn.svm import LinearSVC, SVC\n",
    "\n",
    "# Decision Trees\n",
    "from sklearn.tree import DecisionTreeClassifier, plot_tree, export_text\n",
    "\n",
    "# Import Bagging, Boosting, and Random Forests, and ExtraTrees (Extremely Randomized Trees)\n",
    "from sklearn.ensemble import BaggingClassifier, BaggingRegressor, AdaBoostClassifier, AdaBoostRegressor, RandomForestClassifier, RandomForestRegressor, ExtraTreesClassifier, ExtraTreesRegressor\n",
    "\n",
    "# NLP imports\n",
    "from sklearn.feature_extraction.text import CountVectorizer, TfidfVectorizer\n",
    "# nltk.download()  --> Download all, and then restart jupyter lab\n",
    "import nltk\n",
    "from nltk.tokenize import sent_tokenize, word_tokenize, RegexpTokenizer\n",
    "from nltk.stem import WordNetLemmatizer\n",
    "from nltk.stem.porter import PorterStemmer\n",
    "from nltk.corpus import stopwords\n",
    "from nltk.sentiment.vader import SentimentIntensityAnalyzer\n",
    "from nltk import FreqDist, pos_tag\n",
    "import re\n",
    "\n",
    "import json\n",
    "\n",
    "\n",
    "%matplotlib inline\n",
    "%config InlineBackend.figure_format = 'retina'"
   ]
  },
  {
   "cell_type": "code",
   "execution_count": 16,
   "metadata": {},
   "outputs": [
    {
     "name": "stdout",
     "output_type": "stream",
     "text": [
      "Collecting impyute\n",
      "  Downloading impyute-0.0.8-py2.py3-none-any.whl (31 kB)\n",
      "Requirement already satisfied: numpy in c:\\users\\snchu\\anaconda3\\lib\\site-packages (from impyute) (1.20.1)\n",
      "Requirement already satisfied: scikit-learn in c:\\users\\snchu\\anaconda3\\lib\\site-packages (from impyute) (0.24.1)\n",
      "Requirement already satisfied: scipy in c:\\users\\snchu\\anaconda3\\lib\\site-packages (from impyute) (1.5.2)\n",
      "Requirement already satisfied: threadpoolctl>=2.0.0 in c:\\users\\snchu\\anaconda3\\lib\\site-packages (from scikit-learn->impyute) (2.1.0)\n",
      "Requirement already satisfied: joblib>=0.11 in c:\\users\\snchu\\anaconda3\\lib\\site-packages (from scikit-learn->impyute) (0.17.0)\n",
      "Installing collected packages: impyute\n",
      "Successfully installed impyute-0.0.8\n"
     ]
    }
   ],
   "source": [
    "# !pip install impyute"
   ]
  },
  {
   "cell_type": "code",
   "execution_count": 171,
   "metadata": {},
   "outputs": [],
   "source": [
    "# imports SMOTE (oversampling) and undersampleing packages \n",
    "from imblearn.over_sampling import SMOTE\n",
    "from imblearn.under_sampling import RandomUnderSampler\n",
    "\n",
    "# imports mice\n",
    "from impyute.imputation.cs import mice"
   ]
  },
  {
   "cell_type": "code",
   "execution_count": 5,
   "metadata": {},
   "outputs": [
    {
     "data": {
      "text/html": [
       "<div>\n",
       "<style scoped>\n",
       "    .dataframe tbody tr th:only-of-type {\n",
       "        vertical-align: middle;\n",
       "    }\n",
       "\n",
       "    .dataframe tbody tr th {\n",
       "        vertical-align: top;\n",
       "    }\n",
       "\n",
       "    .dataframe thead th {\n",
       "        text-align: right;\n",
       "    }\n",
       "</style>\n",
       "<table border=\"1\" class=\"dataframe\">\n",
       "  <thead>\n",
       "    <tr style=\"text-align: right;\">\n",
       "      <th></th>\n",
       "      <th>DUID</th>\n",
       "      <th>PID</th>\n",
       "      <th>DUPERSID</th>\n",
       "      <th>PANEL</th>\n",
       "      <th>FAMID31</th>\n",
       "      <th>FAMID42</th>\n",
       "      <th>FAMID53</th>\n",
       "      <th>FAMID17</th>\n",
       "      <th>FAMIDYR</th>\n",
       "      <th>CPSFAMID</th>\n",
       "      <th>...</th>\n",
       "      <th>RXPTR17</th>\n",
       "      <th>RXOTH17</th>\n",
       "      <th>PERWT17F</th>\n",
       "      <th>FAMWT17F</th>\n",
       "      <th>FAMWT17C</th>\n",
       "      <th>SAQWT17F</th>\n",
       "      <th>DIABW17F</th>\n",
       "      <th>CSAQW17F</th>\n",
       "      <th>VARSTR</th>\n",
       "      <th>VARPSU</th>\n",
       "    </tr>\n",
       "  </thead>\n",
       "  <tbody>\n",
       "    <tr>\n",
       "      <th>0</th>\n",
       "      <td>10001.0</td>\n",
       "      <td>101.0</td>\n",
       "      <td>10001101</td>\n",
       "      <td>21.0</td>\n",
       "      <td>A</td>\n",
       "      <td>A</td>\n",
       "      <td>A</td>\n",
       "      <td>A</td>\n",
       "      <td>A</td>\n",
       "      <td>A</td>\n",
       "      <td>...</td>\n",
       "      <td>2506.0</td>\n",
       "      <td>0.0</td>\n",
       "      <td>13494.959896</td>\n",
       "      <td>13651.501535</td>\n",
       "      <td>13651.501535</td>\n",
       "      <td>18363.716686</td>\n",
       "      <td>0.0</td>\n",
       "      <td>0.0</td>\n",
       "      <td>1021.0</td>\n",
       "      <td>1.0</td>\n",
       "    </tr>\n",
       "    <tr>\n",
       "      <th>1</th>\n",
       "      <td>10001.0</td>\n",
       "      <td>102.0</td>\n",
       "      <td>10001102</td>\n",
       "      <td>21.0</td>\n",
       "      <td>A</td>\n",
       "      <td>A</td>\n",
       "      <td>A</td>\n",
       "      <td>A</td>\n",
       "      <td>A</td>\n",
       "      <td>A</td>\n",
       "      <td>...</td>\n",
       "      <td>0.0</td>\n",
       "      <td>0.0</td>\n",
       "      <td>12031.802435</td>\n",
       "      <td>13651.501535</td>\n",
       "      <td>13651.501535</td>\n",
       "      <td>14279.941801</td>\n",
       "      <td>0.0</td>\n",
       "      <td>0.0</td>\n",
       "      <td>1021.0</td>\n",
       "      <td>1.0</td>\n",
       "    </tr>\n",
       "    <tr>\n",
       "      <th>2</th>\n",
       "      <td>10001.0</td>\n",
       "      <td>103.0</td>\n",
       "      <td>10001103</td>\n",
       "      <td>21.0</td>\n",
       "      <td>A</td>\n",
       "      <td>A</td>\n",
       "      <td>A</td>\n",
       "      <td>A</td>\n",
       "      <td>A</td>\n",
       "      <td>A</td>\n",
       "      <td>...</td>\n",
       "      <td>135.0</td>\n",
       "      <td>0.0</td>\n",
       "      <td>12308.918980</td>\n",
       "      <td>13651.501535</td>\n",
       "      <td>13651.501535</td>\n",
       "      <td>0.000000</td>\n",
       "      <td>0.0</td>\n",
       "      <td>0.0</td>\n",
       "      <td>1021.0</td>\n",
       "      <td>1.0</td>\n",
       "    </tr>\n",
       "    <tr>\n",
       "      <th>3</th>\n",
       "      <td>10001.0</td>\n",
       "      <td>104.0</td>\n",
       "      <td>10001104</td>\n",
       "      <td>21.0</td>\n",
       "      <td>A</td>\n",
       "      <td>A</td>\n",
       "      <td>A</td>\n",
       "      <td>A</td>\n",
       "      <td>A</td>\n",
       "      <td>A</td>\n",
       "      <td>...</td>\n",
       "      <td>0.0</td>\n",
       "      <td>0.0</td>\n",
       "      <td>12280.755977</td>\n",
       "      <td>13651.501535</td>\n",
       "      <td>13651.501535</td>\n",
       "      <td>0.000000</td>\n",
       "      <td>0.0</td>\n",
       "      <td>0.0</td>\n",
       "      <td>1021.0</td>\n",
       "      <td>1.0</td>\n",
       "    </tr>\n",
       "    <tr>\n",
       "      <th>4</th>\n",
       "      <td>10002.0</td>\n",
       "      <td>101.0</td>\n",
       "      <td>10002101</td>\n",
       "      <td>21.0</td>\n",
       "      <td>A</td>\n",
       "      <td>A</td>\n",
       "      <td>A</td>\n",
       "      <td>A</td>\n",
       "      <td>A</td>\n",
       "      <td>A</td>\n",
       "      <td>...</td>\n",
       "      <td>0.0</td>\n",
       "      <td>0.0</td>\n",
       "      <td>6596.640550</td>\n",
       "      <td>7113.635349</td>\n",
       "      <td>7113.635349</td>\n",
       "      <td>7427.265851</td>\n",
       "      <td>0.0</td>\n",
       "      <td>0.0</td>\n",
       "      <td>1077.0</td>\n",
       "      <td>1.0</td>\n",
       "    </tr>\n",
       "  </tbody>\n",
       "</table>\n",
       "<p>5 rows × 1564 columns</p>\n",
       "</div>"
      ],
      "text/plain": [
       "      DUID    PID  DUPERSID  PANEL FAMID31 FAMID42 FAMID53 FAMID17 FAMIDYR  \\\n",
       "0  10001.0  101.0  10001101   21.0       A       A       A       A       A   \n",
       "1  10001.0  102.0  10001102   21.0       A       A       A       A       A   \n",
       "2  10001.0  103.0  10001103   21.0       A       A       A       A       A   \n",
       "3  10001.0  104.0  10001104   21.0       A       A       A       A       A   \n",
       "4  10002.0  101.0  10002101   21.0       A       A       A       A       A   \n",
       "\n",
       "  CPSFAMID  ...  RXPTR17  RXOTH17      PERWT17F      FAMWT17F      FAMWT17C  \\\n",
       "0        A  ...   2506.0      0.0  13494.959896  13651.501535  13651.501535   \n",
       "1        A  ...      0.0      0.0  12031.802435  13651.501535  13651.501535   \n",
       "2        A  ...    135.0      0.0  12308.918980  13651.501535  13651.501535   \n",
       "3        A  ...      0.0      0.0  12280.755977  13651.501535  13651.501535   \n",
       "4        A  ...      0.0      0.0   6596.640550   7113.635349   7113.635349   \n",
       "\n",
       "       SAQWT17F  DIABW17F  CSAQW17F  VARSTR  VARPSU  \n",
       "0  18363.716686       0.0       0.0  1021.0     1.0  \n",
       "1  14279.941801       0.0       0.0  1021.0     1.0  \n",
       "2      0.000000       0.0       0.0  1021.0     1.0  \n",
       "3      0.000000       0.0       0.0  1021.0     1.0  \n",
       "4   7427.265851       0.0       0.0  1077.0     1.0  \n",
       "\n",
       "[5 rows x 1564 columns]"
      ]
     },
     "execution_count": 5,
     "metadata": {},
     "output_type": "execute_result"
    }
   ],
   "source": [
    "# Loads in the data\n",
    "df = pd.read_feather('../../data/h201.feather')\n",
    "df.head()"
   ]
  },
  {
   "cell_type": "code",
   "execution_count": 6,
   "metadata": {},
   "outputs": [
    {
     "data": {
      "text/html": [
       "<div>\n",
       "<style scoped>\n",
       "    .dataframe tbody tr th:only-of-type {\n",
       "        vertical-align: middle;\n",
       "    }\n",
       "\n",
       "    .dataframe tbody tr th {\n",
       "        vertical-align: top;\n",
       "    }\n",
       "\n",
       "    .dataframe thead th {\n",
       "        text-align: right;\n",
       "    }\n",
       "</style>\n",
       "<table border=\"1\" class=\"dataframe\">\n",
       "  <thead>\n",
       "    <tr style=\"text-align: right;\">\n",
       "      <th></th>\n",
       "      <th>VARIABLE</th>\n",
       "      <th>DESCRIPTION</th>\n",
       "      <th>SOURCE</th>\n",
       "      <th>Activate</th>\n",
       "      <th>Unnamed: 4</th>\n",
       "      <th>Unnamed: 5</th>\n",
       "      <th>Unnamed: 6</th>\n",
       "      <th>Unnamed: 7</th>\n",
       "      <th>Unnamed: 8</th>\n",
       "      <th>Unnamed: 9</th>\n",
       "      <th>...</th>\n",
       "      <th>Unnamed: 40</th>\n",
       "      <th>Unnamed: 41</th>\n",
       "      <th>Unnamed: 42</th>\n",
       "      <th>Unnamed: 43</th>\n",
       "      <th>Unnamed: 44</th>\n",
       "      <th>Unnamed: 45</th>\n",
       "      <th>Unnamed: 46</th>\n",
       "      <th>Unnamed: 47</th>\n",
       "      <th>Unnamed: 48</th>\n",
       "      <th>Unnamed: 49</th>\n",
       "    </tr>\n",
       "  </thead>\n",
       "  <tbody>\n",
       "    <tr>\n",
       "      <th>0</th>\n",
       "      <td>IADLHP31</td>\n",
       "      <td>IADL Screener – RD 3/1</td>\n",
       "      <td>HE 1-3</td>\n",
       "      <td>0.0</td>\n",
       "      <td>NaN</td>\n",
       "      <td>NaN</td>\n",
       "      <td>NaN</td>\n",
       "      <td>NaN</td>\n",
       "      <td>NaN</td>\n",
       "      <td>NaN</td>\n",
       "      <td>...</td>\n",
       "      <td>NaN</td>\n",
       "      <td>NaN</td>\n",
       "      <td>NaN</td>\n",
       "      <td>NaN</td>\n",
       "      <td>NaN</td>\n",
       "      <td>NaN</td>\n",
       "      <td>NaN</td>\n",
       "      <td>NaN</td>\n",
       "      <td>NaN</td>\n",
       "      <td>NaN</td>\n",
       "    </tr>\n",
       "    <tr>\n",
       "      <th>1</th>\n",
       "      <td>ADLHLP31</td>\n",
       "      <td>ADL Screener – RD 3/1</td>\n",
       "      <td>HE 4-6</td>\n",
       "      <td>0.0</td>\n",
       "      <td>NaN</td>\n",
       "      <td>NaN</td>\n",
       "      <td>NaN</td>\n",
       "      <td>NaN</td>\n",
       "      <td>NaN</td>\n",
       "      <td>NaN</td>\n",
       "      <td>...</td>\n",
       "      <td>NaN</td>\n",
       "      <td>NaN</td>\n",
       "      <td>NaN</td>\n",
       "      <td>NaN</td>\n",
       "      <td>NaN</td>\n",
       "      <td>NaN</td>\n",
       "      <td>NaN</td>\n",
       "      <td>NaN</td>\n",
       "      <td>NaN</td>\n",
       "      <td>NaN</td>\n",
       "    </tr>\n",
       "    <tr>\n",
       "      <th>2</th>\n",
       "      <td>AIDHLP31</td>\n",
       "      <td>Used Assistive Devices – RD 3/1</td>\n",
       "      <td>HE 7-8</td>\n",
       "      <td>1.0</td>\n",
       "      <td>NaN</td>\n",
       "      <td>NaN</td>\n",
       "      <td>NaN</td>\n",
       "      <td>NaN</td>\n",
       "      <td>NaN</td>\n",
       "      <td>NaN</td>\n",
       "      <td>...</td>\n",
       "      <td>NaN</td>\n",
       "      <td>NaN</td>\n",
       "      <td>NaN</td>\n",
       "      <td>NaN</td>\n",
       "      <td>NaN</td>\n",
       "      <td>NaN</td>\n",
       "      <td>NaN</td>\n",
       "      <td>NaN</td>\n",
       "      <td>NaN</td>\n",
       "      <td>NaN</td>\n",
       "    </tr>\n",
       "    <tr>\n",
       "      <th>3</th>\n",
       "      <td>WLKLIM31</td>\n",
       "      <td>Limitation in Physical Functioning – RD 3/1</td>\n",
       "      <td>HE 9-10</td>\n",
       "      <td>1.0</td>\n",
       "      <td>NaN</td>\n",
       "      <td>NaN</td>\n",
       "      <td>NaN</td>\n",
       "      <td>NaN</td>\n",
       "      <td>NaN</td>\n",
       "      <td>NaN</td>\n",
       "      <td>...</td>\n",
       "      <td>NaN</td>\n",
       "      <td>NaN</td>\n",
       "      <td>NaN</td>\n",
       "      <td>NaN</td>\n",
       "      <td>NaN</td>\n",
       "      <td>NaN</td>\n",
       "      <td>NaN</td>\n",
       "      <td>NaN</td>\n",
       "      <td>NaN</td>\n",
       "      <td>NaN</td>\n",
       "    </tr>\n",
       "    <tr>\n",
       "      <th>4</th>\n",
       "      <td>LFTDIF31</td>\n",
       "      <td>Difficulty Lifting 10 Pounds – RD 3/1</td>\n",
       "      <td>HE 11</td>\n",
       "      <td>0.0</td>\n",
       "      <td>NaN</td>\n",
       "      <td>NaN</td>\n",
       "      <td>NaN</td>\n",
       "      <td>NaN</td>\n",
       "      <td>NaN</td>\n",
       "      <td>NaN</td>\n",
       "      <td>...</td>\n",
       "      <td>NaN</td>\n",
       "      <td>NaN</td>\n",
       "      <td>NaN</td>\n",
       "      <td>NaN</td>\n",
       "      <td>NaN</td>\n",
       "      <td>NaN</td>\n",
       "      <td>NaN</td>\n",
       "      <td>NaN</td>\n",
       "      <td>NaN</td>\n",
       "      <td>NaN</td>\n",
       "    </tr>\n",
       "  </tbody>\n",
       "</table>\n",
       "<p>5 rows × 50 columns</p>\n",
       "</div>"
      ],
      "text/plain": [
       "   VARIABLE                                  DESCRIPTION   SOURCE  Activate  \\\n",
       "0  IADLHP31                       IADL Screener – RD 3/1   HE 1-3       0.0   \n",
       "1  ADLHLP31                        ADL Screener – RD 3/1   HE 4-6       0.0   \n",
       "2  AIDHLP31              Used Assistive Devices – RD 3/1   HE 7-8       1.0   \n",
       "3  WLKLIM31  Limitation in Physical Functioning – RD 3/1  HE 9-10       1.0   \n",
       "4  LFTDIF31        Difficulty Lifting 10 Pounds – RD 3/1    HE 11       0.0   \n",
       "\n",
       "   Unnamed: 4  Unnamed: 5  Unnamed: 6  Unnamed: 7  Unnamed: 8  Unnamed: 9  \\\n",
       "0         NaN         NaN         NaN         NaN         NaN         NaN   \n",
       "1         NaN         NaN         NaN         NaN         NaN         NaN   \n",
       "2         NaN         NaN         NaN         NaN         NaN         NaN   \n",
       "3         NaN         NaN         NaN         NaN         NaN         NaN   \n",
       "4         NaN         NaN         NaN         NaN         NaN         NaN   \n",
       "\n",
       "   ...  Unnamed: 40  Unnamed: 41  Unnamed: 42  Unnamed: 43  Unnamed: 44  \\\n",
       "0  ...          NaN          NaN          NaN          NaN          NaN   \n",
       "1  ...          NaN          NaN          NaN          NaN          NaN   \n",
       "2  ...          NaN          NaN          NaN          NaN          NaN   \n",
       "3  ...          NaN          NaN          NaN          NaN          NaN   \n",
       "4  ...          NaN          NaN          NaN          NaN          NaN   \n",
       "\n",
       "   Unnamed: 45  Unnamed: 46  Unnamed: 47  Unnamed: 48  Unnamed: 49  \n",
       "0          NaN          NaN          NaN          NaN          NaN  \n",
       "1          NaN          NaN          NaN          NaN          NaN  \n",
       "2          NaN          NaN          NaN          NaN          NaN  \n",
       "3          NaN          NaN          NaN          NaN          NaN  \n",
       "4          NaN          NaN          NaN          NaN          NaN  \n",
       "\n",
       "[5 rows x 50 columns]"
      ]
     },
     "execution_count": 6,
     "metadata": {},
     "output_type": "execute_result"
    }
   ],
   "source": [
    "# Loads in health status variables dataframe of variable descriptions\n",
    "deps = pd.read_csv('../../data/Health Status Variables.csv')\n",
    "deps.head()"
   ]
  },
  {
   "cell_type": "code",
   "execution_count": 7,
   "metadata": {
    "scrolled": true
   },
   "outputs": [],
   "source": [
    "# Subsets the health status variables for the ones that pertain to children\n",
    "child_vars = list(deps['VARIABLE'][30:97])\n",
    "# child_vars"
   ]
  },
  {
   "cell_type": "code",
   "execution_count": 8,
   "metadata": {},
   "outputs": [],
   "source": [
    "# Creates a list of other variables we want to add\n",
    "other_vars = ['AGELAST']"
   ]
  },
  {
   "cell_type": "code",
   "execution_count": 9,
   "metadata": {
    "scrolled": true
   },
   "outputs": [
    {
     "data": {
      "text/plain": [
       "['CHPMED42',\n",
       " 'CHPMHB42',\n",
       " 'CHPMCN42',\n",
       " 'CHSERV42',\n",
       " 'CHSRHB42',\n",
       " 'CHSRCN42',\n",
       " 'CHLIMI42',\n",
       " 'CHLIHB42',\n",
       " 'CHLICO42',\n",
       " 'CHTHER42',\n",
       " 'CHTHHB42',\n",
       " 'CHTHCO42',\n",
       " 'CHCOUN42',\n",
       " 'CHEMPB42',\n",
       " 'CSHCN42',\n",
       " 'MOMPRO42',\n",
       " 'DADPRO42',\n",
       " 'UNHAP42',\n",
       " 'SCHLBH42',\n",
       " 'HAVFUN42',\n",
       " 'ADUPRO42',\n",
       " 'NERVAF42',\n",
       " 'SIBPRO42',\n",
       " 'KIDPRO42',\n",
       " 'SPRPRO42',\n",
       " 'SCHPRO42',\n",
       " 'HOMEBH42',\n",
       " 'TRBLE42',\n",
       " 'CHILCR42',\n",
       " 'CHILWW42',\n",
       " 'CHRTCR42',\n",
       " 'CHRTWW42',\n",
       " 'CHAPPT42',\n",
       " 'CHNDCR42',\n",
       " 'CHENEC42',\n",
       " 'CHLIST42',\n",
       " 'CHEXPL42',\n",
       " 'CHRESP42',\n",
       " 'CHPRTM42',\n",
       " 'CHHECR42',\n",
       " 'CHSPEC42',\n",
       " 'CHEYRE42',\n",
       " 'MESHGT42',\n",
       " 'WHNHGT42',\n",
       " 'MESWGT42',\n",
       " 'WHNWGT42',\n",
       " 'CHBMIX42',\n",
       " 'MESVIS42',\n",
       " 'MESBPR42',\n",
       " 'WHNBPR42',\n",
       " 'DENTAL42',\n",
       " 'WHNDEN42',\n",
       " 'EATHLT42',\n",
       " 'WHNEAT42',\n",
       " 'PHYSCL42',\n",
       " 'WHNPHY42',\n",
       " 'SAFEST42',\n",
       " 'WHNSAF42',\n",
       " 'BOOST42',\n",
       " 'WHNBST42',\n",
       " 'LAPBLT42',\n",
       " 'WHNLAP42',\n",
       " 'HELMET42',\n",
       " 'WHNHEL42',\n",
       " 'NOSMOK42',\n",
       " 'WHNSMK42',\n",
       " 'TIMALN42',\n",
       " 'AGELAST']"
      ]
     },
     "execution_count": 9,
     "metadata": {},
     "output_type": "execute_result"
    }
   ],
   "source": [
    "# Combines the child variables with additional other variables we want to add\n",
    "child_vars = child_vars + other_vars\n",
    "child_vars"
   ]
  },
  {
   "cell_type": "code",
   "execution_count": 10,
   "metadata": {},
   "outputs": [
    {
     "data": {
      "text/html": [
       "<div>\n",
       "<style scoped>\n",
       "    .dataframe tbody tr th:only-of-type {\n",
       "        vertical-align: middle;\n",
       "    }\n",
       "\n",
       "    .dataframe tbody tr th {\n",
       "        vertical-align: top;\n",
       "    }\n",
       "\n",
       "    .dataframe thead th {\n",
       "        text-align: right;\n",
       "    }\n",
       "</style>\n",
       "<table border=\"1\" class=\"dataframe\">\n",
       "  <thead>\n",
       "    <tr style=\"text-align: right;\">\n",
       "      <th></th>\n",
       "      <th>CHPMED42</th>\n",
       "      <th>CHPMHB42</th>\n",
       "      <th>CHPMCN42</th>\n",
       "      <th>CHSERV42</th>\n",
       "      <th>CHSRHB42</th>\n",
       "      <th>CHSRCN42</th>\n",
       "      <th>CHLIMI42</th>\n",
       "      <th>CHLIHB42</th>\n",
       "      <th>CHLICO42</th>\n",
       "      <th>CHTHER42</th>\n",
       "      <th>...</th>\n",
       "      <th>BOOST42</th>\n",
       "      <th>WHNBST42</th>\n",
       "      <th>LAPBLT42</th>\n",
       "      <th>WHNLAP42</th>\n",
       "      <th>HELMET42</th>\n",
       "      <th>WHNHEL42</th>\n",
       "      <th>NOSMOK42</th>\n",
       "      <th>WHNSMK42</th>\n",
       "      <th>TIMALN42</th>\n",
       "      <th>AGELAST</th>\n",
       "    </tr>\n",
       "  </thead>\n",
       "  <tbody>\n",
       "    <tr>\n",
       "      <th>2</th>\n",
       "      <td>2.0</td>\n",
       "      <td>-1.0</td>\n",
       "      <td>-1.0</td>\n",
       "      <td>2.0</td>\n",
       "      <td>-1.0</td>\n",
       "      <td>-1.0</td>\n",
       "      <td>2.0</td>\n",
       "      <td>-1.0</td>\n",
       "      <td>-1.0</td>\n",
       "      <td>2.0</td>\n",
       "      <td>...</td>\n",
       "      <td>-1.0</td>\n",
       "      <td>-1.0</td>\n",
       "      <td>1.0</td>\n",
       "      <td>1.0</td>\n",
       "      <td>2.0</td>\n",
       "      <td>-1.0</td>\n",
       "      <td>2.0</td>\n",
       "      <td>-1.0</td>\n",
       "      <td>2.0</td>\n",
       "      <td>17.0</td>\n",
       "    </tr>\n",
       "    <tr>\n",
       "      <th>3</th>\n",
       "      <td>1.0</td>\n",
       "      <td>1.0</td>\n",
       "      <td>1.0</td>\n",
       "      <td>2.0</td>\n",
       "      <td>-1.0</td>\n",
       "      <td>-1.0</td>\n",
       "      <td>2.0</td>\n",
       "      <td>-1.0</td>\n",
       "      <td>-1.0</td>\n",
       "      <td>2.0</td>\n",
       "      <td>...</td>\n",
       "      <td>-1.0</td>\n",
       "      <td>-1.0</td>\n",
       "      <td>2.0</td>\n",
       "      <td>-1.0</td>\n",
       "      <td>2.0</td>\n",
       "      <td>-1.0</td>\n",
       "      <td>2.0</td>\n",
       "      <td>-1.0</td>\n",
       "      <td>2.0</td>\n",
       "      <td>14.0</td>\n",
       "    </tr>\n",
       "    <tr>\n",
       "      <th>9</th>\n",
       "      <td>2.0</td>\n",
       "      <td>-1.0</td>\n",
       "      <td>-1.0</td>\n",
       "      <td>2.0</td>\n",
       "      <td>-1.0</td>\n",
       "      <td>-1.0</td>\n",
       "      <td>2.0</td>\n",
       "      <td>-1.0</td>\n",
       "      <td>-1.0</td>\n",
       "      <td>2.0</td>\n",
       "      <td>...</td>\n",
       "      <td>1.0</td>\n",
       "      <td>3.0</td>\n",
       "      <td>-1.0</td>\n",
       "      <td>-1.0</td>\n",
       "      <td>1.0</td>\n",
       "      <td>1.0</td>\n",
       "      <td>2.0</td>\n",
       "      <td>-1.0</td>\n",
       "      <td>-1.0</td>\n",
       "      <td>10.0</td>\n",
       "    </tr>\n",
       "    <tr>\n",
       "      <th>13</th>\n",
       "      <td>1.0</td>\n",
       "      <td>1.0</td>\n",
       "      <td>1.0</td>\n",
       "      <td>2.0</td>\n",
       "      <td>-1.0</td>\n",
       "      <td>-1.0</td>\n",
       "      <td>2.0</td>\n",
       "      <td>-1.0</td>\n",
       "      <td>-1.0</td>\n",
       "      <td>2.0</td>\n",
       "      <td>...</td>\n",
       "      <td>-1.0</td>\n",
       "      <td>-1.0</td>\n",
       "      <td>2.0</td>\n",
       "      <td>-1.0</td>\n",
       "      <td>2.0</td>\n",
       "      <td>-1.0</td>\n",
       "      <td>2.0</td>\n",
       "      <td>-1.0</td>\n",
       "      <td>2.0</td>\n",
       "      <td>12.0</td>\n",
       "    </tr>\n",
       "    <tr>\n",
       "      <th>14</th>\n",
       "      <td>1.0</td>\n",
       "      <td>1.0</td>\n",
       "      <td>1.0</td>\n",
       "      <td>2.0</td>\n",
       "      <td>-1.0</td>\n",
       "      <td>-1.0</td>\n",
       "      <td>2.0</td>\n",
       "      <td>-1.0</td>\n",
       "      <td>-1.0</td>\n",
       "      <td>2.0</td>\n",
       "      <td>...</td>\n",
       "      <td>2.0</td>\n",
       "      <td>-1.0</td>\n",
       "      <td>-1.0</td>\n",
       "      <td>-1.0</td>\n",
       "      <td>2.0</td>\n",
       "      <td>-1.0</td>\n",
       "      <td>2.0</td>\n",
       "      <td>-1.0</td>\n",
       "      <td>-1.0</td>\n",
       "      <td>11.0</td>\n",
       "    </tr>\n",
       "    <tr>\n",
       "      <th>...</th>\n",
       "      <td>...</td>\n",
       "      <td>...</td>\n",
       "      <td>...</td>\n",
       "      <td>...</td>\n",
       "      <td>...</td>\n",
       "      <td>...</td>\n",
       "      <td>...</td>\n",
       "      <td>...</td>\n",
       "      <td>...</td>\n",
       "      <td>...</td>\n",
       "      <td>...</td>\n",
       "      <td>...</td>\n",
       "      <td>...</td>\n",
       "      <td>...</td>\n",
       "      <td>...</td>\n",
       "      <td>...</td>\n",
       "      <td>...</td>\n",
       "      <td>...</td>\n",
       "      <td>...</td>\n",
       "      <td>...</td>\n",
       "      <td>...</td>\n",
       "    </tr>\n",
       "    <tr>\n",
       "      <th>31867</th>\n",
       "      <td>2.0</td>\n",
       "      <td>-1.0</td>\n",
       "      <td>-1.0</td>\n",
       "      <td>2.0</td>\n",
       "      <td>-1.0</td>\n",
       "      <td>-1.0</td>\n",
       "      <td>2.0</td>\n",
       "      <td>-1.0</td>\n",
       "      <td>-1.0</td>\n",
       "      <td>2.0</td>\n",
       "      <td>...</td>\n",
       "      <td>2.0</td>\n",
       "      <td>-1.0</td>\n",
       "      <td>-1.0</td>\n",
       "      <td>-1.0</td>\n",
       "      <td>2.0</td>\n",
       "      <td>-1.0</td>\n",
       "      <td>1.0</td>\n",
       "      <td>2.0</td>\n",
       "      <td>-1.0</td>\n",
       "      <td>6.0</td>\n",
       "    </tr>\n",
       "    <tr>\n",
       "      <th>31870</th>\n",
       "      <td>2.0</td>\n",
       "      <td>-1.0</td>\n",
       "      <td>-1.0</td>\n",
       "      <td>2.0</td>\n",
       "      <td>-1.0</td>\n",
       "      <td>-1.0</td>\n",
       "      <td>2.0</td>\n",
       "      <td>-1.0</td>\n",
       "      <td>-1.0</td>\n",
       "      <td>2.0</td>\n",
       "      <td>...</td>\n",
       "      <td>1.0</td>\n",
       "      <td>3.0</td>\n",
       "      <td>-1.0</td>\n",
       "      <td>-1.0</td>\n",
       "      <td>1.0</td>\n",
       "      <td>3.0</td>\n",
       "      <td>1.0</td>\n",
       "      <td>3.0</td>\n",
       "      <td>-1.0</td>\n",
       "      <td>9.0</td>\n",
       "    </tr>\n",
       "    <tr>\n",
       "      <th>31871</th>\n",
       "      <td>2.0</td>\n",
       "      <td>-1.0</td>\n",
       "      <td>-1.0</td>\n",
       "      <td>2.0</td>\n",
       "      <td>-1.0</td>\n",
       "      <td>-1.0</td>\n",
       "      <td>2.0</td>\n",
       "      <td>-1.0</td>\n",
       "      <td>-1.0</td>\n",
       "      <td>2.0</td>\n",
       "      <td>...</td>\n",
       "      <td>1.0</td>\n",
       "      <td>3.0</td>\n",
       "      <td>-1.0</td>\n",
       "      <td>-1.0</td>\n",
       "      <td>1.0</td>\n",
       "      <td>3.0</td>\n",
       "      <td>1.0</td>\n",
       "      <td>3.0</td>\n",
       "      <td>-1.0</td>\n",
       "      <td>5.0</td>\n",
       "    </tr>\n",
       "    <tr>\n",
       "      <th>31878</th>\n",
       "      <td>2.0</td>\n",
       "      <td>-1.0</td>\n",
       "      <td>-1.0</td>\n",
       "      <td>2.0</td>\n",
       "      <td>-1.0</td>\n",
       "      <td>-1.0</td>\n",
       "      <td>2.0</td>\n",
       "      <td>-1.0</td>\n",
       "      <td>-1.0</td>\n",
       "      <td>2.0</td>\n",
       "      <td>...</td>\n",
       "      <td>-1.0</td>\n",
       "      <td>-1.0</td>\n",
       "      <td>2.0</td>\n",
       "      <td>-1.0</td>\n",
       "      <td>2.0</td>\n",
       "      <td>-1.0</td>\n",
       "      <td>2.0</td>\n",
       "      <td>-1.0</td>\n",
       "      <td>1.0</td>\n",
       "      <td>13.0</td>\n",
       "    </tr>\n",
       "    <tr>\n",
       "      <th>31879</th>\n",
       "      <td>1.0</td>\n",
       "      <td>1.0</td>\n",
       "      <td>1.0</td>\n",
       "      <td>2.0</td>\n",
       "      <td>-1.0</td>\n",
       "      <td>-1.0</td>\n",
       "      <td>2.0</td>\n",
       "      <td>-1.0</td>\n",
       "      <td>-1.0</td>\n",
       "      <td>2.0</td>\n",
       "      <td>...</td>\n",
       "      <td>-1.0</td>\n",
       "      <td>-1.0</td>\n",
       "      <td>2.0</td>\n",
       "      <td>-1.0</td>\n",
       "      <td>2.0</td>\n",
       "      <td>-1.0</td>\n",
       "      <td>2.0</td>\n",
       "      <td>-1.0</td>\n",
       "      <td>-1.0</td>\n",
       "      <td>10.0</td>\n",
       "    </tr>\n",
       "  </tbody>\n",
       "</table>\n",
       "<p>6155 rows × 68 columns</p>\n",
       "</div>"
      ],
      "text/plain": [
       "       CHPMED42  CHPMHB42  CHPMCN42  CHSERV42  CHSRHB42  CHSRCN42  CHLIMI42  \\\n",
       "2           2.0      -1.0      -1.0       2.0      -1.0      -1.0       2.0   \n",
       "3           1.0       1.0       1.0       2.0      -1.0      -1.0       2.0   \n",
       "9           2.0      -1.0      -1.0       2.0      -1.0      -1.0       2.0   \n",
       "13          1.0       1.0       1.0       2.0      -1.0      -1.0       2.0   \n",
       "14          1.0       1.0       1.0       2.0      -1.0      -1.0       2.0   \n",
       "...         ...       ...       ...       ...       ...       ...       ...   \n",
       "31867       2.0      -1.0      -1.0       2.0      -1.0      -1.0       2.0   \n",
       "31870       2.0      -1.0      -1.0       2.0      -1.0      -1.0       2.0   \n",
       "31871       2.0      -1.0      -1.0       2.0      -1.0      -1.0       2.0   \n",
       "31878       2.0      -1.0      -1.0       2.0      -1.0      -1.0       2.0   \n",
       "31879       1.0       1.0       1.0       2.0      -1.0      -1.0       2.0   \n",
       "\n",
       "       CHLIHB42  CHLICO42  CHTHER42  ...  BOOST42  WHNBST42  LAPBLT42  \\\n",
       "2          -1.0      -1.0       2.0  ...     -1.0      -1.0       1.0   \n",
       "3          -1.0      -1.0       2.0  ...     -1.0      -1.0       2.0   \n",
       "9          -1.0      -1.0       2.0  ...      1.0       3.0      -1.0   \n",
       "13         -1.0      -1.0       2.0  ...     -1.0      -1.0       2.0   \n",
       "14         -1.0      -1.0       2.0  ...      2.0      -1.0      -1.0   \n",
       "...         ...       ...       ...  ...      ...       ...       ...   \n",
       "31867      -1.0      -1.0       2.0  ...      2.0      -1.0      -1.0   \n",
       "31870      -1.0      -1.0       2.0  ...      1.0       3.0      -1.0   \n",
       "31871      -1.0      -1.0       2.0  ...      1.0       3.0      -1.0   \n",
       "31878      -1.0      -1.0       2.0  ...     -1.0      -1.0       2.0   \n",
       "31879      -1.0      -1.0       2.0  ...     -1.0      -1.0       2.0   \n",
       "\n",
       "       WHNLAP42  HELMET42  WHNHEL42  NOSMOK42  WHNSMK42  TIMALN42  AGELAST  \n",
       "2           1.0       2.0      -1.0       2.0      -1.0       2.0     17.0  \n",
       "3          -1.0       2.0      -1.0       2.0      -1.0       2.0     14.0  \n",
       "9          -1.0       1.0       1.0       2.0      -1.0      -1.0     10.0  \n",
       "13         -1.0       2.0      -1.0       2.0      -1.0       2.0     12.0  \n",
       "14         -1.0       2.0      -1.0       2.0      -1.0      -1.0     11.0  \n",
       "...         ...       ...       ...       ...       ...       ...      ...  \n",
       "31867      -1.0       2.0      -1.0       1.0       2.0      -1.0      6.0  \n",
       "31870      -1.0       1.0       3.0       1.0       3.0      -1.0      9.0  \n",
       "31871      -1.0       1.0       3.0       1.0       3.0      -1.0      5.0  \n",
       "31878      -1.0       2.0      -1.0       2.0      -1.0       1.0     13.0  \n",
       "31879      -1.0       2.0      -1.0       2.0      -1.0      -1.0     10.0  \n",
       "\n",
       "[6155 rows x 68 columns]"
      ]
     },
     "execution_count": 10,
     "metadata": {},
     "output_type": "execute_result"
    }
   ],
   "source": [
    "# Filters the age of children between 5-17\n",
    "child_df = df.loc[(df['AGELAST'] <= 17) & (df['AGELAST'] >= 5), child_vars]\n",
    "child_df"
   ]
  },
  {
   "cell_type": "code",
   "execution_count": 11,
   "metadata": {},
   "outputs": [
    {
     "data": {
      "text/plain": [
       " 0.0     4358\n",
       " 1.0      879\n",
       " 2.0      499\n",
       "-1.0      195\n",
       " 3.0      119\n",
       " 4.0       65\n",
       "-7.0       19\n",
       "-8.0        8\n",
       "-9.0        7\n",
       " 99.0       6\n",
       "Name: UNHAP42, dtype: int64"
      ]
     },
     "execution_count": 11,
     "metadata": {},
     "output_type": "execute_result"
    }
   ],
   "source": [
    "# Checks the baseline/class balance of target variable\n",
    "child_df['UNHAP42'].value_counts()"
   ]
  },
  {
   "cell_type": "code",
   "execution_count": 12,
   "metadata": {},
   "outputs": [],
   "source": [
    "# filters the target variable to be between 0 and 4\n",
    "hap_filter =(child_df['UNHAP42'] >= 0) & (child_df['UNHAP42'] <= 4)\n",
    "child_df = child_df[hap_filter]"
   ]
  },
  {
   "cell_type": "code",
   "execution_count": 13,
   "metadata": {},
   "outputs": [
    {
     "name": "stderr",
     "output_type": "stream",
     "text": [
      "<ipython-input-13-a1b61958f7cf>:2: SettingWithCopyWarning: \n",
      "A value is trying to be set on a copy of a slice from a DataFrame.\n",
      "Try using .loc[row_indexer,col_indexer] = value instead\n",
      "\n",
      "See the caveats in the documentation: https://pandas.pydata.org/pandas-docs/stable/user_guide/indexing.html#returning-a-view-versus-a-copy\n",
      "  child_df['UNHAP42'] = child_df['UNHAP42'].map({0:0, 1:1, 2:1, 3:1, 4:1})\n"
     ]
    }
   ],
   "source": [
    "# Re-assigns the response variable into binary classes\n",
    "child_df['UNHAP42'] = child_df['UNHAP42'].map({0:0, 1:1, 2:1, 3:1, 4:1})"
   ]
  },
  {
   "cell_type": "code",
   "execution_count": 14,
   "metadata": {},
   "outputs": [
    {
     "data": {
      "text/plain": [
       "0    0.736149\n",
       "1    0.263851\n",
       "Name: UNHAP42, dtype: float64"
      ]
     },
     "execution_count": 14,
     "metadata": {},
     "output_type": "execute_result"
    }
   ],
   "source": [
    "# Rechecks the balance/baseline of the target variable\n",
    "child_df['UNHAP42'].value_counts(normalize=True)"
   ]
  },
  {
   "cell_type": "markdown",
   "metadata": {},
   "source": [
    "### Modeling with MICE"
   ]
  },
  {
   "cell_type": "code",
   "execution_count": 156,
   "metadata": {},
   "outputs": [],
   "source": [
    "# Sets up X and y\n",
    "X = child_df.drop(columns='UNHAP42')\n",
    "y = child_df['UNHAP42']"
   ]
  },
  {
   "cell_type": "code",
   "execution_count": 157,
   "metadata": {},
   "outputs": [
    {
     "data": {
      "text/plain": [
       "(5920, 67)"
      ]
     },
     "execution_count": 157,
     "metadata": {},
     "output_type": "execute_result"
    }
   ],
   "source": [
    "X.shape"
   ]
  },
  {
   "cell_type": "code",
   "execution_count": 158,
   "metadata": {},
   "outputs": [],
   "source": [
    "# TTS\n",
    "X_train, X_test, y_train, y_test = train_test_split(X, y,\n",
    "                                                    stratify=y,\n",
    "                                                    random_state=42)"
   ]
  },
  {
   "cell_type": "code",
   "execution_count": 159,
   "metadata": {},
   "outputs": [
    {
     "data": {
      "text/plain": [
       "(4440, 67)"
      ]
     },
     "execution_count": 159,
     "metadata": {},
     "output_type": "execute_result"
    }
   ],
   "source": [
    "X_train.shape"
   ]
  },
  {
   "cell_type": "code",
   "execution_count": 160,
   "metadata": {},
   "outputs": [],
   "source": [
    "# Creates the new train dataset with nulls\n",
    "new_X_train = X_train[X_train > 0]\n",
    "new_X_test = X_test[X_test > 0]"
   ]
  },
  {
   "cell_type": "code",
   "execution_count": 161,
   "metadata": {},
   "outputs": [
    {
     "data": {
      "text/plain": [
       "CHPMED42       5\n",
       "CHPMHB42    3602\n",
       "CHPMCN42    3663\n",
       "CHSERV42      12\n",
       "CHSRHB42    3946\n",
       "            ... \n",
       "WHNHEL42    2426\n",
       "NOSMOK42      77\n",
       "WHNSMK42    2005\n",
       "TIMALN42    2542\n",
       "AGELAST        0\n",
       "Length: 67, dtype: int64"
      ]
     },
     "execution_count": 161,
     "metadata": {},
     "output_type": "execute_result"
    }
   ],
   "source": [
    "new_X_train.isnull().sum()"
   ]
  },
  {
   "cell_type": "code",
   "execution_count": 162,
   "metadata": {},
   "outputs": [],
   "source": [
    "# Drops columns that have less than 4400 non-null values\n",
    "new_X_train.dropna(axis=1, thresh=4400, inplace=True)\n",
    "new_X_test = new_X_test[new_X_train.columns]"
   ]
  },
  {
   "cell_type": "code",
   "execution_count": 163,
   "metadata": {},
   "outputs": [
    {
     "data": {
      "text/plain": [
       "(4440, 10)"
      ]
     },
     "execution_count": 163,
     "metadata": {},
     "output_type": "execute_result"
    }
   ],
   "source": [
    "new_X_train.shape"
   ]
  },
  {
   "cell_type": "code",
   "execution_count": 164,
   "metadata": {},
   "outputs": [
    {
     "data": {
      "text/plain": [
       "CHPMED42     5\n",
       "CHSERV42    12\n",
       "CHLIMI42     8\n",
       "CHTHER42     5\n",
       "CHCOUN42     4\n",
       "CSHCN42      0\n",
       "CHILCR42     8\n",
       "CHRTCR42    25\n",
       "CHSPEC42    14\n",
       "AGELAST      0\n",
       "dtype: int64"
      ]
     },
     "execution_count": 164,
     "metadata": {},
     "output_type": "execute_result"
    }
   ],
   "source": [
    "new_X_train.isnull().sum()"
   ]
  },
  {
   "cell_type": "code",
   "execution_count": 165,
   "metadata": {
    "scrolled": true
   },
   "outputs": [
    {
     "data": {
      "text/plain": [
       "{'ADUPRO42',\n",
       " 'BOOST42',\n",
       " 'CHAPPT42',\n",
       " 'CHBMIX42',\n",
       " 'CHEMPB42',\n",
       " 'CHENEC42',\n",
       " 'CHEXPL42',\n",
       " 'CHEYRE42',\n",
       " 'CHHECR42',\n",
       " 'CHILWW42',\n",
       " 'CHLICO42',\n",
       " 'CHLIHB42',\n",
       " 'CHLIST42',\n",
       " 'CHNDCR42',\n",
       " 'CHPMCN42',\n",
       " 'CHPMHB42',\n",
       " 'CHPRTM42',\n",
       " 'CHRESP42',\n",
       " 'CHRTWW42',\n",
       " 'CHSRCN42',\n",
       " 'CHSRHB42',\n",
       " 'CHTHCO42',\n",
       " 'CHTHHB42',\n",
       " 'DADPRO42',\n",
       " 'DENTAL42',\n",
       " 'EATHLT42',\n",
       " 'HAVFUN42',\n",
       " 'HELMET42',\n",
       " 'HOMEBH42',\n",
       " 'KIDPRO42',\n",
       " 'LAPBLT42',\n",
       " 'MESBPR42',\n",
       " 'MESHGT42',\n",
       " 'MESVIS42',\n",
       " 'MESWGT42',\n",
       " 'MOMPRO42',\n",
       " 'NERVAF42',\n",
       " 'NOSMOK42',\n",
       " 'PHYSCL42',\n",
       " 'SAFEST42',\n",
       " 'SCHLBH42',\n",
       " 'SCHPRO42',\n",
       " 'SIBPRO42',\n",
       " 'SPRPRO42',\n",
       " 'TIMALN42',\n",
       " 'TRBLE42',\n",
       " 'WHNBPR42',\n",
       " 'WHNBST42',\n",
       " 'WHNDEN42',\n",
       " 'WHNEAT42',\n",
       " 'WHNHEL42',\n",
       " 'WHNHGT42',\n",
       " 'WHNLAP42',\n",
       " 'WHNPHY42',\n",
       " 'WHNSAF42',\n",
       " 'WHNSMK42',\n",
       " 'WHNWGT42'}"
      ]
     },
     "execution_count": 165,
     "metadata": {},
     "output_type": "execute_result"
    }
   ],
   "source": [
    "# set(X_train.columns).difference(set(new_X_train.columns))"
   ]
  },
  {
   "cell_type": "code",
   "execution_count": 166,
   "metadata": {},
   "outputs": [],
   "source": [
    "# start the MICE training, by transforming X_train\n",
    "X_train_imp = mice(new_X_train.values)"
   ]
  },
  {
   "cell_type": "code",
   "execution_count": 167,
   "metadata": {},
   "outputs": [],
   "source": [
    "# Mice training, transforming/filling nulls in X_test set\n",
    "X_test_imp = mice(new_X_test.values)"
   ]
  },
  {
   "cell_type": "code",
   "execution_count": 168,
   "metadata": {},
   "outputs": [],
   "source": [
    "# Instantiates a Random Forest pruned version. \n",
    "rf_pruned = RandomForestClassifier(max_depth=10,\n",
    "                                   min_samples_leaf=2,\n",
    "                                   min_samples_split=3,\n",
    "                                   n_estimators=307,\n",
    "                                   random_state=42)"
   ]
  },
  {
   "cell_type": "code",
   "execution_count": 169,
   "metadata": {},
   "outputs": [
    {
     "data": {
      "text/plain": [
       "RandomForestClassifier(max_depth=10, min_samples_leaf=2, min_samples_split=3,\n",
       "                       n_estimators=307, random_state=42)"
      ]
     },
     "execution_count": 169,
     "metadata": {},
     "output_type": "execute_result"
    }
   ],
   "source": [
    "# Fits to the pruned random forest\n",
    "rf_pruned.fit(X_train_imp, y_train)"
   ]
  },
  {
   "cell_type": "code",
   "execution_count": 170,
   "metadata": {},
   "outputs": [
    {
     "data": {
      "text/plain": [
       "(0.8065315315315316, 0.7804054054054054)"
      ]
     },
     "execution_count": 170,
     "metadata": {},
     "output_type": "execute_result"
    }
   ],
   "source": [
    "# Evaluates the pruned random forest\n",
    "rf_pruned.score(X_train_imp, y_train), rf_pruned.score(X_test_imp, y_test)"
   ]
  },
  {
   "cell_type": "code",
   "execution_count": null,
   "metadata": {},
   "outputs": [],
   "source": []
  },
  {
   "cell_type": "markdown",
   "metadata": {},
   "source": [
    "#### Try with SMOTE the imputed data"
   ]
  },
  {
   "cell_type": "code",
   "execution_count": 172,
   "metadata": {},
   "outputs": [],
   "source": [
    "# Instantiates the pipeline for using SMOTE\n",
    "pipe = Pipeline([\n",
    "    ('over', SMOTE(random_state=42)), \n",
    "    ('under',RandomUnderSampler(random_state=42)), \n",
    "    ('rf', RandomForestClassifier(n_estimators=307, \n",
    "                                  max_depth=10, \n",
    "                                  min_samples_leaf=2,\n",
    "                                  min_samples_split=3,\n",
    "                                  random_state=42))\n",
    "])"
   ]
  },
  {
   "cell_type": "code",
   "execution_count": 173,
   "metadata": {},
   "outputs": [],
   "source": [
    "# pipe params\n",
    "pipe_params = {'over__sampling_strategy':[0.4, 0.5, 0.6, 0.7, 0.8, 0.9, 1.0],\n",
    "               'under__sampling_strategy' : [0.4, 0.5, 0.6, 0.7, 0.8, 0.9, 1.0],  \n",
    "              }"
   ]
  },
  {
   "cell_type": "code",
   "execution_count": 174,
   "metadata": {},
   "outputs": [],
   "source": [
    "# Instantiates the gridsearch\n",
    "gs = GridSearchCV(pipe, \n",
    "                  param_grid=pipe_params,\n",
    "                  cv=3, \n",
    "                  verbose=1,\n",
    "                  n_jobs=4)"
   ]
  },
  {
   "cell_type": "code",
   "execution_count": 175,
   "metadata": {},
   "outputs": [
    {
     "name": "stdout",
     "output_type": "stream",
     "text": [
      "Fitting 3 folds for each of 49 candidates, totalling 147 fits\n"
     ]
    },
    {
     "name": "stderr",
     "output_type": "stream",
     "text": [
      "C:\\Users\\snchu\\anaconda3\\lib\\site-packages\\sklearn\\model_selection\\_search.py:918: UserWarning: One or more of the test scores are non-finite: [0.78220721 0.77972973 0.77027027 0.76148649 0.75653153 0.73873874\n",
      " 0.73130631        nan 0.78153153 0.775      0.7731982  0.76058559\n",
      " 0.75067568 0.74099099        nan        nan 0.77725225 0.77297297\n",
      " 0.76846847 0.76103604 0.7509009         nan        nan        nan\n",
      " 0.775      0.76846847 0.76441441 0.75540541        nan        nan\n",
      "        nan        nan 0.76891892 0.76351351 0.76013514        nan\n",
      "        nan        nan        nan        nan 0.76554054 0.75968468\n",
      "        nan        nan        nan        nan        nan        nan\n",
      " 0.76103604]\n",
      "  warnings.warn(\n"
     ]
    },
    {
     "data": {
      "text/plain": [
       "GridSearchCV(cv=3,\n",
       "             estimator=Pipeline(steps=[('over', SMOTE(random_state=42)),\n",
       "                                       ('under',\n",
       "                                        RandomUnderSampler(random_state=42)),\n",
       "                                       ('rf',\n",
       "                                        RandomForestClassifier(max_depth=10,\n",
       "                                                               min_samples_leaf=2,\n",
       "                                                               min_samples_split=3,\n",
       "                                                               n_estimators=307,\n",
       "                                                               random_state=42))]),\n",
       "             n_jobs=4,\n",
       "             param_grid={'over__sampling_strategy': [0.4, 0.5, 0.6, 0.7, 0.8,\n",
       "                                                     0.9, 1.0],\n",
       "                         'under__sampling_strategy': [0.4, 0.5, 0.6, 0.7, 0.8,\n",
       "                                                      0.9, 1.0]},\n",
       "             verbose=1)"
      ]
     },
     "execution_count": 175,
     "metadata": {},
     "output_type": "execute_result"
    }
   ],
   "source": [
    "# Fits to the gridsearch\n",
    "gs.fit(X_train_imp, y_train)"
   ]
  },
  {
   "cell_type": "code",
   "execution_count": 176,
   "metadata": {},
   "outputs": [
    {
     "data": {
      "text/plain": [
       "(0.8058558558558558, 0.777027027027027)"
      ]
     },
     "execution_count": 176,
     "metadata": {},
     "output_type": "execute_result"
    }
   ],
   "source": [
    "# Evaluates the grid search's accuracy\n",
    "gs.score(X_train_imp, y_train), gs.score(X_test_imp, y_test)"
   ]
  },
  {
   "cell_type": "code",
   "execution_count": 177,
   "metadata": {},
   "outputs": [
    {
     "data": {
      "text/plain": [
       "0.7822072072072072"
      ]
     },
     "execution_count": 177,
     "metadata": {},
     "output_type": "execute_result"
    }
   ],
   "source": [
    "# Best cross val gridsearch score\n",
    "gs.best_score_"
   ]
  },
  {
   "cell_type": "code",
   "execution_count": 178,
   "metadata": {},
   "outputs": [
    {
     "data": {
      "text/plain": [
       "{'over__sampling_strategy': 0.4, 'under__sampling_strategy': 0.4}"
      ]
     },
     "execution_count": 178,
     "metadata": {},
     "output_type": "execute_result"
    }
   ],
   "source": [
    "# Best params\n",
    "gs.best_params_"
   ]
  },
  {
   "cell_type": "code",
   "execution_count": null,
   "metadata": {},
   "outputs": [],
   "source": []
  }
 ],
 "metadata": {
  "kernelspec": {
   "display_name": "Python 3",
   "language": "python",
   "name": "python3"
  },
  "language_info": {
   "codemirror_mode": {
    "name": "ipython",
    "version": 3
   },
   "file_extension": ".py",
   "mimetype": "text/x-python",
   "name": "python",
   "nbconvert_exporter": "python",
   "pygments_lexer": "ipython3",
   "version": "3.8.5"
  }
 },
 "nbformat": 4,
 "nbformat_minor": 4
}
