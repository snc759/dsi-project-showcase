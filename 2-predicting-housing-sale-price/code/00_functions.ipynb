{
 "cells": [
  {
   "cell_type": "code",
   "execution_count": 4,
   "metadata": {},
   "outputs": [],
   "source": [
    "def clean_df (df):\n",
    "    \n",
    "    df.columns = df.columns.str.replace(' ', '')\n",
    "    df['ln_GrLivArea'] = np.log(df['GrLivArea'])\n",
    "    df['ln_LotArea'] = np.log(df['LotArea'])\n",
    "    \n",
    "#     nhood_count = pd.DataFrame(df['Neighborhood'].value_counts(dropna=False))\n",
    "#     nhood_filter = list(nhood_count[nhood_count['Neighborhood'] < 20].index)\n",
    "    nhood_filter = ['Blueste', 'Greens', 'GrnHill', 'Landmrk']\n",
    "    df['Neighborhood'] = np.where(df['Neighborhood'].isin(nhood_filter), 'Other_nhood', df['Neighborhood'])\n",
    "    nhood_dummies = pd.get_dummies(df['Neighborhood'], drop_first=True)\n",
    "    df = pd.concat([df, nhood_dummies], axis=1)\n",
    "    df['GarageArea'].fillna(df['GarageArea'].median(), inplace=True)\n",
    "    df['TotalBsmtSF'].fillna(df['TotalBsmtSF'].median(), inplace=True)\n",
    "    df['YearBuilt_squ'] = df['YearBuilt']**2\n",
    "    df['YearRemod-Built'] = df['YearRemod/Add'] - df['YearBuilt']\n",
    "    \n",
    "    df['RoofStyle'] = np.where(df['RoofStyle'].isin(['Flat', 'Gambrel', 'Mansard', 'Shed']), 'Other_roof', df['RoofStyle'])\n",
    "    roof_dummies = pd.get_dummies(df['RoofStyle'], drop_first=True)\n",
    "    df = pd.concat([df, roof_dummies], axis=1)\n",
    "    \n",
    "    df['ExterQual'] = df['ExterQual'].map({'Po':1, 'Fa':2, 'TA':3, 'Gd':4, 'Ex':5})\n",
    "    df['BsmtQual'] = df['BsmtQual'].map({np.nan:0, 'Po':1, 'Fa':2, 'TA':3, 'Gd':4, 'Ex':5})\n",
    "    df['BsmtFinType1'] = df['BsmtFinType1'].map({np.nan:0, 'Unf':1, 'LwQ':2, 'Rec':3, 'BLQ':4, 'ALQ':5, 'GLQ':6})\n",
    "    df['BsmtFinSF1'].fillna(df['BsmtFinSF1'].median(), inplace=True)\n",
    "    df['BsmtFinType1*BsmtFinSF1'] = df['BsmtFinType1'] * df['BsmtFinSF1']\n",
    "    \n",
    "    df['BsmtFinType2'] = df['BsmtFinType2'].map({np.nan:0, 'Unf':1, 'LwQ':2, 'Rec':3, 'BLQ':4, 'ALQ':5, 'GLQ':6})\n",
    "    df['BsmtFinSF2'].fillna(df['BsmtFinSF2'].median(), inplace=True)\n",
    "    df['BsmtFinType2*BsmtFinSF2'] = df['BsmtFinType2'] * df['BsmtFinSF2']\n",
    "    \n",
    "    df['ln_1stFlrSF'] = np.log(df['1stFlrSF'])\n",
    "    df['HeatingQC'] = df['HeatingQC'].map({np.nan:0, 'Po':1, 'Fa':2, 'TA':3, 'Gd':4, 'Ex':5})\n",
    "    df['CentralAir'] = df['CentralAir'].map({'Y':1, 'N': 0})\n",
    "    df['HeatingQC*CentralAir'] = df['HeatingQC'] * df['CentralAir']\n",
    "    \n",
    "    df['BsmtUnfSF'].fillna(df['BsmtUnfSF'].median(), inplace=True)\n",
    "    df['TotalBsmtSF*BsmtUnfSF'] = df['TotalBsmtSF'] * df['BsmtUnfSF']\n",
    "    \n",
    "    df['KitchenQual'] = df['KitchenQual'].map({np.nan:0, 'Po':1, 'Fa':2, 'TA':3, 'Gd':4, 'Ex':5})\n",
    "    df['BedroomAbvGr*FullBath'] = df['BedroomAbvGr'] * df['FullBath']\n",
    "    \n",
    "    df['FireplaceQu'] = df['FireplaceQu'].map({np.nan:0, 'Po':1, 'Fa':2, 'TA':3, 'Gd':4, 'Ex':5})\n",
    "    return df"
   ]
  },
  {
   "cell_type": "code",
   "execution_count": 5,
   "metadata": {},
   "outputs": [],
   "source": [
    "# submission function \n",
    "def submission(test_df, model, X):\n",
    "    \n",
    "    submission = pd.DataFrame(test_df['Id'])\n",
    "    submission['SalePrice'] = model.predict(test_df[X.columns])\n",
    "    submission.to_csv('./data/submissions_final.csv', index=False)\n",
    "    \n",
    "    return submission"
   ]
  },
  {
   "cell_type": "code",
   "execution_count": null,
   "metadata": {},
   "outputs": [],
   "source": []
  }
 ],
 "metadata": {
  "kernelspec": {
   "display_name": "Python 3",
   "language": "python",
   "name": "python3"
  },
  "language_info": {
   "codemirror_mode": {
    "name": "ipython",
    "version": 3
   },
   "file_extension": ".py",
   "mimetype": "text/x-python",
   "name": "python",
   "nbconvert_exporter": "python",
   "pygments_lexer": "ipython3",
   "version": "3.8.5"
  }
 },
 "nbformat": 4,
 "nbformat_minor": 4
}
