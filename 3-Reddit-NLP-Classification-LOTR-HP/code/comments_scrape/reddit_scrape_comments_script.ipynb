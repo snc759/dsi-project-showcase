{
 "cells": [
  {
   "cell_type": "code",
   "execution_count": 6,
   "metadata": {},
   "outputs": [],
   "source": [
    "# Imports\n",
    "\n",
    "# Standards\n",
    "import numpy as np\n",
    "import pandas as pd\n",
    "\n",
    "# API\n",
    "import requests\n",
    "\n",
    "# Automating\n",
    "import time\n",
    "import datetime as dt\n",
    "import warnings\n",
    "import sys"
   ]
  },
  {
   "cell_type": "code",
   "execution_count": 10,
   "metadata": {},
   "outputs": [],
   "source": [
    "# Creates the get_comments function that scrapes comments using the pushshift api\n",
    "def get_comments(base_url, subreddit, n_iter, epoch_right_now):\n",
    "    \n",
    "    \"\"\"Scrapes reddit data using the pushshift api, and pulls 100 posts each time, while waiting 5 seconds between each pull\"\"\"\n",
    "    df_list = []\n",
    "    current_time = epoch_right_now\n",
    "\n",
    "    for comment in range(n_iter):\n",
    "        \n",
    "        params = {\n",
    "            'subreddit': subreddit,\n",
    "            'size': 100,\n",
    "            'lang': True,   \n",
    "            'before': current_time\n",
    "        }\n",
    "        \n",
    "        res = requests.get(base_url, params)\n",
    "\n",
    "        df = pd.DataFrame(res.json()['data'])\n",
    "        \n",
    "        df = df[['subreddit', 'created_utc', 'body', 'author', 'permalink']]\n",
    "\n",
    "        df_list.append(df)\n",
    "        \n",
    "        current_time = df['created_utc'].min()  \n",
    "        \n",
    "        # add wait time\n",
    "        time.sleep(5)\n",
    "\n",
    "    return pd.concat(df_list)"
   ]
  },
  {
   "cell_type": "code",
   "execution_count": 11,
   "metadata": {},
   "outputs": [],
   "source": [
    "# Defines the reddit url to scrape comments\n",
    "reddit_url = 'https://api.pushshift.io/reddit/search/comment' "
   ]
  },
  {
   "cell_type": "code",
   "execution_count": 12,
   "metadata": {},
   "outputs": [],
   "source": [
    "# Defines the tolkien subreddit, and runs the get_comments function on the tolkien reddit posts\n",
    "tolk_subreddit = 'tolkienfans'\n",
    "tolkien_comments = get_comments(reddit_url, tolk_subreddit, n_iter=100, epoch_right_now=1616998184)"
   ]
  },
  {
   "cell_type": "code",
   "execution_count": 13,
   "metadata": {},
   "outputs": [],
   "source": [
    "# Defines the harry potter subreddit, and runs the get_comments function on the tolkien reddit posts\n",
    "hp_subreddit = 'harrypotter'\n",
    "hp_comments = get_comments(reddit_url, hp_subreddit, n_iter=100, epoch_right_now=1616998184)"
   ]
  },
  {
   "cell_type": "code",
   "execution_count": 14,
   "metadata": {},
   "outputs": [],
   "source": [
    "# Concatenates the two scrapes from the two separate reddits together\n",
    "comments = pd.concat([tolkien_comments, hp_comments])"
   ]
  },
  {
   "cell_type": "code",
   "execution_count": 15,
   "metadata": {},
   "outputs": [],
   "source": [
    "# Saves the final dataframe as a csv file in the data folder \n",
    "comments.to_csv('../../data/reddit_comments.csv')"
   ]
  },
  {
   "cell_type": "code",
   "execution_count": null,
   "metadata": {},
   "outputs": [],
   "source": []
  }
 ],
 "metadata": {
  "kernelspec": {
   "display_name": "Python 3",
   "language": "python",
   "name": "python3"
  },
  "language_info": {
   "codemirror_mode": {
    "name": "ipython",
    "version": 3
   },
   "file_extension": ".py",
   "mimetype": "text/x-python",
   "name": "python",
   "nbconvert_exporter": "python",
   "pygments_lexer": "ipython3",
   "version": "3.8.5"
  }
 },
 "nbformat": 4,
 "nbformat_minor": 4
}
