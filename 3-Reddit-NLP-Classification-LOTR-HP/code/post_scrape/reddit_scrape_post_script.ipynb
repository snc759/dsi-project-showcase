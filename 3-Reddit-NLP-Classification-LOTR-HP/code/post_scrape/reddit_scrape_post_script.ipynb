{
 "cells": [
  {
   "cell_type": "code",
   "execution_count": 7,
   "metadata": {},
   "outputs": [],
   "source": [
    "# Imports\n",
    "\n",
    "# Standards\n",
    "import numpy as np\n",
    "import pandas as pd\n",
    "\n",
    "# API\n",
    "import requests\n",
    "\n",
    "# Automating\n",
    "import time\n",
    "import datetime as dt\n",
    "import warnings\n",
    "import sys"
   ]
  },
  {
   "cell_type": "code",
   "execution_count": 8,
   "metadata": {},
   "outputs": [],
   "source": [
    "# Defines the get_posts function to scrape posts from reddit using the pushshift api\n",
    "def get_posts(base_url, subreddit, n_iter, epoch_right_now):\n",
    "    \"\"\"Scraps posts data given a reddit url, a subreddit string, number of iterations, and the current Epoch&Unix TimeStamp. \n",
    "    Pulls 100 posts at a time and waits 5 seconds between each pull. Returns a concatenated dataframe of all pulls. \"\"\"\n",
    "    df_list = []\n",
    "    current_time = epoch_right_now\n",
    "\n",
    "    for post in range(n_iter):\n",
    "        \n",
    "        params = {\n",
    "            'subreddit': subreddit,\n",
    "            'size': 100,\n",
    "            'lang': True,   \n",
    "            'before': current_time\n",
    "        }\n",
    "        \n",
    "        res = requests.get(base_url, params)\n",
    "\n",
    "        df = pd.DataFrame(res.json()['data'])\n",
    "        \n",
    "        df = df[['subreddit', 'title', 'created_utc', 'selftext', 'author', 'media_only', 'permalink']]\n",
    "\n",
    "        df_list.append(df)\n",
    "        \n",
    "        current_time = df['created_utc'].min()  \n",
    "        \n",
    "        # add wait time\n",
    "        time.sleep(5)\n",
    "\n",
    "    return pd.concat(df_list)"
   ]
  },
  {
   "cell_type": "code",
   "execution_count": 9,
   "metadata": {},
   "outputs": [],
   "source": [
    "# defines the base reddit url to be used\n",
    "reddit_url = 'https://api.pushshift.io/reddit/search/submission' "
   ]
  },
  {
   "cell_type": "code",
   "execution_count": 10,
   "metadata": {},
   "outputs": [],
   "source": [
    "# defines the subreddit name and runs the get_posts function on the tolkien subreddit\n",
    "tolk_subreddit = 'tolkienfans'\n",
    "tolkien_posts = get_posts(reddit_url, tolk_subreddit, n_iter=100, epoch_right_now=1616998184)"
   ]
  },
  {
   "cell_type": "code",
   "execution_count": 11,
   "metadata": {},
   "outputs": [],
   "source": [
    "# defines the subreddit harry potter name and runs the gest_post function on the harry potter subreddit\n",
    "hp_subreddit = 'harrypotter'\n",
    "hp_posts = get_posts(reddit_url, hp_subreddit, n_iter=100, epoch_right_now=1616998184)"
   ]
  },
  {
   "cell_type": "code",
   "execution_count": 12,
   "metadata": {},
   "outputs": [],
   "source": [
    "# concatenates the two subreddit dataframes together\n",
    "posts = pd.concat([tolkien_posts, hp_posts])"
   ]
  },
  {
   "cell_type": "code",
   "execution_count": null,
   "metadata": {},
   "outputs": [],
   "source": [
    "# saves the dataframe as a csv file in the data folder\n",
    "posts.to_csv('../../data/reddit_posts.csv')"
   ]
  }
 ],
 "metadata": {
  "kernelspec": {
   "display_name": "Python 3",
   "language": "python",
   "name": "python3"
  },
  "language_info": {
   "codemirror_mode": {
    "name": "ipython",
    "version": 3
   },
   "file_extension": ".py",
   "mimetype": "text/x-python",
   "name": "python",
   "nbconvert_exporter": "python",
   "pygments_lexer": "ipython3",
   "version": "3.8.5"
  }
 },
 "nbformat": 4,
 "nbformat_minor": 4
}
