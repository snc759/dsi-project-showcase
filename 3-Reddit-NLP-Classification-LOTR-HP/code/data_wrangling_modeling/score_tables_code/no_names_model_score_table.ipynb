{
 "cells": [
  {
   "cell_type": "markdown",
   "metadata": {},
   "source": [
    "## Creates the table showing the scores for all the models"
   ]
  },
  {
   "cell_type": "code",
   "execution_count": 2,
   "metadata": {},
   "outputs": [],
   "source": [
    "# imports\n",
    "import numpy as np\n",
    "import pandas as pd\n",
    "import matplotlib.pyplot as plt\n",
    "import seaborn as sns"
   ]
  },
  {
   "cell_type": "code",
   "execution_count": 3,
   "metadata": {},
   "outputs": [],
   "source": [
    "# Loads the model metrics dataframes from each no_names models\n",
    "no_names_nb_countvect_stem = pd.read_csv('../../../data/result_scores/no_names_nb_countvect_stem.csv')\n",
    "no_names_logreg_tfidf_stem = pd.read_csv('../../../data/result_scores/no_names_logreg_tfidf_stem.csv')\n",
    "no_names_rf_tfidf_stem = pd.read_csv('../../../data/result_scores/no_names_rf_tfidf_stem.csv')\n",
    "no_names_boost_countvect_stem = pd.read_csv('../../../data/result_scores/no_names_boost_countvect_stem.csv')"
   ]
  },
  {
   "cell_type": "code",
   "execution_count": 5,
   "metadata": {},
   "outputs": [],
   "source": [
    "# makes a list of those dataframes \n",
    "scores = [no_names_nb_countvect_stem,\n",
    "          no_names_logreg_tfidf_stem, \n",
    "          no_names_rf_tfidf_stem, \n",
    "          no_names_boost_countvect_stem]"
   ]
  },
  {
   "cell_type": "code",
   "execution_count": 8,
   "metadata": {},
   "outputs": [
    {
     "data": {
      "text/html": [
       "<div>\n",
       "<style scoped>\n",
       "    .dataframe tbody tr th:only-of-type {\n",
       "        vertical-align: middle;\n",
       "    }\n",
       "\n",
       "    .dataframe tbody tr th {\n",
       "        vertical-align: top;\n",
       "    }\n",
       "\n",
       "    .dataframe thead th {\n",
       "        text-align: right;\n",
       "    }\n",
       "</style>\n",
       "<table border=\"1\" class=\"dataframe\">\n",
       "  <thead>\n",
       "    <tr style=\"text-align: right;\">\n",
       "      <th></th>\n",
       "      <th>Model</th>\n",
       "      <th>Transformer</th>\n",
       "      <th>Stemmed/Lemmed</th>\n",
       "      <th>Train_acc</th>\n",
       "      <th>Test_acc</th>\n",
       "      <th>AUC</th>\n",
       "    </tr>\n",
       "  </thead>\n",
       "  <tbody>\n",
       "    <tr>\n",
       "      <th>0</th>\n",
       "      <td>MultinomialNB</td>\n",
       "      <td>CountVectorizer</td>\n",
       "      <td>Stemmed</td>\n",
       "      <td>0.952381</td>\n",
       "      <td>0.950615</td>\n",
       "      <td>0.991785</td>\n",
       "    </tr>\n",
       "    <tr>\n",
       "      <th>1</th>\n",
       "      <td>Logistic</td>\n",
       "      <td>TFIDF</td>\n",
       "      <td>Stemmed</td>\n",
       "      <td>0.971174</td>\n",
       "      <td>0.955702</td>\n",
       "      <td>0.992427</td>\n",
       "    </tr>\n",
       "    <tr>\n",
       "      <th>2</th>\n",
       "      <td>RandomForest</td>\n",
       "      <td>TFIDF</td>\n",
       "      <td>Stemmed</td>\n",
       "      <td>0.965381</td>\n",
       "      <td>0.932175</td>\n",
       "      <td>0.982628</td>\n",
       "    </tr>\n",
       "    <tr>\n",
       "      <th>3</th>\n",
       "      <td>AdaBoost</td>\n",
       "      <td>CountVect</td>\n",
       "      <td>Stemmed</td>\n",
       "      <td>0.949484</td>\n",
       "      <td>0.938745</td>\n",
       "      <td>0.986431</td>\n",
       "    </tr>\n",
       "  </tbody>\n",
       "</table>\n",
       "</div>"
      ],
      "text/plain": [
       "           Model      Transformer Stemmed/Lemmed  Train_acc  Test_acc  \\\n",
       "0  MultinomialNB  CountVectorizer        Stemmed   0.952381  0.950615   \n",
       "1       Logistic            TFIDF        Stemmed   0.971174  0.955702   \n",
       "2   RandomForest            TFIDF        Stemmed   0.965381  0.932175   \n",
       "3       AdaBoost        CountVect        Stemmed   0.949484  0.938745   \n",
       "\n",
       "        AUC  \n",
       "0  0.991785  \n",
       "1  0.992427  \n",
       "2  0.982628  \n",
       "3  0.986431  "
      ]
     },
     "execution_count": 8,
     "metadata": {},
     "output_type": "execute_result"
    }
   ],
   "source": [
    "# Concatenates those dataframes for a final model metrics table containing the metrics from each classifier\n",
    "no_names_scores_df = pd.concat(scores, ignore_index=True)\n",
    "no_names_scores_df.drop(columns=['Unnamed: 0'], inplace=True)\n",
    "no_names_scores_df"
   ]
  },
  {
   "cell_type": "code",
   "execution_count": null,
   "metadata": {},
   "outputs": [],
   "source": []
  }
 ],
 "metadata": {
  "kernelspec": {
   "display_name": "Python 3",
   "language": "python",
   "name": "python3"
  },
  "language_info": {
   "codemirror_mode": {
    "name": "ipython",
    "version": 3
   },
   "file_extension": ".py",
   "mimetype": "text/x-python",
   "name": "python",
   "nbconvert_exporter": "python",
   "pygments_lexer": "ipython3",
   "version": "3.8.5"
  }
 },
 "nbformat": 4,
 "nbformat_minor": 4
}
