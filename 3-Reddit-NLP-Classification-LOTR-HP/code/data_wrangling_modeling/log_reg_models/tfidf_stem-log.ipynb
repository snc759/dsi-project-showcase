{
 "cells": [
  {
   "cell_type": "markdown",
   "metadata": {},
   "source": [
    "## Logistic Regression Modeling and some EDA using: \n",
    "### - Transformer: TfidfVectorizer\n",
    "### - Stemmed words"
   ]
  },
  {
   "cell_type": "code",
   "execution_count": 4,
   "metadata": {},
   "outputs": [],
   "source": [
    "# Imports \n",
    "import numpy as np\n",
    "import pandas as pd\n",
    "import matplotlib.pyplot as plt\n",
    "import seaborn as sns\n",
    "\n",
    "# Naive Bayes \n",
    "from sklearn.naive_bayes import MultinomialNB, BernoulliNB\n",
    "\n",
    "# Logistic Regression\n",
    "from sklearn.linear_model import LogisticRegression\n",
    "\n",
    "# Other Sklearn \n",
    "from sklearn.model_selection import train_test_split, cross_val_score, GridSearchCV\n",
    "from sklearn.metrics import confusion_matrix, ConfusionMatrixDisplay, accuracy_score, plot_roc_curve, roc_auc_score, recall_score, precision_score, f1_score, classification_report\n",
    "\n",
    "# Pipeline\n",
    "from sklearn.pipeline import Pipeline, make_pipeline\n",
    "\n",
    "# NLP imports\n",
    "from sklearn.feature_extraction.text import CountVectorizer, TfidfVectorizer\n",
    "# nltk.download()  --> Download all, and then restart jupyter lab\n",
    "import nltk\n",
    "from nltk.tokenize import sent_tokenize, word_tokenize, RegexpTokenizer\n",
    "from nltk.stem import WordNetLemmatizer\n",
    "from nltk.stem.porter import PorterStemmer\n",
    "from nltk.corpus import stopwords\n",
    "from nltk.sentiment.vader import SentimentIntensityAnalyzer\n",
    "from nltk import FreqDist, pos_tag\n",
    "import re"
   ]
  },
  {
   "cell_type": "markdown",
   "metadata": {},
   "source": [
    "### Loading Data and Splitting Data"
   ]
  },
  {
   "cell_type": "code",
   "execution_count": 5,
   "metadata": {},
   "outputs": [
    {
     "data": {
      "text/html": [
       "<div>\n",
       "<style scoped>\n",
       "    .dataframe tbody tr th:only-of-type {\n",
       "        vertical-align: middle;\n",
       "    }\n",
       "\n",
       "    .dataframe tbody tr th {\n",
       "        vertical-align: top;\n",
       "    }\n",
       "\n",
       "    .dataframe thead th {\n",
       "        text-align: right;\n",
       "    }\n",
       "</style>\n",
       "<table border=\"1\" class=\"dataframe\">\n",
       "  <thead>\n",
       "    <tr style=\"text-align: right;\">\n",
       "      <th></th>\n",
       "      <th>subreddit</th>\n",
       "      <th>title</th>\n",
       "      <th>created_utc</th>\n",
       "      <th>selftext</th>\n",
       "      <th>title_selftext</th>\n",
       "      <th>author</th>\n",
       "      <th>media_only</th>\n",
       "      <th>permalink</th>\n",
       "      <th>text_length</th>\n",
       "      <th>clean_text_stem</th>\n",
       "      <th>clean_text_lem</th>\n",
       "    </tr>\n",
       "  </thead>\n",
       "  <tbody>\n",
       "    <tr>\n",
       "      <th>0</th>\n",
       "      <td>tolkienfans</td>\n",
       "      <td>What happened to Tolkien’s Red Book?</td>\n",
       "      <td>1616977706</td>\n",
       "      <td>I was wondering if somebody could clear up my ...</td>\n",
       "      <td>what happened to tolkien s red book i was wond...</td>\n",
       "      <td>lukeskinwalker69epic</td>\n",
       "      <td>False</td>\n",
       "      <td>/r/tolkienfans/comments/mfdrms/what_happened_t...</td>\n",
       "      <td>322</td>\n",
       "      <td>happen tolkien red book wonder somebodi could ...</td>\n",
       "      <td>happened tolkien red book wondering somebody c...</td>\n",
       "    </tr>\n",
       "    <tr>\n",
       "      <th>1</th>\n",
       "      <td>tolkienfans</td>\n",
       "      <td>What Makes People Turn Invisible When the Put ...</td>\n",
       "      <td>1616971688</td>\n",
       "      <td>I guess this is a big question because I never...</td>\n",
       "      <td>what makes people turn invisible when the put ...</td>\n",
       "      <td>Jpmaniax26</td>\n",
       "      <td>False</td>\n",
       "      <td>/r/tolkienfans/comments/mfbzjh/what_makes_peop...</td>\n",
       "      <td>252</td>\n",
       "      <td>make peopl turn invis put one ring guess big q...</td>\n",
       "      <td>make people turn invisible put one ring guess ...</td>\n",
       "    </tr>\n",
       "    <tr>\n",
       "      <th>2</th>\n",
       "      <td>tolkienfans</td>\n",
       "      <td>Theory: At some point not told in the Tale, Ar...</td>\n",
       "      <td>1616971077</td>\n",
       "      <td>This is the last dialogue between Queen Undómi...</td>\n",
       "      <td>theory at some point not told in the tale arag...</td>\n",
       "      <td>yew_eater</td>\n",
       "      <td>False</td>\n",
       "      <td>/r/tolkienfans/comments/mfbsks/theory_at_some_...</td>\n",
       "      <td>6045</td>\n",
       "      <td>theori point told tale aragorn arwen must seri...</td>\n",
       "      <td>theory point told tale aragorn arwen must seri...</td>\n",
       "    </tr>\n",
       "    <tr>\n",
       "      <th>3</th>\n",
       "      <td>tolkienfans</td>\n",
       "      <td>I’d like to purchase a matching set of books o...</td>\n",
       "      <td>1616969977</td>\n",
       "      <td>Can anyone help me out? Looking for matching b...</td>\n",
       "      <td>i d like to purchase a matching set of books o...</td>\n",
       "      <td>GoosePants72</td>\n",
       "      <td>False</td>\n",
       "      <td>/r/tolkienfans/comments/mfbfyj/id_like_to_purc...</td>\n",
       "      <td>302</td>\n",
       "      <td>like purchas match set book everyth lotr silma...</td>\n",
       "      <td>like purchase matching set book everything lot...</td>\n",
       "    </tr>\n",
       "    <tr>\n",
       "      <th>4</th>\n",
       "      <td>tolkienfans</td>\n",
       "      <td>When Faramir ‘proposes’ to Eowyn, something we...</td>\n",
       "      <td>1616966528</td>\n",
       "      <td>After he confesses his love for her and talks ...</td>\n",
       "      <td>when faramir proposes to eowyn something weird...</td>\n",
       "      <td>PhendranaDrifter</td>\n",
       "      <td>False</td>\n",
       "      <td>/r/tolkienfans/comments/mfaae8/when_faramir_pr...</td>\n",
       "      <td>731</td>\n",
       "      <td>faramir propos eowyn someth weird happen confe...</td>\n",
       "      <td>faramir proposes eowyn something weird happens...</td>\n",
       "    </tr>\n",
       "  </tbody>\n",
       "</table>\n",
       "</div>"
      ],
      "text/plain": [
       "     subreddit                                              title  \\\n",
       "0  tolkienfans               What happened to Tolkien’s Red Book?   \n",
       "1  tolkienfans  What Makes People Turn Invisible When the Put ...   \n",
       "2  tolkienfans  Theory: At some point not told in the Tale, Ar...   \n",
       "3  tolkienfans  I’d like to purchase a matching set of books o...   \n",
       "4  tolkienfans  When Faramir ‘proposes’ to Eowyn, something we...   \n",
       "\n",
       "   created_utc                                           selftext  \\\n",
       "0   1616977706  I was wondering if somebody could clear up my ...   \n",
       "1   1616971688  I guess this is a big question because I never...   \n",
       "2   1616971077  This is the last dialogue between Queen Undómi...   \n",
       "3   1616969977  Can anyone help me out? Looking for matching b...   \n",
       "4   1616966528  After he confesses his love for her and talks ...   \n",
       "\n",
       "                                      title_selftext                author  \\\n",
       "0  what happened to tolkien s red book i was wond...  lukeskinwalker69epic   \n",
       "1  what makes people turn invisible when the put ...            Jpmaniax26   \n",
       "2  theory at some point not told in the tale arag...             yew_eater   \n",
       "3  i d like to purchase a matching set of books o...          GoosePants72   \n",
       "4  when faramir proposes to eowyn something weird...      PhendranaDrifter   \n",
       "\n",
       "   media_only                                          permalink  text_length  \\\n",
       "0       False  /r/tolkienfans/comments/mfdrms/what_happened_t...          322   \n",
       "1       False  /r/tolkienfans/comments/mfbzjh/what_makes_peop...          252   \n",
       "2       False  /r/tolkienfans/comments/mfbsks/theory_at_some_...         6045   \n",
       "3       False  /r/tolkienfans/comments/mfbfyj/id_like_to_purc...          302   \n",
       "4       False  /r/tolkienfans/comments/mfaae8/when_faramir_pr...          731   \n",
       "\n",
       "                                     clean_text_stem  \\\n",
       "0  happen tolkien red book wonder somebodi could ...   \n",
       "1  make peopl turn invis put one ring guess big q...   \n",
       "2  theori point told tale aragorn arwen must seri...   \n",
       "3  like purchas match set book everyth lotr silma...   \n",
       "4  faramir propos eowyn someth weird happen confe...   \n",
       "\n",
       "                                      clean_text_lem  \n",
       "0  happened tolkien red book wondering somebody c...  \n",
       "1  make people turn invisible put one ring guess ...  \n",
       "2  theory point told tale aragorn arwen must seri...  \n",
       "3  like purchase matching set book everything lot...  \n",
       "4  faramir proposes eowyn something weird happens...  "
      ]
     },
     "execution_count": 5,
     "metadata": {},
     "output_type": "execute_result"
    }
   ],
   "source": [
    "# Load the data\n",
    "df = pd.read_csv('../../../data/clean_data/clean_posts.csv', index_col=0)\n",
    "df.head()"
   ]
  },
  {
   "cell_type": "code",
   "execution_count": 6,
   "metadata": {},
   "outputs": [
    {
     "data": {
      "text/plain": [
       "tolkienfans    0.516823\n",
       "harrypotter    0.483177\n",
       "Name: subreddit, dtype: float64"
      ]
     },
     "execution_count": 6,
     "metadata": {},
     "output_type": "execute_result"
    }
   ],
   "source": [
    "# Checks baseline\n",
    "df['subreddit'].value_counts(normalize=True)\n",
    "# df['subreddit'].value_counts()"
   ]
  },
  {
   "cell_type": "code",
   "execution_count": 8,
   "metadata": {},
   "outputs": [],
   "source": [
    "# Set up X and y\n",
    "X = df['clean_text_stem']\n",
    "y = df['subreddit']"
   ]
  },
  {
   "cell_type": "code",
   "execution_count": 9,
   "metadata": {},
   "outputs": [],
   "source": [
    "# Splits the data into training and test sets\n",
    "X_train, X_test, y_train, y_test = train_test_split(X, y, \n",
    "                                                    stratify=y,\n",
    "                                                    random_state=42)"
   ]
  },
  {
   "cell_type": "markdown",
   "metadata": {},
   "source": [
    "### Modeling"
   ]
  },
  {
   "cell_type": "code",
   "execution_count": 10,
   "metadata": {},
   "outputs": [
    {
     "data": {
      "text/plain": [
       "tolkienfans    0.516821\n",
       "harrypotter    0.483179\n",
       "Name: subreddit, dtype: float64"
      ]
     },
     "execution_count": 10,
     "metadata": {},
     "output_type": "execute_result"
    }
   ],
   "source": [
    "# Baseline accuracy \n",
    "y_test.value_counts(normalize=True)"
   ]
  },
  {
   "cell_type": "code",
   "execution_count": 11,
   "metadata": {},
   "outputs": [],
   "source": [
    "# Instantiates a pipeline \n",
    "pipe = Pipeline([\n",
    "    ('tvec', TfidfVectorizer()),\n",
    "    ('logreg', LogisticRegression())\n",
    "])"
   ]
  },
  {
   "cell_type": "code",
   "execution_count": 12,
   "metadata": {},
   "outputs": [],
   "source": [
    "pipe_params = {\n",
    "    'tvec__max_features': [2000, 3000, 4000, 5000],\n",
    "    'tvec__min_df':[1, 2],\n",
    "    'tvec__max_df':[0.90, 0.98],\n",
    "    'tvec__ngram_range':[(1,1), (1,2)],\n",
    "    'logreg__C': [1, 0.1, 0.01]\n",
    "}"
   ]
  },
  {
   "cell_type": "code",
   "execution_count": 13,
   "metadata": {},
   "outputs": [],
   "source": [
    "# Instantiates the GridSearchCV\n",
    "gs = GridSearchCV(pipe, \n",
    "                param_grid=pipe_params,\n",
    "                cv=5, \n",
    "                verbose=1, \n",
    "                 n_jobs=4)"
   ]
  },
  {
   "cell_type": "code",
   "execution_count": 14,
   "metadata": {},
   "outputs": [
    {
     "name": "stdout",
     "output_type": "stream",
     "text": [
      "Fitting 5 folds for each of 96 candidates, totalling 480 fits\n"
     ]
    },
    {
     "name": "stderr",
     "output_type": "stream",
     "text": [
      "[Parallel(n_jobs=4)]: Using backend LokyBackend with 4 concurrent workers.\n",
      "[Parallel(n_jobs=4)]: Done  42 tasks      | elapsed:   24.0s\n",
      "[Parallel(n_jobs=4)]: Done 192 tasks      | elapsed:  2.0min\n",
      "[Parallel(n_jobs=4)]: Done 442 tasks      | elapsed:  4.5min\n",
      "[Parallel(n_jobs=4)]: Done 480 out of 480 | elapsed:  5.0min finished\n"
     ]
    },
    {
     "data": {
      "text/plain": [
       "GridSearchCV(cv=5,\n",
       "             estimator=Pipeline(steps=[('tvec', TfidfVectorizer()),\n",
       "                                       ('logreg', LogisticRegression())]),\n",
       "             n_jobs=4,\n",
       "             param_grid={'logreg__C': [1, 0.1, 0.01],\n",
       "                         'tvec__max_df': [0.9, 0.98],\n",
       "                         'tvec__max_features': [2000, 3000, 4000, 5000],\n",
       "                         'tvec__min_df': [1, 2],\n",
       "                         'tvec__ngram_range': [(1, 1), (1, 2)]},\n",
       "             verbose=1)"
      ]
     },
     "execution_count": 14,
     "metadata": {},
     "output_type": "execute_result"
    }
   ],
   "source": [
    "# Fits GridSearch to training data\n",
    "gs.fit(X_train, y_train)"
   ]
  },
  {
   "cell_type": "markdown",
   "metadata": {},
   "source": [
    "### Evaluation"
   ]
  },
  {
   "cell_type": "code",
   "execution_count": 15,
   "metadata": {},
   "outputs": [
    {
     "data": {
      "text/plain": [
       "(0.9851394924996495, 0.9728763666947015)"
      ]
     },
     "execution_count": 15,
     "metadata": {},
     "output_type": "execute_result"
    }
   ],
   "source": [
    "# Assigns the training and testing accuracy scores to variable names\n",
    "train1, test1 = gs.score(X_train, y_train), gs.score(X_test, y_test)\n",
    "train1, test1"
   ]
  },
  {
   "cell_type": "code",
   "execution_count": 16,
   "metadata": {},
   "outputs": [
    {
     "data": {
      "text/plain": [
       "{'logreg__C': 1,\n",
       " 'tvec__max_df': 0.9,\n",
       " 'tvec__max_features': 5000,\n",
       " 'tvec__min_df': 1,\n",
       " 'tvec__ngram_range': (1, 2)}"
      ]
     },
     "execution_count": 16,
     "metadata": {},
     "output_type": "execute_result"
    }
   ],
   "source": [
    "# returns the best parameters from the gridsearch\n",
    "gs.best_params_"
   ]
  },
  {
   "cell_type": "code",
   "execution_count": 17,
   "metadata": {},
   "outputs": [],
   "source": [
    "# Calculates the y predictions and the AUC score\n",
    "y_preds = gs.predict(X_test)\n",
    "auc = roc_auc_score(y_test, gs.predict_proba(X_test)[:,1])"
   ]
  },
  {
   "cell_type": "code",
   "execution_count": 18,
   "metadata": {},
   "outputs": [],
   "source": [
    "# Creates the model metrics row dataframe to be added to the final metrics table in the presentation\n",
    "results = pd.DataFrame({'Model': ['Logistic'], \n",
    "                        'Transformer': ['TFIDF'],\n",
    "                        'Stemmed/Lemmed': ['Stemmed'],\n",
    "                        'Train_acc': [train1],\n",
    "                        'Test_acc': [test1], \n",
    "                        'AUC': [auc]})\n",
    "results.to_csv('../../../data/result_scores/logreg_tfidf_stem.csv')"
   ]
  },
  {
   "cell_type": "code",
   "execution_count": 19,
   "metadata": {},
   "outputs": [
    {
     "data": {
      "text/html": [
       "<div>\n",
       "<style scoped>\n",
       "    .dataframe tbody tr th:only-of-type {\n",
       "        vertical-align: middle;\n",
       "    }\n",
       "\n",
       "    .dataframe tbody tr th {\n",
       "        vertical-align: top;\n",
       "    }\n",
       "\n",
       "    .dataframe thead th {\n",
       "        text-align: right;\n",
       "    }\n",
       "</style>\n",
       "<table border=\"1\" class=\"dataframe\">\n",
       "  <thead>\n",
       "    <tr style=\"text-align: right;\">\n",
       "      <th></th>\n",
       "      <th>Model</th>\n",
       "      <th>Transformer</th>\n",
       "      <th>Stemmed/Lemmed</th>\n",
       "      <th>Train_acc</th>\n",
       "      <th>Test_acc</th>\n",
       "      <th>AUC</th>\n",
       "    </tr>\n",
       "  </thead>\n",
       "  <tbody>\n",
       "    <tr>\n",
       "      <th>0</th>\n",
       "      <td>Logistic</td>\n",
       "      <td>TFIDF</td>\n",
       "      <td>Stemmed</td>\n",
       "      <td>0.985139</td>\n",
       "      <td>0.972876</td>\n",
       "      <td>0.996521</td>\n",
       "    </tr>\n",
       "  </tbody>\n",
       "</table>\n",
       "</div>"
      ],
      "text/plain": [
       "      Model Transformer Stemmed/Lemmed  Train_acc  Test_acc       AUC\n",
       "0  Logistic       TFIDF        Stemmed   0.985139  0.972876  0.996521"
      ]
     },
     "execution_count": 19,
     "metadata": {},
     "output_type": "execute_result"
    }
   ],
   "source": [
    "results"
   ]
  },
  {
   "cell_type": "code",
   "execution_count": 20,
   "metadata": {},
   "outputs": [
    {
     "data": {
      "image/png": "[encoded data removed]",
      "text/plain": [
       "<Figure size 432x288 with 1 Axes>"
      ]
     },
     "metadata": {
      "needs_background": "light"
     },
     "output_type": "display_data"
    }
   ],
   "source": [
    "# plots the ROC curve and visualizes the AUC score\n",
    "plot_roc_curve(gs, X_test, y_test)\n",
    "plt.plot([0,1],[0,1], label='baseline', linestyle='--');"
   ]
  },
  {
   "cell_type": "code",
   "execution_count": 21,
   "metadata": {},
   "outputs": [
    {
     "data": {
      "image/png": "[encoded data removed]",
      "text/plain": [
       "<Figure size 720x720 with 2 Axes>"
      ]
     },
     "metadata": {},
     "output_type": "display_data"
    }
   ],
   "source": [
    "# Created the confusion matrix and saves it as an image\n",
    "sns.set(font_scale=2.0)\n",
    "cm = confusion_matrix(y_test, y_preds)\n",
    "fig, ax = plt.subplots(figsize=(10, 10))\n",
    "plot = ConfusionMatrixDisplay(cm).plot(ax=ax)\n",
    "plot\n",
    "plt.title('Confusion Matrix')\n",
    "ax.set_title('Confusion Matrix', fontdict={'size':'15'})\n",
    "ax.set_xticklabels(df['subreddit'].unique(), size=15);\n",
    "ax.set_yticklabels(df['subreddit'].unique(), size=15);\n",
    "ax.set_xlabel('Predicted label', fontdict={'size':'15'})\n",
    "ax.set_ylabel('True label', fontdict={'size':'15'})\n",
    "\n",
    "plt.savefig('../../../presentation/imgs/cm_logreg_tfidf_stem.jpg')"
   ]
  },
  {
   "cell_type": "code",
   "execution_count": 22,
   "metadata": {},
   "outputs": [
    {
     "data": {
      "text/html": [
       "<div>\n",
       "<style scoped>\n",
       "    .dataframe tbody tr th:only-of-type {\n",
       "        vertical-align: middle;\n",
       "    }\n",
       "\n",
       "    .dataframe tbody tr th {\n",
       "        vertical-align: top;\n",
       "    }\n",
       "\n",
       "    .dataframe thead th {\n",
       "        text-align: right;\n",
       "    }\n",
       "</style>\n",
       "<table border=\"1\" class=\"dataframe\">\n",
       "  <thead>\n",
       "    <tr style=\"text-align: right;\">\n",
       "      <th></th>\n",
       "      <th>coefs</th>\n",
       "      <th>features</th>\n",
       "      <th>e^coef</th>\n",
       "    </tr>\n",
       "  </thead>\n",
       "  <tbody>\n",
       "    <tr>\n",
       "      <th>1985</th>\n",
       "      <td>-8.551078</td>\n",
       "      <td>harri</td>\n",
       "      <td>0.000193</td>\n",
       "    </tr>\n",
       "    <tr>\n",
       "      <th>2098</th>\n",
       "      <td>-5.434038</td>\n",
       "      <td>hogwart</td>\n",
       "      <td>0.004365</td>\n",
       "    </tr>\n",
       "    <tr>\n",
       "      <th>3306</th>\n",
       "      <td>-5.078030</td>\n",
       "      <td>potter</td>\n",
       "      <td>0.006232</td>\n",
       "    </tr>\n",
       "    <tr>\n",
       "      <th>4679</th>\n",
       "      <td>-4.703263</td>\n",
       "      <td>voldemort</td>\n",
       "      <td>0.009066</td>\n",
       "    </tr>\n",
       "    <tr>\n",
       "      <th>1239</th>\n",
       "      <td>-4.497534</td>\n",
       "      <td>dumbledor</td>\n",
       "      <td>0.011136</td>\n",
       "    </tr>\n",
       "    <tr>\n",
       "      <th>4011</th>\n",
       "      <td>-4.462378</td>\n",
       "      <td>snape</td>\n",
       "      <td>0.011535</td>\n",
       "    </tr>\n",
       "    <tr>\n",
       "      <th>2140</th>\n",
       "      <td>-4.162239</td>\n",
       "      <td>hp</td>\n",
       "      <td>0.015573</td>\n",
       "    </tr>\n",
       "    <tr>\n",
       "      <th>2049</th>\n",
       "      <td>-4.000079</td>\n",
       "      <td>hermion</td>\n",
       "      <td>0.018314</td>\n",
       "    </tr>\n",
       "    <tr>\n",
       "      <th>2001</th>\n",
       "      <td>-3.669953</td>\n",
       "      <td>harri potter</td>\n",
       "      <td>0.025478</td>\n",
       "    </tr>\n",
       "    <tr>\n",
       "      <th>4833</th>\n",
       "      <td>-3.660520</td>\n",
       "      <td>wizard</td>\n",
       "      <td>0.025719</td>\n",
       "    </tr>\n",
       "  </tbody>\n",
       "</table>\n",
       "</div>"
      ],
      "text/plain": [
       "         coefs      features    e^coef\n",
       "1985 -8.551078         harri  0.000193\n",
       "2098 -5.434038       hogwart  0.004365\n",
       "3306 -5.078030        potter  0.006232\n",
       "4679 -4.703263     voldemort  0.009066\n",
       "1239 -4.497534     dumbledor  0.011136\n",
       "4011 -4.462378         snape  0.011535\n",
       "2140 -4.162239            hp  0.015573\n",
       "2049 -4.000079       hermion  0.018314\n",
       "2001 -3.669953  harri potter  0.025478\n",
       "4833 -3.660520        wizard  0.025719"
      ]
     },
     "execution_count": 22,
     "metadata": {},
     "output_type": "execute_result"
    }
   ],
   "source": [
    "# Creates the model metrics row dataframe to be added to the final model metrics table in the presentation, and then outputs the 10 smallest coefficients\n",
    "coefs = gs.best_estimator_.named_steps['logreg'].coef_\n",
    "coefs = coefs.ravel()\n",
    "\n",
    "names = gs.best_estimator_.named_steps['tvec'].get_feature_names()\n",
    "\n",
    "coef_dict = pd.DataFrame({'coefs': coefs,\n",
    "                          'features': pd.Series(names)})\n",
    "\n",
    "new_nsmall_dict = coef_dict.nsmallest(10, columns=['coefs'])\n",
    "new_nsmall_dict['e^coef'] = np.exp(new_nsmall_dict['coefs'])\n",
    "new_nsmall_dict"
   ]
  },
  {
   "cell_type": "code",
   "execution_count": 23,
   "metadata": {},
   "outputs": [
    {
     "data": {
      "text/html": [
       "<div>\n",
       "<style scoped>\n",
       "    .dataframe tbody tr th:only-of-type {\n",
       "        vertical-align: middle;\n",
       "    }\n",
       "\n",
       "    .dataframe tbody tr th {\n",
       "        vertical-align: top;\n",
       "    }\n",
       "\n",
       "    .dataframe thead th {\n",
       "        text-align: right;\n",
       "    }\n",
       "</style>\n",
       "<table border=\"1\" class=\"dataframe\">\n",
       "  <thead>\n",
       "    <tr style=\"text-align: right;\">\n",
       "      <th></th>\n",
       "      <th>coefs</th>\n",
       "      <th>features</th>\n",
       "      <th>e^coef</th>\n",
       "    </tr>\n",
       "  </thead>\n",
       "  <tbody>\n",
       "    <tr>\n",
       "      <th>4424</th>\n",
       "      <td>12.481889</td>\n",
       "      <td>tolkien</td>\n",
       "      <td>263521.093484</td>\n",
       "    </tr>\n",
       "    <tr>\n",
       "      <th>2088</th>\n",
       "      <td>6.996582</td>\n",
       "      <td>hobbit</td>\n",
       "      <td>1092.891788</td>\n",
       "    </tr>\n",
       "    <tr>\n",
       "      <th>2606</th>\n",
       "      <td>6.917830</td>\n",
       "      <td>lotr</td>\n",
       "      <td>1010.125899</td>\n",
       "    </tr>\n",
       "    <tr>\n",
       "      <th>3669</th>\n",
       "      <td>6.413539</td>\n",
       "      <td>ring</td>\n",
       "      <td>610.048982</td>\n",
       "    </tr>\n",
       "    <tr>\n",
       "      <th>3948</th>\n",
       "      <td>5.666969</td>\n",
       "      <td>silmarillion</td>\n",
       "      <td>289.156808</td>\n",
       "    </tr>\n",
       "    <tr>\n",
       "      <th>3768</th>\n",
       "      <td>5.182288</td>\n",
       "      <td>sauron</td>\n",
       "      <td>178.089904</td>\n",
       "    </tr>\n",
       "    <tr>\n",
       "      <th>1338</th>\n",
       "      <td>4.452551</td>\n",
       "      <td>elv</td>\n",
       "      <td>85.845660</td>\n",
       "    </tr>\n",
       "    <tr>\n",
       "      <th>1282</th>\n",
       "      <td>3.966184</td>\n",
       "      <td>earth</td>\n",
       "      <td>52.782748</td>\n",
       "    </tr>\n",
       "    <tr>\n",
       "      <th>2787</th>\n",
       "      <td>3.777674</td>\n",
       "      <td>middl earth</td>\n",
       "      <td>43.714237</td>\n",
       "    </tr>\n",
       "    <tr>\n",
       "      <th>2851</th>\n",
       "      <td>3.589088</td>\n",
       "      <td>morgoth</td>\n",
       "      <td>36.201061</td>\n",
       "    </tr>\n",
       "  </tbody>\n",
       "</table>\n",
       "</div>"
      ],
      "text/plain": [
       "          coefs      features         e^coef\n",
       "4424  12.481889       tolkien  263521.093484\n",
       "2088   6.996582        hobbit    1092.891788\n",
       "2606   6.917830          lotr    1010.125899\n",
       "3669   6.413539          ring     610.048982\n",
       "3948   5.666969  silmarillion     289.156808\n",
       "3768   5.182288        sauron     178.089904\n",
       "1338   4.452551           elv      85.845660\n",
       "1282   3.966184         earth      52.782748\n",
       "2787   3.777674   middl earth      43.714237\n",
       "2851   3.589088       morgoth      36.201061"
      ]
     },
     "execution_count": 23,
     "metadata": {},
     "output_type": "execute_result"
    }
   ],
   "source": [
    "# Creates the dataframe that shows the 10 largest coefficients and their e^coef value\n",
    "new_nlarge_dict = coef_dict.nlargest(10, columns=['coefs'])\n",
    "new_nlarge_dict['e^coef'] = np.exp(new_nlarge_dict['coefs'])\n",
    "new_nlarge_dict"
   ]
  },
  {
   "cell_type": "code",
   "execution_count": null,
   "metadata": {},
   "outputs": [],
   "source": []
  }
 ],
 "metadata": {
  "kernelspec": {
   "display_name": "Python 3",
   "language": "python",
   "name": "python3"
  },
  "language_info": {
   "codemirror_mode": {
    "name": "ipython",
    "version": 3
   },
   "file_extension": ".py",
   "mimetype": "text/x-python",
   "name": "python",
   "nbconvert_exporter": "python",
   "pygments_lexer": "ipython3",
   "version": "3.8.5"
  }
 },
 "nbformat": 4,
 "nbformat_minor": 4
}
