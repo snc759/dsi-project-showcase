{
 "cells": [
  {
   "cell_type": "markdown",
   "metadata": {},
   "source": [
    "## Logistic Regression Modeling and some EDA using: \n",
    "### - Transformer: CountVectorizer\n",
    "### - Lemmatized words"
   ]
  },
  {
   "cell_type": "code",
   "execution_count": 1,
   "metadata": {},
   "outputs": [],
   "source": [
    "# Imports \n",
    "import numpy as np\n",
    "import pandas as pd\n",
    "import matplotlib.pyplot as plt\n",
    "import seaborn as sns\n",
    "\n",
    "# Naive Bayes \n",
    "from sklearn.naive_bayes import MultinomialNB, BernoulliNB\n",
    "\n",
    "# Logistic Regression \n",
    "from sklearn.linear_model import LogisticRegression\n",
    "\n",
    "# Other Sklearn \n",
    "from sklearn.model_selection import train_test_split, cross_val_score, GridSearchCV\n",
    "from sklearn.metrics import confusion_matrix, ConfusionMatrixDisplay, accuracy_score, plot_roc_curve, roc_auc_score, recall_score, precision_score, f1_score, classification_report\n",
    "\n",
    "# Pipeline\n",
    "from sklearn.pipeline import Pipeline, make_pipeline\n",
    "\n",
    "# NLP imports\n",
    "from sklearn.feature_extraction.text import CountVectorizer, TfidfVectorizer\n",
    "# nltk.download()  --> Download all, and then restart jupyter lab\n",
    "import nltk\n",
    "from nltk.tokenize import sent_tokenize, word_tokenize, RegexpTokenizer\n",
    "from nltk.stem import WordNetLemmatizer\n",
    "from nltk.stem.porter import PorterStemmer\n",
    "from nltk.corpus import stopwords\n",
    "from nltk.sentiment.vader import SentimentIntensityAnalyzer\n",
    "from nltk import FreqDist, pos_tag\n",
    "import re"
   ]
  },
  {
   "cell_type": "markdown",
   "metadata": {},
   "source": [
    "### Loading Data and Splitting Data"
   ]
  },
  {
   "cell_type": "code",
   "execution_count": 2,
   "metadata": {},
   "outputs": [
    {
     "data": {
      "text/html": [
       "<div>\n",
       "<style scoped>\n",
       "    .dataframe tbody tr th:only-of-type {\n",
       "        vertical-align: middle;\n",
       "    }\n",
       "\n",
       "    .dataframe tbody tr th {\n",
       "        vertical-align: top;\n",
       "    }\n",
       "\n",
       "    .dataframe thead th {\n",
       "        text-align: right;\n",
       "    }\n",
       "</style>\n",
       "<table border=\"1\" class=\"dataframe\">\n",
       "  <thead>\n",
       "    <tr style=\"text-align: right;\">\n",
       "      <th></th>\n",
       "      <th>subreddit</th>\n",
       "      <th>title</th>\n",
       "      <th>created_utc</th>\n",
       "      <th>selftext</th>\n",
       "      <th>title_selftext</th>\n",
       "      <th>author</th>\n",
       "      <th>media_only</th>\n",
       "      <th>permalink</th>\n",
       "      <th>text_length</th>\n",
       "      <th>clean_text_stem</th>\n",
       "      <th>clean_text_lem</th>\n",
       "    </tr>\n",
       "  </thead>\n",
       "  <tbody>\n",
       "    <tr>\n",
       "      <th>0</th>\n",
       "      <td>tolkienfans</td>\n",
       "      <td>What happened to Tolkien’s Red Book?</td>\n",
       "      <td>1616977706</td>\n",
       "      <td>I was wondering if somebody could clear up my ...</td>\n",
       "      <td>what happened to tolkien s red book i was wond...</td>\n",
       "      <td>lukeskinwalker69epic</td>\n",
       "      <td>False</td>\n",
       "      <td>/r/tolkienfans/comments/mfdrms/what_happened_t...</td>\n",
       "      <td>322</td>\n",
       "      <td>happen tolkien red book wonder somebodi could ...</td>\n",
       "      <td>happened tolkien red book wondering somebody c...</td>\n",
       "    </tr>\n",
       "    <tr>\n",
       "      <th>1</th>\n",
       "      <td>tolkienfans</td>\n",
       "      <td>What Makes People Turn Invisible When the Put ...</td>\n",
       "      <td>1616971688</td>\n",
       "      <td>I guess this is a big question because I never...</td>\n",
       "      <td>what makes people turn invisible when the put ...</td>\n",
       "      <td>Jpmaniax26</td>\n",
       "      <td>False</td>\n",
       "      <td>/r/tolkienfans/comments/mfbzjh/what_makes_peop...</td>\n",
       "      <td>252</td>\n",
       "      <td>make peopl turn invis put one ring guess big q...</td>\n",
       "      <td>make people turn invisible put one ring guess ...</td>\n",
       "    </tr>\n",
       "    <tr>\n",
       "      <th>2</th>\n",
       "      <td>tolkienfans</td>\n",
       "      <td>Theory: At some point not told in the Tale, Ar...</td>\n",
       "      <td>1616971077</td>\n",
       "      <td>This is the last dialogue between Queen Undómi...</td>\n",
       "      <td>theory at some point not told in the tale arag...</td>\n",
       "      <td>yew_eater</td>\n",
       "      <td>False</td>\n",
       "      <td>/r/tolkienfans/comments/mfbsks/theory_at_some_...</td>\n",
       "      <td>6045</td>\n",
       "      <td>theori point told tale aragorn arwen must seri...</td>\n",
       "      <td>theory point told tale aragorn arwen must seri...</td>\n",
       "    </tr>\n",
       "    <tr>\n",
       "      <th>3</th>\n",
       "      <td>tolkienfans</td>\n",
       "      <td>I’d like to purchase a matching set of books o...</td>\n",
       "      <td>1616969977</td>\n",
       "      <td>Can anyone help me out? Looking for matching b...</td>\n",
       "      <td>i d like to purchase a matching set of books o...</td>\n",
       "      <td>GoosePants72</td>\n",
       "      <td>False</td>\n",
       "      <td>/r/tolkienfans/comments/mfbfyj/id_like_to_purc...</td>\n",
       "      <td>302</td>\n",
       "      <td>like purchas match set book everyth lotr silma...</td>\n",
       "      <td>like purchase matching set book everything lot...</td>\n",
       "    </tr>\n",
       "    <tr>\n",
       "      <th>4</th>\n",
       "      <td>tolkienfans</td>\n",
       "      <td>When Faramir ‘proposes’ to Eowyn, something we...</td>\n",
       "      <td>1616966528</td>\n",
       "      <td>After he confesses his love for her and talks ...</td>\n",
       "      <td>when faramir proposes to eowyn something weird...</td>\n",
       "      <td>PhendranaDrifter</td>\n",
       "      <td>False</td>\n",
       "      <td>/r/tolkienfans/comments/mfaae8/when_faramir_pr...</td>\n",
       "      <td>731</td>\n",
       "      <td>faramir propos eowyn someth weird happen confe...</td>\n",
       "      <td>faramir proposes eowyn something weird happens...</td>\n",
       "    </tr>\n",
       "  </tbody>\n",
       "</table>\n",
       "</div>"
      ],
      "text/plain": [
       "     subreddit                                              title  \\\n",
       "0  tolkienfans               What happened to Tolkien’s Red Book?   \n",
       "1  tolkienfans  What Makes People Turn Invisible When the Put ...   \n",
       "2  tolkienfans  Theory: At some point not told in the Tale, Ar...   \n",
       "3  tolkienfans  I’d like to purchase a matching set of books o...   \n",
       "4  tolkienfans  When Faramir ‘proposes’ to Eowyn, something we...   \n",
       "\n",
       "   created_utc                                           selftext  \\\n",
       "0   1616977706  I was wondering if somebody could clear up my ...   \n",
       "1   1616971688  I guess this is a big question because I never...   \n",
       "2   1616971077  This is the last dialogue between Queen Undómi...   \n",
       "3   1616969977  Can anyone help me out? Looking for matching b...   \n",
       "4   1616966528  After he confesses his love for her and talks ...   \n",
       "\n",
       "                                      title_selftext                author  \\\n",
       "0  what happened to tolkien s red book i was wond...  lukeskinwalker69epic   \n",
       "1  what makes people turn invisible when the put ...            Jpmaniax26   \n",
       "2  theory at some point not told in the tale arag...             yew_eater   \n",
       "3  i d like to purchase a matching set of books o...          GoosePants72   \n",
       "4  when faramir proposes to eowyn something weird...      PhendranaDrifter   \n",
       "\n",
       "   media_only                                          permalink  text_length  \\\n",
       "0       False  /r/tolkienfans/comments/mfdrms/what_happened_t...          322   \n",
       "1       False  /r/tolkienfans/comments/mfbzjh/what_makes_peop...          252   \n",
       "2       False  /r/tolkienfans/comments/mfbsks/theory_at_some_...         6045   \n",
       "3       False  /r/tolkienfans/comments/mfbfyj/id_like_to_purc...          302   \n",
       "4       False  /r/tolkienfans/comments/mfaae8/when_faramir_pr...          731   \n",
       "\n",
       "                                     clean_text_stem  \\\n",
       "0  happen tolkien red book wonder somebodi could ...   \n",
       "1  make peopl turn invis put one ring guess big q...   \n",
       "2  theori point told tale aragorn arwen must seri...   \n",
       "3  like purchas match set book everyth lotr silma...   \n",
       "4  faramir propos eowyn someth weird happen confe...   \n",
       "\n",
       "                                      clean_text_lem  \n",
       "0  happened tolkien red book wondering somebody c...  \n",
       "1  make people turn invisible put one ring guess ...  \n",
       "2  theory point told tale aragorn arwen must seri...  \n",
       "3  like purchase matching set book everything lot...  \n",
       "4  faramir proposes eowyn something weird happens...  "
      ]
     },
     "execution_count": 2,
     "metadata": {},
     "output_type": "execute_result"
    }
   ],
   "source": [
    "# Load the data\n",
    "df = pd.read_csv('../../../data/clean_data/clean_posts.csv', index_col=0)\n",
    "df.head()"
   ]
  },
  {
   "cell_type": "code",
   "execution_count": 3,
   "metadata": {},
   "outputs": [
    {
     "data": {
      "text/plain": [
       "tolkienfans    0.516823\n",
       "harrypotter    0.483177\n",
       "Name: subreddit, dtype: float64"
      ]
     },
     "execution_count": 3,
     "metadata": {},
     "output_type": "execute_result"
    }
   ],
   "source": [
    "# Checks baseline\n",
    "df['subreddit'].value_counts(normalize=True)\n",
    "# df['subreddit'].value_counts()"
   ]
  },
  {
   "cell_type": "code",
   "execution_count": 5,
   "metadata": {},
   "outputs": [],
   "source": [
    "# Set up X and y\n",
    "X = df['clean_text_lem']\n",
    "y = df['subreddit']"
   ]
  },
  {
   "cell_type": "code",
   "execution_count": 6,
   "metadata": {},
   "outputs": [],
   "source": [
    "# Splits the data into training and test sets\n",
    "X_train, X_test, y_train, y_test = train_test_split(X, y, \n",
    "                                                    stratify=y,\n",
    "                                                    random_state=42)"
   ]
  },
  {
   "cell_type": "markdown",
   "metadata": {},
   "source": [
    "### Modeling"
   ]
  },
  {
   "cell_type": "code",
   "execution_count": 8,
   "metadata": {},
   "outputs": [
    {
     "data": {
      "text/plain": [
       "tolkienfans    0.516821\n",
       "harrypotter    0.483179\n",
       "Name: subreddit, dtype: float64"
      ]
     },
     "execution_count": 8,
     "metadata": {},
     "output_type": "execute_result"
    }
   ],
   "source": [
    "# Baseline accuracy \n",
    "y_test.value_counts(normalize=True)"
   ]
  },
  {
   "cell_type": "code",
   "execution_count": 9,
   "metadata": {},
   "outputs": [],
   "source": [
    "# Instantiates a pipeline \n",
    "pipe = Pipeline([\n",
    "    ('cvec', CountVectorizer()),\n",
    "    ('logreg', LogisticRegression())\n",
    "])"
   ]
  },
  {
   "cell_type": "code",
   "execution_count": 10,
   "metadata": {},
   "outputs": [],
   "source": [
    "# Creates the pipe parameters \n",
    "pipe_params = {\n",
    "    'cvec__max_features': [2000, 3000, 4000, 5000],\n",
    "    'cvec__min_df':[1, 2],\n",
    "    'cvec__max_df':[0.90, 0.98],\n",
    "    'cvec__ngram_range':[(1,1), (1,2)]\n",
    "}"
   ]
  },
  {
   "cell_type": "code",
   "execution_count": 11,
   "metadata": {},
   "outputs": [],
   "source": [
    "# Instantiates the GridSearchCV\n",
    "gs = GridSearchCV(pipe, \n",
    "                param_grid=pipe_params,\n",
    "                cv=5, \n",
    "                verbose=1,\n",
    "                n_jobs=4)"
   ]
  },
  {
   "cell_type": "code",
   "execution_count": 22,
   "metadata": {},
   "outputs": [
    {
     "name": "stdout",
     "output_type": "stream",
     "text": [
      "Fitting 5 folds for each of 54 candidates, totalling 270 fits\n"
     ]
    },
    {
     "name": "stderr",
     "output_type": "stream",
     "text": [
      "[Parallel(n_jobs=4)]: Using backend LokyBackend with 4 concurrent workers.\n",
      "[Parallel(n_jobs=4)]: Done  42 tasks      | elapsed:   21.8s\n",
      "[Parallel(n_jobs=4)]: Done 192 tasks      | elapsed:  2.1min\n",
      "[Parallel(n_jobs=4)]: Done 270 out of 270 | elapsed:  3.1min finished\n"
     ]
    },
    {
     "data": {
      "text/plain": [
       "GridSearchCV(cv=5,\n",
       "             estimator=Pipeline(steps=[('cvec', CountVectorizer()),\n",
       "                                       ('logreg', LogisticRegression())]),\n",
       "             n_jobs=4,\n",
       "             param_grid={'cvec__max_df': [0.85, 0.9, 0.95],\n",
       "                         'cvec__max_features': [4000, 5000, 6000],\n",
       "                         'cvec__min_df': [2],\n",
       "                         'cvec__ngram_range': [(1, 1), (1, 2)],\n",
       "                         'logreg__C': [1, 0.1, 0.01]},\n",
       "             verbose=1)"
      ]
     },
     "execution_count": 22,
     "metadata": {},
     "output_type": "execute_result"
    }
   ],
   "source": [
    "# Fits GridSearch to training data\n",
    "gs.fit(X_train, y_train)"
   ]
  },
  {
   "cell_type": "code",
   "execution_count": 23,
   "metadata": {},
   "outputs": [
    {
     "data": {
      "text/plain": [
       "0.9682460415535251"
      ]
     },
     "execution_count": 23,
     "metadata": {},
     "output_type": "execute_result"
    }
   ],
   "source": [
    "# Outputs the CV score of the gridsearch\n",
    "gs.best_score_"
   ]
  },
  {
   "cell_type": "code",
   "execution_count": 24,
   "metadata": {},
   "outputs": [
    {
     "data": {
      "text/plain": [
       "(0.9915883919809337, 0.9663582842724979)"
      ]
     },
     "execution_count": 24,
     "metadata": {},
     "output_type": "execute_result"
    }
   ],
   "source": [
    "# Assigns names to the training and testing accuracy scores so they are callable\n",
    "train1, test1 = gs.score(X_train, y_train), gs.score(X_test, y_test)\n",
    "train1, test1"
   ]
  },
  {
   "cell_type": "code",
   "execution_count": 25,
   "metadata": {},
   "outputs": [
    {
     "data": {
      "text/plain": [
       "{'cvec__max_df': 0.85,\n",
       " 'cvec__max_features': 6000,\n",
       " 'cvec__min_df': 2,\n",
       " 'cvec__ngram_range': (1, 2),\n",
       " 'logreg__C': 1}"
      ]
     },
     "execution_count": 25,
     "metadata": {},
     "output_type": "execute_result"
    }
   ],
   "source": [
    "# prints the best parameters from the grid search \n",
    "gs.best_params_"
   ]
  },
  {
   "cell_type": "markdown",
   "metadata": {},
   "source": [
    "#### Second Iteration with tuning C"
   ]
  },
  {
   "cell_type": "code",
   "execution_count": 26,
   "metadata": {},
   "outputs": [],
   "source": [
    "# Instantiates a pipeline \n",
    "pipe = Pipeline([\n",
    "    ('cvec', CountVectorizer()),\n",
    "    ('logreg', LogisticRegression())\n",
    "])"
   ]
  },
  {
   "cell_type": "code",
   "execution_count": 27,
   "metadata": {},
   "outputs": [],
   "source": [
    "# Defines the pipe parameters to be passed into the gridsearch, including a new paramter, C\n",
    "pipe_params = {\n",
    "    'cvec__max_features': [4000, 5000, 6000],\n",
    "    'cvec__min_df':[2],\n",
    "    'cvec__max_df':[0.85, 0.90, 0.95],\n",
    "    'cvec__ngram_range':[(1,1), (1,2)],\n",
    "    'logreg__C': [1, 0.1, 0.01]\n",
    "}"
   ]
  },
  {
   "cell_type": "code",
   "execution_count": 28,
   "metadata": {},
   "outputs": [],
   "source": [
    "# Instantiates the GridSearchCV\n",
    "gs = GridSearchCV(pipe, \n",
    "                param_grid=pipe_params,\n",
    "                cv=5, \n",
    "                verbose=1, \n",
    "                 n_jobs=4)"
   ]
  },
  {
   "cell_type": "code",
   "execution_count": 29,
   "metadata": {},
   "outputs": [
    {
     "name": "stdout",
     "output_type": "stream",
     "text": [
      "Fitting 5 folds for each of 54 candidates, totalling 270 fits\n"
     ]
    },
    {
     "name": "stderr",
     "output_type": "stream",
     "text": [
      "[Parallel(n_jobs=4)]: Using backend LokyBackend with 4 concurrent workers.\n",
      "[Parallel(n_jobs=4)]: Done  42 tasks      | elapsed:   21.4s\n",
      "[Parallel(n_jobs=4)]: Done 192 tasks      | elapsed:  2.1min\n",
      "[Parallel(n_jobs=4)]: Done 270 out of 270 | elapsed:  3.0min finished\n"
     ]
    },
    {
     "data": {
      "text/plain": [
       "GridSearchCV(cv=5,\n",
       "             estimator=Pipeline(steps=[('cvec', CountVectorizer()),\n",
       "                                       ('logreg', LogisticRegression())]),\n",
       "             n_jobs=4,\n",
       "             param_grid={'cvec__max_df': [0.85, 0.9, 0.95],\n",
       "                         'cvec__max_features': [4000, 5000, 6000],\n",
       "                         'cvec__min_df': [2],\n",
       "                         'cvec__ngram_range': [(1, 1), (1, 2)],\n",
       "                         'logreg__C': [1, 0.1, 0.01]},\n",
       "             verbose=1)"
      ]
     },
     "execution_count": 29,
     "metadata": {},
     "output_type": "execute_result"
    }
   ],
   "source": [
    "# Fits GridSearch to training data with new C parameter\n",
    "gs.fit(X_train, y_train)"
   ]
  },
  {
   "cell_type": "code",
   "execution_count": 30,
   "metadata": {},
   "outputs": [
    {
     "data": {
      "text/plain": [
       "(0.9915883919809337, 0.9663582842724979)"
      ]
     },
     "execution_count": 30,
     "metadata": {},
     "output_type": "execute_result"
    }
   ],
   "source": [
    "# Prints the training and testing accuracy scores from using the new parameters that include C\n",
    "gs.score(X_train, y_train), gs.score(X_test, y_test)"
   ]
  },
  {
   "cell_type": "code",
   "execution_count": 31,
   "metadata": {},
   "outputs": [
    {
     "data": {
      "text/plain": [
       "{'cvec__max_df': 0.85,\n",
       " 'cvec__max_features': 6000,\n",
       " 'cvec__min_df': 2,\n",
       " 'cvec__ngram_range': (1, 2),\n",
       " 'logreg__C': 1}"
      ]
     },
     "execution_count": 31,
     "metadata": {},
     "output_type": "execute_result"
    }
   ],
   "source": [
    "# Prints the CV accuracy score from the gridsearch\n",
    "gs.best_params_"
   ]
  },
  {
   "cell_type": "markdown",
   "metadata": {},
   "source": [
    "#### Evaluation"
   ]
  },
  {
   "cell_type": "code",
   "execution_count": 32,
   "metadata": {},
   "outputs": [],
   "source": [
    "# Calculates the y predictions and the AUC score\n",
    "y_preds = gs.predict(X_test)\n",
    "auc = roc_auc_score(y_test, gs.predict_proba(X_test)[:,1])"
   ]
  },
  {
   "cell_type": "code",
   "execution_count": 33,
   "metadata": {},
   "outputs": [],
   "source": [
    "# Creates the model metrics row dataframe and saves it as a csv file to be added to the final model metrics table in the presentation\n",
    "results = pd.DataFrame({'Model': ['Logistic'], \n",
    "                        'Transformer': ['CountVectorizer'],\n",
    "                        'Stemmed/Lemmed': ['Lemmatized'],\n",
    "                        'Train_acc': [train1],\n",
    "                        'Test_acc': [test1], \n",
    "                        'AUC': [auc]})\n",
    "results.to_csv('../../../data/result_scores/logreg_countvect_lem.csv')"
   ]
  },
  {
   "cell_type": "code",
   "execution_count": 34,
   "metadata": {},
   "outputs": [
    {
     "data": {
      "text/html": [
       "<div>\n",
       "<style scoped>\n",
       "    .dataframe tbody tr th:only-of-type {\n",
       "        vertical-align: middle;\n",
       "    }\n",
       "\n",
       "    .dataframe tbody tr th {\n",
       "        vertical-align: top;\n",
       "    }\n",
       "\n",
       "    .dataframe thead th {\n",
       "        text-align: right;\n",
       "    }\n",
       "</style>\n",
       "<table border=\"1\" class=\"dataframe\">\n",
       "  <thead>\n",
       "    <tr style=\"text-align: right;\">\n",
       "      <th></th>\n",
       "      <th>Model</th>\n",
       "      <th>Transformer</th>\n",
       "      <th>Stemmed/Lemmed</th>\n",
       "      <th>Train_acc</th>\n",
       "      <th>Test_acc</th>\n",
       "      <th>AUC</th>\n",
       "    </tr>\n",
       "  </thead>\n",
       "  <tbody>\n",
       "    <tr>\n",
       "      <th>0</th>\n",
       "      <td>Logistic</td>\n",
       "      <td>CountVectorizer</td>\n",
       "      <td>Lemmatized</td>\n",
       "      <td>0.991588</td>\n",
       "      <td>0.966358</td>\n",
       "      <td>0.995728</td>\n",
       "    </tr>\n",
       "  </tbody>\n",
       "</table>\n",
       "</div>"
      ],
      "text/plain": [
       "      Model      Transformer Stemmed/Lemmed  Train_acc  Test_acc       AUC\n",
       "0  Logistic  CountVectorizer     Lemmatized   0.991588  0.966358  0.995728"
      ]
     },
     "execution_count": 34,
     "metadata": {},
     "output_type": "execute_result"
    }
   ],
   "source": [
    "results"
   ]
  },
  {
   "cell_type": "code",
   "execution_count": 35,
   "metadata": {},
   "outputs": [
    {
     "data": {
      "image/png": "[encoded data removed]",
      "text/plain": [
       "<Figure size 432x288 with 1 Axes>"
      ]
     },
     "metadata": {
      "needs_background": "light"
     },
     "output_type": "display_data"
    }
   ],
   "source": [
    "# Plots the ROC curve, and visualizes the AUC score\n",
    "plot_roc_curve(gs, X_test, y_test)\n",
    "plt.plot([0,1],[0,1], label='baseline', linestyle='--');"
   ]
  },
  {
   "cell_type": "code",
   "execution_count": 36,
   "metadata": {},
   "outputs": [
    {
     "data": {
      "image/png": "[encoded data removed]",
      "text/plain": [
       "<Figure size 720x720 with 2 Axes>"
      ]
     },
     "metadata": {},
     "output_type": "display_data"
    }
   ],
   "source": [
    "# Creates the confusion matrix and saves it as a jpg in presentation folder\n",
    "sns.set(font_scale=2.0)\n",
    "cm = confusion_matrix(y_test, y_preds)\n",
    "fig, ax = plt.subplots(figsize=(10, 10))\n",
    "plot = ConfusionMatrixDisplay(cm).plot(ax=ax)\n",
    "plot\n",
    "plt.title('Confusion Matrix')\n",
    "ax.set_title('Confusion Matrix', fontdict={'size':'15'})\n",
    "ax.set_xticklabels(df['subreddit'].unique(), size=15);\n",
    "ax.set_yticklabels(df['subreddit'].unique(), size=15);\n",
    "ax.set_xlabel('Predicted label', fontdict={'size':'15'})\n",
    "ax.set_ylabel('True label', fontdict={'size':'15'})\n",
    "\n",
    "plt.savefig('../../../presentation/imgs/cm_logreg_countvect_lem.jpg')"
   ]
  },
  {
   "cell_type": "code",
   "execution_count": 37,
   "metadata": {},
   "outputs": [
    {
     "data": {
      "text/html": [
       "<div>\n",
       "<style scoped>\n",
       "    .dataframe tbody tr th:only-of-type {\n",
       "        vertical-align: middle;\n",
       "    }\n",
       "\n",
       "    .dataframe tbody tr th {\n",
       "        vertical-align: top;\n",
       "    }\n",
       "\n",
       "    .dataframe thead th {\n",
       "        text-align: right;\n",
       "    }\n",
       "</style>\n",
       "<table border=\"1\" class=\"dataframe\">\n",
       "  <thead>\n",
       "    <tr style=\"text-align: right;\">\n",
       "      <th></th>\n",
       "      <th>coefs</th>\n",
       "      <th>features</th>\n",
       "    </tr>\n",
       "  </thead>\n",
       "  <tbody>\n",
       "    <tr>\n",
       "      <th>2406</th>\n",
       "      <td>-2.620112</td>\n",
       "      <td>harry</td>\n",
       "    </tr>\n",
       "    <tr>\n",
       "      <th>2539</th>\n",
       "      <td>-2.549941</td>\n",
       "      <td>hogwarts</td>\n",
       "    </tr>\n",
       "    <tr>\n",
       "      <th>4848</th>\n",
       "      <td>-2.359933</td>\n",
       "      <td>snape</td>\n",
       "    </tr>\n",
       "    <tr>\n",
       "      <th>5646</th>\n",
       "      <td>-2.129917</td>\n",
       "      <td>voldemort</td>\n",
       "    </tr>\n",
       "    <tr>\n",
       "      <th>2487</th>\n",
       "      <td>-2.119263</td>\n",
       "      <td>hermione</td>\n",
       "    </tr>\n",
       "    <tr>\n",
       "      <th>3993</th>\n",
       "      <td>-2.076185</td>\n",
       "      <td>potter</td>\n",
       "    </tr>\n",
       "    <tr>\n",
       "      <th>1496</th>\n",
       "      <td>-1.879379</td>\n",
       "      <td>dumbledore</td>\n",
       "    </tr>\n",
       "    <tr>\n",
       "      <th>2585</th>\n",
       "      <td>-1.812138</td>\n",
       "      <td>hp</td>\n",
       "    </tr>\n",
       "    <tr>\n",
       "      <th>5665</th>\n",
       "      <td>-1.734352</td>\n",
       "      <td>wand</td>\n",
       "    </tr>\n",
       "    <tr>\n",
       "      <th>4206</th>\n",
       "      <td>-1.662579</td>\n",
       "      <td>ravenclaw</td>\n",
       "    </tr>\n",
       "  </tbody>\n",
       "</table>\n",
       "</div>"
      ],
      "text/plain": [
       "         coefs    features\n",
       "2406 -2.620112       harry\n",
       "2539 -2.549941    hogwarts\n",
       "4848 -2.359933       snape\n",
       "5646 -2.129917   voldemort\n",
       "2487 -2.119263    hermione\n",
       "3993 -2.076185      potter\n",
       "1496 -1.879379  dumbledore\n",
       "2585 -1.812138          hp\n",
       "5665 -1.734352        wand\n",
       "4206 -1.662579   ravenclaw"
      ]
     },
     "execution_count": 37,
     "metadata": {},
     "output_type": "execute_result"
    }
   ],
   "source": [
    "# Creates the coefs dictionary dataframe and prints out the 10 smallest coefficients\n",
    "coefs = gs.best_estimator_.named_steps['logreg'].coef_\n",
    "coefs = coefs.ravel()\n",
    "\n",
    "names = gs.best_estimator_.named_steps['cvec'].get_feature_names()\n",
    "\n",
    "coef_dict = pd.DataFrame({'coefs': coefs,\n",
    "                      'features': pd.Series(names)})\n",
    "coef_dict.nsmallest(10, columns=['coefs'])"
   ]
  },
  {
   "cell_type": "code",
   "execution_count": 38,
   "metadata": {},
   "outputs": [
    {
     "data": {
      "text/html": [
       "<div>\n",
       "<style scoped>\n",
       "    .dataframe tbody tr th:only-of-type {\n",
       "        vertical-align: middle;\n",
       "    }\n",
       "\n",
       "    .dataframe tbody tr th {\n",
       "        vertical-align: top;\n",
       "    }\n",
       "\n",
       "    .dataframe thead th {\n",
       "        text-align: right;\n",
       "    }\n",
       "</style>\n",
       "<table border=\"1\" class=\"dataframe\">\n",
       "  <thead>\n",
       "    <tr style=\"text-align: right;\">\n",
       "      <th></th>\n",
       "      <th>coefs</th>\n",
       "      <th>features</th>\n",
       "    </tr>\n",
       "  </thead>\n",
       "  <tbody>\n",
       "    <tr>\n",
       "      <th>5333</th>\n",
       "      <td>5.020076</td>\n",
       "      <td>tolkien</td>\n",
       "    </tr>\n",
       "    <tr>\n",
       "      <th>2526</th>\n",
       "      <td>3.685608</td>\n",
       "      <td>hobbit</td>\n",
       "    </tr>\n",
       "    <tr>\n",
       "      <th>3158</th>\n",
       "      <td>3.503270</td>\n",
       "      <td>lotr</td>\n",
       "    </tr>\n",
       "    <tr>\n",
       "      <th>4769</th>\n",
       "      <td>3.251281</td>\n",
       "      <td>silmarillion</td>\n",
       "    </tr>\n",
       "    <tr>\n",
       "      <th>4552</th>\n",
       "      <td>2.480398</td>\n",
       "      <td>sauron</td>\n",
       "    </tr>\n",
       "    <tr>\n",
       "      <th>4438</th>\n",
       "      <td>2.424396</td>\n",
       "      <td>ring</td>\n",
       "    </tr>\n",
       "    <tr>\n",
       "      <th>1598</th>\n",
       "      <td>2.285897</td>\n",
       "      <td>elf</td>\n",
       "    </tr>\n",
       "    <tr>\n",
       "      <th>4549</th>\n",
       "      <td>2.073165</td>\n",
       "      <td>saruman</td>\n",
       "    </tr>\n",
       "    <tr>\n",
       "      <th>3437</th>\n",
       "      <td>2.011032</td>\n",
       "      <td>morgoth</td>\n",
       "    </tr>\n",
       "    <tr>\n",
       "      <th>3331</th>\n",
       "      <td>1.994274</td>\n",
       "      <td>melkor</td>\n",
       "    </tr>\n",
       "  </tbody>\n",
       "</table>\n",
       "</div>"
      ],
      "text/plain": [
       "         coefs      features\n",
       "5333  5.020076       tolkien\n",
       "2526  3.685608        hobbit\n",
       "3158  3.503270          lotr\n",
       "4769  3.251281  silmarillion\n",
       "4552  2.480398        sauron\n",
       "4438  2.424396          ring\n",
       "1598  2.285897           elf\n",
       "4549  2.073165       saruman\n",
       "3437  2.011032       morgoth\n",
       "3331  1.994274        melkor"
      ]
     },
     "execution_count": 38,
     "metadata": {},
     "output_type": "execute_result"
    }
   ],
   "source": [
    "# Outputs the 10 largest coefficients in a dataframe\n",
    "coef_dict.nlargest(10, columns=['coefs'])"
   ]
  },
  {
   "cell_type": "code",
   "execution_count": null,
   "metadata": {},
   "outputs": [],
   "source": []
  }
 ],
 "metadata": {
  "kernelspec": {
   "display_name": "Python 3",
   "language": "python",
   "name": "python3"
  },
  "language_info": {
   "codemirror_mode": {
    "name": "ipython",
    "version": 3
   },
   "file_extension": ".py",
   "mimetype": "text/x-python",
   "name": "python",
   "nbconvert_exporter": "python",
   "pygments_lexer": "ipython3",
   "version": "3.8.5"
  }
 },
 "nbformat": 4,
 "nbformat_minor": 4
}
