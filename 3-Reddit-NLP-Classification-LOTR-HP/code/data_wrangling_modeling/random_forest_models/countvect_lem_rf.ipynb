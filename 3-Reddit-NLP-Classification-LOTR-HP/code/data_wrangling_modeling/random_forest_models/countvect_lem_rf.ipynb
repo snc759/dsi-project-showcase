{
 "cells": [
  {
   "cell_type": "markdown",
   "metadata": {},
   "source": [
    "## Random Forest Modeling \n",
    "### - Transformer: CountVectorizer\n",
    "### - Lemmatized words"
   ]
  },
  {
   "cell_type": "code",
   "execution_count": 2,
   "metadata": {},
   "outputs": [],
   "source": [
    "# Imports \n",
    "import numpy as np\n",
    "import pandas as pd\n",
    "import matplotlib.pyplot as plt\n",
    "import seaborn as sns\n",
    "\n",
    "# Naive Bayes \n",
    "from sklearn.naive_bayes import MultinomialNB, BernoulliNB\n",
    "\n",
    "# Logistic Regression \n",
    "from sklearn.linear_model import LogisticRegression\n",
    "\n",
    "# Boosting \n",
    "from sklearn.ensemble import AdaBoostClassifier, RandomForestClassifier\n",
    "\n",
    "# Other Sklearn \n",
    "from sklearn.model_selection import train_test_split, cross_val_score, GridSearchCV\n",
    "from sklearn.metrics import confusion_matrix, ConfusionMatrixDisplay, accuracy_score, plot_roc_curve, roc_auc_score, recall_score, precision_score, f1_score, classification_report\n",
    "\n",
    "# Pipeline\n",
    "from sklearn.pipeline import Pipeline, make_pipeline\n",
    "\n",
    "# NLP imports\n",
    "from sklearn.feature_extraction.text import CountVectorizer, TfidfVectorizer\n",
    "# nltk.download()  --> Download all, and then restart jupyter lab\n",
    "import nltk\n",
    "from nltk.tokenize import sent_tokenize, word_tokenize, RegexpTokenizer\n",
    "from nltk.stem import WordNetLemmatizer\n",
    "from nltk.stem.porter import PorterStemmer\n",
    "from nltk.corpus import stopwords\n",
    "from nltk.sentiment.vader import SentimentIntensityAnalyzer\n",
    "from nltk import FreqDist, pos_tag\n",
    "import re"
   ]
  },
  {
   "cell_type": "markdown",
   "metadata": {},
   "source": [
    "### Loading Data and Splitting Data"
   ]
  },
  {
   "cell_type": "code",
   "execution_count": 7,
   "metadata": {},
   "outputs": [
    {
     "data": {
      "text/html": [
       "<div>\n",
       "<style scoped>\n",
       "    .dataframe tbody tr th:only-of-type {\n",
       "        vertical-align: middle;\n",
       "    }\n",
       "\n",
       "    .dataframe tbody tr th {\n",
       "        vertical-align: top;\n",
       "    }\n",
       "\n",
       "    .dataframe thead th {\n",
       "        text-align: right;\n",
       "    }\n",
       "</style>\n",
       "<table border=\"1\" class=\"dataframe\">\n",
       "  <thead>\n",
       "    <tr style=\"text-align: right;\">\n",
       "      <th></th>\n",
       "      <th>subreddit</th>\n",
       "      <th>title</th>\n",
       "      <th>created_utc</th>\n",
       "      <th>selftext</th>\n",
       "      <th>title_selftext</th>\n",
       "      <th>author</th>\n",
       "      <th>media_only</th>\n",
       "      <th>permalink</th>\n",
       "      <th>text_length</th>\n",
       "      <th>clean_text_stem</th>\n",
       "      <th>clean_text_lem</th>\n",
       "    </tr>\n",
       "  </thead>\n",
       "  <tbody>\n",
       "    <tr>\n",
       "      <th>0</th>\n",
       "      <td>tolkienfans</td>\n",
       "      <td>What happened to Tolkien’s Red Book?</td>\n",
       "      <td>1616977706</td>\n",
       "      <td>I was wondering if somebody could clear up my ...</td>\n",
       "      <td>what happened to tolkien s red book i was wond...</td>\n",
       "      <td>lukeskinwalker69epic</td>\n",
       "      <td>False</td>\n",
       "      <td>/r/tolkienfans/comments/mfdrms/what_happened_t...</td>\n",
       "      <td>322</td>\n",
       "      <td>happen tolkien red book wonder somebodi could ...</td>\n",
       "      <td>happened tolkien red book wondering somebody c...</td>\n",
       "    </tr>\n",
       "    <tr>\n",
       "      <th>1</th>\n",
       "      <td>tolkienfans</td>\n",
       "      <td>What Makes People Turn Invisible When the Put ...</td>\n",
       "      <td>1616971688</td>\n",
       "      <td>I guess this is a big question because I never...</td>\n",
       "      <td>what makes people turn invisible when the put ...</td>\n",
       "      <td>Jpmaniax26</td>\n",
       "      <td>False</td>\n",
       "      <td>/r/tolkienfans/comments/mfbzjh/what_makes_peop...</td>\n",
       "      <td>252</td>\n",
       "      <td>make peopl turn invis put one ring guess big q...</td>\n",
       "      <td>make people turn invisible put one ring guess ...</td>\n",
       "    </tr>\n",
       "    <tr>\n",
       "      <th>2</th>\n",
       "      <td>tolkienfans</td>\n",
       "      <td>Theory: At some point not told in the Tale, Ar...</td>\n",
       "      <td>1616971077</td>\n",
       "      <td>This is the last dialogue between Queen Undómi...</td>\n",
       "      <td>theory at some point not told in the tale arag...</td>\n",
       "      <td>yew_eater</td>\n",
       "      <td>False</td>\n",
       "      <td>/r/tolkienfans/comments/mfbsks/theory_at_some_...</td>\n",
       "      <td>6045</td>\n",
       "      <td>theori point told tale aragorn arwen must seri...</td>\n",
       "      <td>theory point told tale aragorn arwen must seri...</td>\n",
       "    </tr>\n",
       "    <tr>\n",
       "      <th>3</th>\n",
       "      <td>tolkienfans</td>\n",
       "      <td>I’d like to purchase a matching set of books o...</td>\n",
       "      <td>1616969977</td>\n",
       "      <td>Can anyone help me out? Looking for matching b...</td>\n",
       "      <td>i d like to purchase a matching set of books o...</td>\n",
       "      <td>GoosePants72</td>\n",
       "      <td>False</td>\n",
       "      <td>/r/tolkienfans/comments/mfbfyj/id_like_to_purc...</td>\n",
       "      <td>302</td>\n",
       "      <td>like purchas match set book everyth lotr silma...</td>\n",
       "      <td>like purchase matching set book everything lot...</td>\n",
       "    </tr>\n",
       "    <tr>\n",
       "      <th>4</th>\n",
       "      <td>tolkienfans</td>\n",
       "      <td>When Faramir ‘proposes’ to Eowyn, something we...</td>\n",
       "      <td>1616966528</td>\n",
       "      <td>After he confesses his love for her and talks ...</td>\n",
       "      <td>when faramir proposes to eowyn something weird...</td>\n",
       "      <td>PhendranaDrifter</td>\n",
       "      <td>False</td>\n",
       "      <td>/r/tolkienfans/comments/mfaae8/when_faramir_pr...</td>\n",
       "      <td>731</td>\n",
       "      <td>faramir propos eowyn someth weird happen confe...</td>\n",
       "      <td>faramir proposes eowyn something weird happens...</td>\n",
       "    </tr>\n",
       "  </tbody>\n",
       "</table>\n",
       "</div>"
      ],
      "text/plain": [
       "     subreddit                                              title  \\\n",
       "0  tolkienfans               What happened to Tolkien’s Red Book?   \n",
       "1  tolkienfans  What Makes People Turn Invisible When the Put ...   \n",
       "2  tolkienfans  Theory: At some point not told in the Tale, Ar...   \n",
       "3  tolkienfans  I’d like to purchase a matching set of books o...   \n",
       "4  tolkienfans  When Faramir ‘proposes’ to Eowyn, something we...   \n",
       "\n",
       "   created_utc                                           selftext  \\\n",
       "0   1616977706  I was wondering if somebody could clear up my ...   \n",
       "1   1616971688  I guess this is a big question because I never...   \n",
       "2   1616971077  This is the last dialogue between Queen Undómi...   \n",
       "3   1616969977  Can anyone help me out? Looking for matching b...   \n",
       "4   1616966528  After he confesses his love for her and talks ...   \n",
       "\n",
       "                                      title_selftext                author  \\\n",
       "0  what happened to tolkien s red book i was wond...  lukeskinwalker69epic   \n",
       "1  what makes people turn invisible when the put ...            Jpmaniax26   \n",
       "2  theory at some point not told in the tale arag...             yew_eater   \n",
       "3  i d like to purchase a matching set of books o...          GoosePants72   \n",
       "4  when faramir proposes to eowyn something weird...      PhendranaDrifter   \n",
       "\n",
       "   media_only                                          permalink  text_length  \\\n",
       "0       False  /r/tolkienfans/comments/mfdrms/what_happened_t...          322   \n",
       "1       False  /r/tolkienfans/comments/mfbzjh/what_makes_peop...          252   \n",
       "2       False  /r/tolkienfans/comments/mfbsks/theory_at_some_...         6045   \n",
       "3       False  /r/tolkienfans/comments/mfbfyj/id_like_to_purc...          302   \n",
       "4       False  /r/tolkienfans/comments/mfaae8/when_faramir_pr...          731   \n",
       "\n",
       "                                     clean_text_stem  \\\n",
       "0  happen tolkien red book wonder somebodi could ...   \n",
       "1  make peopl turn invis put one ring guess big q...   \n",
       "2  theori point told tale aragorn arwen must seri...   \n",
       "3  like purchas match set book everyth lotr silma...   \n",
       "4  faramir propos eowyn someth weird happen confe...   \n",
       "\n",
       "                                      clean_text_lem  \n",
       "0  happened tolkien red book wondering somebody c...  \n",
       "1  make people turn invisible put one ring guess ...  \n",
       "2  theory point told tale aragorn arwen must seri...  \n",
       "3  like purchase matching set book everything lot...  \n",
       "4  faramir proposes eowyn something weird happens...  "
      ]
     },
     "execution_count": 7,
     "metadata": {},
     "output_type": "execute_result"
    }
   ],
   "source": [
    "# Load the data\n",
    "df = pd.read_csv('../../../data/clean_data/clean_posts.csv', index_col=0)\n",
    "df.head()"
   ]
  },
  {
   "cell_type": "code",
   "execution_count": 8,
   "metadata": {},
   "outputs": [
    {
     "data": {
      "text/plain": [
       "tolkienfans    0.516823\n",
       "harrypotter    0.483177\n",
       "Name: subreddit, dtype: float64"
      ]
     },
     "execution_count": 8,
     "metadata": {},
     "output_type": "execute_result"
    }
   ],
   "source": [
    "# Checks baseline\n",
    "df['subreddit'].value_counts(normalize=True)\n",
    "# df['subreddit'].value_counts()"
   ]
  },
  {
   "cell_type": "code",
   "execution_count": 9,
   "metadata": {},
   "outputs": [],
   "source": [
    "df_sample = df.sample(100, random_state=42)"
   ]
  },
  {
   "cell_type": "code",
   "execution_count": 10,
   "metadata": {},
   "outputs": [],
   "source": [
    "# Set up X and y\n",
    "X = df_sample['clean_text_lem']\n",
    "y = df_sample['subreddit']\n",
    "\n",
    "# X = df['clean_text_stem']\n",
    "# y = df['subreddit']"
   ]
  },
  {
   "cell_type": "code",
   "execution_count": 11,
   "metadata": {},
   "outputs": [],
   "source": [
    "# Splits the data into training and test sets from sample\n",
    "X_train, X_test, y_train, y_test = train_test_split(X, \n",
    "                                                    y, \n",
    "                                                    stratify=y,\n",
    "                                                    random_state=42)"
   ]
  },
  {
   "cell_type": "markdown",
   "metadata": {},
   "source": [
    "### Modeling"
   ]
  },
  {
   "cell_type": "code",
   "execution_count": 8,
   "metadata": {},
   "outputs": [
    {
     "data": {
      "text/plain": [
       "tolkienfans    0.52\n",
       "harrypotter    0.48\n",
       "Name: subreddit, dtype: float64"
      ]
     },
     "execution_count": 8,
     "metadata": {},
     "output_type": "execute_result"
    }
   ],
   "source": [
    "# Baseline accuracy \n",
    "y_test.value_counts(normalize=True)"
   ]
  },
  {
   "cell_type": "code",
   "execution_count": 9,
   "metadata": {},
   "outputs": [],
   "source": [
    "# Instantiates a pipeline \n",
    "pipe = Pipeline([\n",
    "    ('cvec', CountVectorizer()),\n",
    "    ('rf', RandomForestClassifier())\n",
    "])"
   ]
  },
  {
   "cell_type": "code",
   "execution_count": 10,
   "metadata": {},
   "outputs": [],
   "source": [
    "# Creates the pipe parameters \n",
    "pipe_params = {\n",
    "    'cvec__max_features': [2000, 3000, 4000, 5000],\n",
    "    'cvec__min_df':[1, 2],\n",
    "    'cvec__max_df':[0.90, 0.98],\n",
    "    'cvec__ngram_range':[(1,1), (1,2)],\n",
    "    'rf__n_estimators': [100, 150], \n",
    "    'rf__max_depth': [1, 2, 3, 4, 5],\n",
    "}"
   ]
  },
  {
   "cell_type": "code",
   "execution_count": 28,
   "metadata": {},
   "outputs": [],
   "source": [
    "# Instantiates the GridSearchCV\n",
    "gs = GridSearchCV(pipe, \n",
    "                param_grid=pipe_params,\n",
    "                cv=5, \n",
    "                verbose=1,\n",
    "                 n_jobs = 4)"
   ]
  },
  {
   "cell_type": "code",
   "execution_count": 29,
   "metadata": {},
   "outputs": [
    {
     "name": "stdout",
     "output_type": "stream",
     "text": [
      "Fitting 5 folds for each of 320 candidates, totalling 1600 fits\n"
     ]
    },
    {
     "name": "stderr",
     "output_type": "stream",
     "text": [
      "[Parallel(n_jobs=4)]: Using backend LokyBackend with 4 concurrent workers.\n",
      "[Parallel(n_jobs=4)]: Done  42 tasks      | elapsed:   15.7s\n",
      "[Parallel(n_jobs=4)]: Done 192 tasks      | elapsed:  2.4min\n",
      "[Parallel(n_jobs=4)]: Done 442 tasks      | elapsed:  5.4min\n",
      "[Parallel(n_jobs=4)]: Done 792 tasks      | elapsed: 10.0min\n",
      "[Parallel(n_jobs=4)]: Done 1242 tasks      | elapsed: 15.5min\n",
      "[Parallel(n_jobs=4)]: Done 1600 out of 1600 | elapsed: 20.2min finished\n"
     ]
    },
    {
     "data": {
      "text/plain": [
       "GridSearchCV(cv=5,\n",
       "             estimator=Pipeline(steps=[('cvec',\n",
       "                                        CountVectorizer(max_df=0.98,\n",
       "                                                        max_features=3000,\n",
       "                                                        min_df=2,\n",
       "                                                        ngram_range=(1, 2))),\n",
       "                                       ('rf',\n",
       "                                        RandomForestClassifier(max_depth=100,\n",
       "                                                               n_estimators=150))]),\n",
       "             n_jobs=4,\n",
       "             param_grid={'cvec__max_df': [0.9, 0.98],\n",
       "                         'cvec__max_features': [2000, 3000, 4000, 5000],\n",
       "                         'cvec__min_df': [1, 2],\n",
       "                         'cvec__ngram_range': [(1, 1), (1, 2)],\n",
       "                         'rf__max_depth': [1, 2, 3, 4, 5],\n",
       "                         'rf__n_estimators': [100, 150]},\n",
       "             verbose=1)"
      ]
     },
     "execution_count": 29,
     "metadata": {},
     "output_type": "execute_result"
    }
   ],
   "source": [
    "# Fits GridSearch to training data\n",
    "gs.fit(X_train, y_train)"
   ]
  },
  {
   "cell_type": "code",
   "execution_count": 30,
   "metadata": {},
   "outputs": [
    {
     "data": {
      "text/plain": [
       "0.9442026748175183"
      ]
     },
     "execution_count": 30,
     "metadata": {},
     "output_type": "execute_result"
    }
   ],
   "source": [
    "# Returns the CV accuracy score from the gridsearch\n",
    "gs.best_score_"
   ]
  },
  {
   "cell_type": "code",
   "execution_count": 31,
   "metadata": {},
   "outputs": [
    {
     "data": {
      "text/plain": [
       "(0.9472872564138511, 0.9440706476030277)"
      ]
     },
     "execution_count": 31,
     "metadata": {},
     "output_type": "execute_result"
    }
   ],
   "source": [
    "# Returns the train and test accuracy scores from the gridsearch\n",
    "gs.score(X_train, y_train), gs.score(X_test, y_test)"
   ]
  },
  {
   "cell_type": "code",
   "execution_count": 32,
   "metadata": {},
   "outputs": [
    {
     "data": {
      "text/plain": [
       "{'cvec__max_df': 0.9,\n",
       " 'cvec__max_features': 5000,\n",
       " 'cvec__min_df': 1,\n",
       " 'cvec__ngram_range': (1, 1),\n",
       " 'rf__max_depth': 5,\n",
       " 'rf__n_estimators': 150}"
      ]
     },
     "execution_count": 32,
     "metadata": {},
     "output_type": "execute_result"
    }
   ],
   "source": [
    "# Returns the best parameters from the gridsearch\n",
    "gs.best_params_"
   ]
  },
  {
   "cell_type": "markdown",
   "metadata": {},
   "source": [
    "#### Second Iteration"
   ]
  },
  {
   "cell_type": "code",
   "execution_count": 12,
   "metadata": {},
   "outputs": [],
   "source": [
    "# Instantiates a pipeline \n",
    "pipe = Pipeline([\n",
    "    ('cvec', CountVectorizer()),\n",
    "    ('rf', RandomForestClassifier())\n",
    "])"
   ]
  },
  {
   "cell_type": "code",
   "execution_count": 13,
   "metadata": {},
   "outputs": [],
   "source": [
    "# Creates the pipe parameters \n",
    "pipe_params = {\n",
    "    'cvec__max_features': [3000],\n",
    "    'cvec__min_df':[1, 2],\n",
    "    'cvec__max_df':[0.90, 0.98],\n",
    "    'cvec__ngram_range':[(1,1), (1,2)],\n",
    "    'rf__n_estimators': [120, 150, 180, 200], \n",
    "    'rf__max_depth': [1, 2, 3, 4, 5],\n",
    "}"
   ]
  },
  {
   "cell_type": "code",
   "execution_count": 14,
   "metadata": {},
   "outputs": [],
   "source": [
    "# Instantiates the GridSearchCV\n",
    "gs = GridSearchCV(pipe, \n",
    "                param_grid=pipe_params,\n",
    "                cv=5, \n",
    "                verbose=1,\n",
    "                 n_jobs = 4)"
   ]
  },
  {
   "cell_type": "code",
   "execution_count": 15,
   "metadata": {},
   "outputs": [
    {
     "name": "stdout",
     "output_type": "stream",
     "text": [
      "Fitting 5 folds for each of 160 candidates, totalling 800 fits\n"
     ]
    },
    {
     "name": "stderr",
     "output_type": "stream",
     "text": [
      "[Parallel(n_jobs=4)]: Using backend LokyBackend with 4 concurrent workers.\n",
      "[Parallel(n_jobs=4)]: Done  42 tasks      | elapsed:    5.2s\n",
      "[Parallel(n_jobs=4)]: Done 192 tasks      | elapsed:   17.7s\n",
      "[Parallel(n_jobs=4)]: Done 442 tasks      | elapsed:   40.0s\n",
      "[Parallel(n_jobs=4)]: Done 792 tasks      | elapsed:  1.3min\n",
      "[Parallel(n_jobs=4)]: Done 800 out of 800 | elapsed:  1.3min finished\n"
     ]
    },
    {
     "data": {
      "text/plain": [
       "GridSearchCV(cv=5,\n",
       "             estimator=Pipeline(steps=[('cvec', CountVectorizer()),\n",
       "                                       ('rf', RandomForestClassifier())]),\n",
       "             n_jobs=4,\n",
       "             param_grid={'cvec__max_df': [0.9, 0.98],\n",
       "                         'cvec__max_features': [3000], 'cvec__min_df': [1, 2],\n",
       "                         'cvec__ngram_range': [(1, 1), (1, 2)],\n",
       "                         'rf__max_depth': [1, 2, 3, 4, 5],\n",
       "                         'rf__n_estimators': [120, 150, 180, 200]},\n",
       "             verbose=1)"
      ]
     },
     "execution_count": 15,
     "metadata": {},
     "output_type": "execute_result"
    }
   ],
   "source": [
    "# Fits GridSearch to training data\n",
    "gs.fit(X_train, y_train)"
   ]
  },
  {
   "cell_type": "code",
   "execution_count": 16,
   "metadata": {},
   "outputs": [
    {
     "data": {
      "text/plain": [
       "0.8800000000000001"
      ]
     },
     "execution_count": 16,
     "metadata": {},
     "output_type": "execute_result"
    }
   ],
   "source": [
    "# Returns the CV accuracy score from the gridsearch\n",
    "gs.best_score_"
   ]
  },
  {
   "cell_type": "code",
   "execution_count": 17,
   "metadata": {},
   "outputs": [
    {
     "data": {
      "text/plain": [
       "(0.9466666666666667, 0.92)"
      ]
     },
     "execution_count": 17,
     "metadata": {},
     "output_type": "execute_result"
    }
   ],
   "source": [
    "# Returns the training and testing accuracy score from the gridsearch\n",
    "gs.score(X_train, y_train), gs.score(X_test, y_test)"
   ]
  },
  {
   "cell_type": "code",
   "execution_count": 18,
   "metadata": {},
   "outputs": [
    {
     "data": {
      "text/plain": [
       "{'cvec__max_df': 0.9,\n",
       " 'cvec__max_features': 3000,\n",
       " 'cvec__min_df': 2,\n",
       " 'cvec__ngram_range': (1, 1),\n",
       " 'rf__max_depth': 5,\n",
       " 'rf__n_estimators': 150}"
      ]
     },
     "execution_count": 18,
     "metadata": {},
     "output_type": "execute_result"
    }
   ],
   "source": [
    "# returns the best parameters from the gridsearch\n",
    "gs.best_params_"
   ]
  },
  {
   "cell_type": "markdown",
   "metadata": {},
   "source": [
    "## Re-Run the RandomForest Model with the First Iteration Best Params"
   ]
  },
  {
   "cell_type": "code",
   "execution_count": 19,
   "metadata": {},
   "outputs": [
    {
     "data": {
      "text/html": [
       "<div>\n",
       "<style scoped>\n",
       "    .dataframe tbody tr th:only-of-type {\n",
       "        vertical-align: middle;\n",
       "    }\n",
       "\n",
       "    .dataframe tbody tr th {\n",
       "        vertical-align: top;\n",
       "    }\n",
       "\n",
       "    .dataframe thead th {\n",
       "        text-align: right;\n",
       "    }\n",
       "</style>\n",
       "<table border=\"1\" class=\"dataframe\">\n",
       "  <thead>\n",
       "    <tr style=\"text-align: right;\">\n",
       "      <th></th>\n",
       "      <th>subreddit</th>\n",
       "      <th>title</th>\n",
       "      <th>created_utc</th>\n",
       "      <th>selftext</th>\n",
       "      <th>title_selftext</th>\n",
       "      <th>author</th>\n",
       "      <th>media_only</th>\n",
       "      <th>permalink</th>\n",
       "      <th>text_length</th>\n",
       "      <th>clean_text_stem</th>\n",
       "      <th>clean_text_lem</th>\n",
       "    </tr>\n",
       "  </thead>\n",
       "  <tbody>\n",
       "    <tr>\n",
       "      <th>0</th>\n",
       "      <td>tolkienfans</td>\n",
       "      <td>What happened to Tolkien’s Red Book?</td>\n",
       "      <td>1616977706</td>\n",
       "      <td>I was wondering if somebody could clear up my ...</td>\n",
       "      <td>what happened to tolkien s red book i was wond...</td>\n",
       "      <td>lukeskinwalker69epic</td>\n",
       "      <td>False</td>\n",
       "      <td>/r/tolkienfans/comments/mfdrms/what_happened_t...</td>\n",
       "      <td>322</td>\n",
       "      <td>happen tolkien red book wonder somebodi could ...</td>\n",
       "      <td>happened tolkien red book wondering somebody c...</td>\n",
       "    </tr>\n",
       "    <tr>\n",
       "      <th>1</th>\n",
       "      <td>tolkienfans</td>\n",
       "      <td>What Makes People Turn Invisible When the Put ...</td>\n",
       "      <td>1616971688</td>\n",
       "      <td>I guess this is a big question because I never...</td>\n",
       "      <td>what makes people turn invisible when the put ...</td>\n",
       "      <td>Jpmaniax26</td>\n",
       "      <td>False</td>\n",
       "      <td>/r/tolkienfans/comments/mfbzjh/what_makes_peop...</td>\n",
       "      <td>252</td>\n",
       "      <td>make peopl turn invis put one ring guess big q...</td>\n",
       "      <td>make people turn invisible put one ring guess ...</td>\n",
       "    </tr>\n",
       "    <tr>\n",
       "      <th>2</th>\n",
       "      <td>tolkienfans</td>\n",
       "      <td>Theory: At some point not told in the Tale, Ar...</td>\n",
       "      <td>1616971077</td>\n",
       "      <td>This is the last dialogue between Queen Undómi...</td>\n",
       "      <td>theory at some point not told in the tale arag...</td>\n",
       "      <td>yew_eater</td>\n",
       "      <td>False</td>\n",
       "      <td>/r/tolkienfans/comments/mfbsks/theory_at_some_...</td>\n",
       "      <td>6045</td>\n",
       "      <td>theori point told tale aragorn arwen must seri...</td>\n",
       "      <td>theory point told tale aragorn arwen must seri...</td>\n",
       "    </tr>\n",
       "    <tr>\n",
       "      <th>3</th>\n",
       "      <td>tolkienfans</td>\n",
       "      <td>I’d like to purchase a matching set of books o...</td>\n",
       "      <td>1616969977</td>\n",
       "      <td>Can anyone help me out? Looking for matching b...</td>\n",
       "      <td>i d like to purchase a matching set of books o...</td>\n",
       "      <td>GoosePants72</td>\n",
       "      <td>False</td>\n",
       "      <td>/r/tolkienfans/comments/mfbfyj/id_like_to_purc...</td>\n",
       "      <td>302</td>\n",
       "      <td>like purchas match set book everyth lotr silma...</td>\n",
       "      <td>like purchase matching set book everything lot...</td>\n",
       "    </tr>\n",
       "    <tr>\n",
       "      <th>4</th>\n",
       "      <td>tolkienfans</td>\n",
       "      <td>When Faramir ‘proposes’ to Eowyn, something we...</td>\n",
       "      <td>1616966528</td>\n",
       "      <td>After he confesses his love for her and talks ...</td>\n",
       "      <td>when faramir proposes to eowyn something weird...</td>\n",
       "      <td>PhendranaDrifter</td>\n",
       "      <td>False</td>\n",
       "      <td>/r/tolkienfans/comments/mfaae8/when_faramir_pr...</td>\n",
       "      <td>731</td>\n",
       "      <td>faramir propos eowyn someth weird happen confe...</td>\n",
       "      <td>faramir proposes eowyn something weird happens...</td>\n",
       "    </tr>\n",
       "  </tbody>\n",
       "</table>\n",
       "</div>"
      ],
      "text/plain": [
       "     subreddit                                              title  \\\n",
       "0  tolkienfans               What happened to Tolkien’s Red Book?   \n",
       "1  tolkienfans  What Makes People Turn Invisible When the Put ...   \n",
       "2  tolkienfans  Theory: At some point not told in the Tale, Ar...   \n",
       "3  tolkienfans  I’d like to purchase a matching set of books o...   \n",
       "4  tolkienfans  When Faramir ‘proposes’ to Eowyn, something we...   \n",
       "\n",
       "   created_utc                                           selftext  \\\n",
       "0   1616977706  I was wondering if somebody could clear up my ...   \n",
       "1   1616971688  I guess this is a big question because I never...   \n",
       "2   1616971077  This is the last dialogue between Queen Undómi...   \n",
       "3   1616969977  Can anyone help me out? Looking for matching b...   \n",
       "4   1616966528  After he confesses his love for her and talks ...   \n",
       "\n",
       "                                      title_selftext                author  \\\n",
       "0  what happened to tolkien s red book i was wond...  lukeskinwalker69epic   \n",
       "1  what makes people turn invisible when the put ...            Jpmaniax26   \n",
       "2  theory at some point not told in the tale arag...             yew_eater   \n",
       "3  i d like to purchase a matching set of books o...          GoosePants72   \n",
       "4  when faramir proposes to eowyn something weird...      PhendranaDrifter   \n",
       "\n",
       "   media_only                                          permalink  text_length  \\\n",
       "0       False  /r/tolkienfans/comments/mfdrms/what_happened_t...          322   \n",
       "1       False  /r/tolkienfans/comments/mfbzjh/what_makes_peop...          252   \n",
       "2       False  /r/tolkienfans/comments/mfbsks/theory_at_some_...         6045   \n",
       "3       False  /r/tolkienfans/comments/mfbfyj/id_like_to_purc...          302   \n",
       "4       False  /r/tolkienfans/comments/mfaae8/when_faramir_pr...          731   \n",
       "\n",
       "                                     clean_text_stem  \\\n",
       "0  happen tolkien red book wonder somebodi could ...   \n",
       "1  make peopl turn invis put one ring guess big q...   \n",
       "2  theori point told tale aragorn arwen must seri...   \n",
       "3  like purchas match set book everyth lotr silma...   \n",
       "4  faramir propos eowyn someth weird happen confe...   \n",
       "\n",
       "                                      clean_text_lem  \n",
       "0  happened tolkien red book wondering somebody c...  \n",
       "1  make people turn invisible put one ring guess ...  \n",
       "2  theory point told tale aragorn arwen must seri...  \n",
       "3  like purchase matching set book everything lot...  \n",
       "4  faramir proposes eowyn something weird happens...  "
      ]
     },
     "execution_count": 19,
     "metadata": {},
     "output_type": "execute_result"
    }
   ],
   "source": [
    "# Load the data\n",
    "df = pd.read_csv('../../../data/clean_data/clean_posts.csv', index_col=0)\n",
    "df.head()"
   ]
  },
  {
   "cell_type": "code",
   "execution_count": 20,
   "metadata": {},
   "outputs": [
    {
     "data": {
      "text/plain": [
       "tolkienfans    0.516823\n",
       "harrypotter    0.483177\n",
       "Name: subreddit, dtype: float64"
      ]
     },
     "execution_count": 20,
     "metadata": {},
     "output_type": "execute_result"
    }
   ],
   "source": [
    "# Checks baseline\n",
    "df['subreddit'].value_counts(normalize=True)\n",
    "# df['subreddit'].value_counts()"
   ]
  },
  {
   "cell_type": "code",
   "execution_count": 21,
   "metadata": {},
   "outputs": [],
   "source": [
    "df_sample = df.sample(100, random_state=42)"
   ]
  },
  {
   "cell_type": "code",
   "execution_count": 22,
   "metadata": {},
   "outputs": [],
   "source": [
    "# Set up X and y\n",
    "# X = df_sample['clean_text_stem']\n",
    "# y = df_sample['subreddit']\n",
    "\n",
    "X = df['clean_text_lem']\n",
    "y = df['subreddit']"
   ]
  },
  {
   "cell_type": "code",
   "execution_count": 23,
   "metadata": {},
   "outputs": [],
   "source": [
    "# Splits the data into training and test sets from sample\n",
    "X_train, X_test, y_train, y_test = train_test_split(X, \n",
    "                                                    y, \n",
    "                                                    stratify=y,\n",
    "                                                    random_state=42)"
   ]
  },
  {
   "cell_type": "code",
   "execution_count": 24,
   "metadata": {},
   "outputs": [],
   "source": [
    "# Instantiates a pipeline \n",
    "pipe = Pipeline([\n",
    "    ('cvec', CountVectorizer(max_df=0.98, max_features=3000, min_df=2, ngram_range=(1,2))),\n",
    "    ('rf', RandomForestClassifier(max_depth=100, n_estimators=150))\n",
    "])"
   ]
  },
  {
   "cell_type": "code",
   "execution_count": 25,
   "metadata": {},
   "outputs": [],
   "source": [
    "# best estimators:\n",
    "# {'cvec__max_df': 0.98,\n",
    "#  'cvec__max_features': 3000,\n",
    "#  'cvec__min_df': 2,\n",
    "#  'cvec__ngram_range': (1, 2),\n",
    "#  'rf__max_depth': 2,\n",
    "#  'rf__n_estimators': 150}"
   ]
  },
  {
   "cell_type": "code",
   "execution_count": 26,
   "metadata": {},
   "outputs": [
    {
     "data": {
      "text/plain": [
       "Pipeline(steps=[('cvec',\n",
       "                 CountVectorizer(max_df=0.98, max_features=3000, min_df=2,\n",
       "                                 ngram_range=(1, 2))),\n",
       "                ('rf',\n",
       "                 RandomForestClassifier(max_depth=100, n_estimators=150))])"
      ]
     },
     "execution_count": 26,
     "metadata": {},
     "output_type": "execute_result"
    }
   ],
   "source": [
    "# Fits the data to the pipe line model consisting of CountVectorizer and Random Forest Model\n",
    "pipe.fit(X_train, y_train)"
   ]
  },
  {
   "cell_type": "code",
   "execution_count": 27,
   "metadata": {},
   "outputs": [
    {
     "data": {
      "text/plain": [
       "(0.9762372073461377, 0.9589991589571069)"
      ]
     },
     "execution_count": 27,
     "metadata": {},
     "output_type": "execute_result"
    }
   ],
   "source": [
    "pipe.score(X_train, y_train), pipe.score(X_test, y_test)"
   ]
  },
  {
   "cell_type": "markdown",
   "metadata": {},
   "source": [
    "#### Evaluation"
   ]
  },
  {
   "cell_type": "code",
   "execution_count": 28,
   "metadata": {},
   "outputs": [
    {
     "data": {
      "text/plain": [
       "(0.9762372073461377, 0.9589991589571069)"
      ]
     },
     "execution_count": 28,
     "metadata": {},
     "output_type": "execute_result"
    }
   ],
   "source": [
    "# Assigns the training accuracy score and the testing accuracy score to variable names to make them callable\n",
    "train1, test1 = pipe.score(X_train, y_train), pipe.score(X_test, y_test)\n",
    "train1, test1"
   ]
  },
  {
   "cell_type": "code",
   "execution_count": 29,
   "metadata": {},
   "outputs": [],
   "source": [
    "# Calculates the y predictions and the AUC score\n",
    "y_preds = pipe.predict(X_test)\n",
    "auc = roc_auc_score(y_test, pipe.predict_proba(X_test)[:,1])"
   ]
  },
  {
   "cell_type": "code",
   "execution_count": 30,
   "metadata": {},
   "outputs": [],
   "source": [
    "# Creates the model metrics row dataframe and exports it as csv to be added to final model metrics table in presentation\n",
    "results = pd.DataFrame({'Model': ['RandomForest'], \n",
    "                        'Transformer': ['CountVectorizer'],\n",
    "                        'Stemmed/Lemmed': ['Lemmatized'],\n",
    "                        'Train_acc': [train1],\n",
    "                        'Test_acc': [test1], \n",
    "                        'AUC': [auc]})\n",
    "results.to_csv('../../../data/result_scores/rf_countvect_lem.csv')"
   ]
  },
  {
   "cell_type": "code",
   "execution_count": 31,
   "metadata": {},
   "outputs": [
    {
     "data": {
      "text/html": [
       "<div>\n",
       "<style scoped>\n",
       "    .dataframe tbody tr th:only-of-type {\n",
       "        vertical-align: middle;\n",
       "    }\n",
       "\n",
       "    .dataframe tbody tr th {\n",
       "        vertical-align: top;\n",
       "    }\n",
       "\n",
       "    .dataframe thead th {\n",
       "        text-align: right;\n",
       "    }\n",
       "</style>\n",
       "<table border=\"1\" class=\"dataframe\">\n",
       "  <thead>\n",
       "    <tr style=\"text-align: right;\">\n",
       "      <th></th>\n",
       "      <th>Model</th>\n",
       "      <th>Transformer</th>\n",
       "      <th>Stemmed/Lemmed</th>\n",
       "      <th>Train_acc</th>\n",
       "      <th>Test_acc</th>\n",
       "      <th>AUC</th>\n",
       "    </tr>\n",
       "  </thead>\n",
       "  <tbody>\n",
       "    <tr>\n",
       "      <th>0</th>\n",
       "      <td>RandomForest</td>\n",
       "      <td>CountVectorizer</td>\n",
       "      <td>Lemmatized</td>\n",
       "      <td>0.976237</td>\n",
       "      <td>0.958999</td>\n",
       "      <td>0.993115</td>\n",
       "    </tr>\n",
       "  </tbody>\n",
       "</table>\n",
       "</div>"
      ],
      "text/plain": [
       "          Model      Transformer Stemmed/Lemmed  Train_acc  Test_acc       AUC\n",
       "0  RandomForest  CountVectorizer     Lemmatized   0.976237  0.958999  0.993115"
      ]
     },
     "execution_count": 31,
     "metadata": {},
     "output_type": "execute_result"
    }
   ],
   "source": [
    "results"
   ]
  },
  {
   "cell_type": "code",
   "execution_count": 32,
   "metadata": {},
   "outputs": [
    {
     "data": {
      "image/png": "[encoded data removed]",
      "text/plain": [
       "<Figure size 432x288 with 1 Axes>"
      ]
     },
     "metadata": {
      "needs_background": "light"
     },
     "output_type": "display_data"
    }
   ],
   "source": [
    "# plots the ROC curve and visualizes the AUC score\n",
    "plot_roc_curve(pipe, X_test, y_test)\n",
    "plt.plot([0,1],[0,1], label='baseline', linestyle='--');"
   ]
  },
  {
   "cell_type": "code",
   "execution_count": 33,
   "metadata": {},
   "outputs": [
    {
     "data": {
      "image/png": "[encoded data removed]",
      "text/plain": [
       "<Figure size 720x720 with 2 Axes>"
      ]
     },
     "metadata": {},
     "output_type": "display_data"
    }
   ],
   "source": [
    "# Creates the confusion matrix and saves it as an image\n",
    "sns.set(font_scale=2.0)\n",
    "cm = confusion_matrix(y_test, y_preds)\n",
    "fig, ax = plt.subplots(figsize=(10, 10))\n",
    "plot = ConfusionMatrixDisplay(cm).plot(ax=ax)\n",
    "plot\n",
    "plt.title('Confusion Matrix')\n",
    "ax.set_title('Confusion Matrix', fontdict={'size':'15'})\n",
    "ax.set_xticklabels(df['subreddit'].unique(), size=15);\n",
    "ax.set_yticklabels(df['subreddit'].unique(), size=15);\n",
    "ax.set_xlabel('Predicted label', fontdict={'size':'15'})\n",
    "ax.set_ylabel('True label', fontdict={'size':'15'})\n",
    "\n",
    "plt.savefig('../../../presentation/imgs/cm_rf_countvect_lem.jpg')"
   ]
  },
  {
   "cell_type": "code",
   "execution_count": 34,
   "metadata": {
    "scrolled": true
   },
   "outputs": [],
   "source": [
    "# dir(pipe.named_steps['rf'])"
   ]
  },
  {
   "cell_type": "code",
   "execution_count": 35,
   "metadata": {},
   "outputs": [],
   "source": [
    "# returns the feature importances from the pipeline random forest model\n",
    "importances = pipe.named_steps['rf'].feature_importances_"
   ]
  },
  {
   "cell_type": "code",
   "execution_count": 36,
   "metadata": {},
   "outputs": [
    {
     "data": {
      "text/plain": [
       "array([1.01564142e-05, 1.04076095e-05, 1.13122433e-05, ...,\n",
       "       1.04185963e-04, 1.05102338e-04, 8.09402736e-05])"
      ]
     },
     "execution_count": 36,
     "metadata": {},
     "output_type": "execute_result"
    }
   ],
   "source": [
    "importances"
   ]
  },
  {
   "cell_type": "code",
   "execution_count": 37,
   "metadata": {},
   "outputs": [],
   "source": [
    "# finds the names of the features\n",
    "names = pipe.named_steps['cvec'].get_feature_names()"
   ]
  },
  {
   "cell_type": "code",
   "execution_count": 38,
   "metadata": {},
   "outputs": [
    {
     "data": {
      "text/html": [
       "<div>\n",
       "<style scoped>\n",
       "    .dataframe tbody tr th:only-of-type {\n",
       "        vertical-align: middle;\n",
       "    }\n",
       "\n",
       "    .dataframe tbody tr th {\n",
       "        vertical-align: top;\n",
       "    }\n",
       "\n",
       "    .dataframe thead th {\n",
       "        text-align: right;\n",
       "    }\n",
       "</style>\n",
       "<table border=\"1\" class=\"dataframe\">\n",
       "  <thead>\n",
       "    <tr style=\"text-align: right;\">\n",
       "      <th></th>\n",
       "      <th>feature_importance</th>\n",
       "      <th>features</th>\n",
       "    </tr>\n",
       "  </thead>\n",
       "  <tbody>\n",
       "    <tr>\n",
       "      <th>2670</th>\n",
       "      <td>0.091799</td>\n",
       "      <td>tolkien</td>\n",
       "    </tr>\n",
       "    <tr>\n",
       "      <th>1207</th>\n",
       "      <td>0.074741</td>\n",
       "      <td>harry</td>\n",
       "    </tr>\n",
       "    <tr>\n",
       "      <th>2218</th>\n",
       "      <td>0.032567</td>\n",
       "      <td>ring</td>\n",
       "    </tr>\n",
       "    <tr>\n",
       "      <th>1578</th>\n",
       "      <td>0.027687</td>\n",
       "      <td>lotr</td>\n",
       "    </tr>\n",
       "    <tr>\n",
       "      <th>1269</th>\n",
       "      <td>0.026078</td>\n",
       "      <td>hobbit</td>\n",
       "    </tr>\n",
       "    <tr>\n",
       "      <th>2009</th>\n",
       "      <td>0.024496</td>\n",
       "      <td>potter</td>\n",
       "    </tr>\n",
       "    <tr>\n",
       "      <th>1211</th>\n",
       "      <td>0.021795</td>\n",
       "      <td>harry potter</td>\n",
       "    </tr>\n",
       "    <tr>\n",
       "      <th>2376</th>\n",
       "      <td>0.019852</td>\n",
       "      <td>silmarillion</td>\n",
       "    </tr>\n",
       "    <tr>\n",
       "      <th>2272</th>\n",
       "      <td>0.019736</td>\n",
       "      <td>sauron</td>\n",
       "    </tr>\n",
       "    <tr>\n",
       "      <th>1683</th>\n",
       "      <td>0.018132</td>\n",
       "      <td>middle</td>\n",
       "    </tr>\n",
       "  </tbody>\n",
       "</table>\n",
       "</div>"
      ],
      "text/plain": [
       "      feature_importance      features\n",
       "2670            0.091799       tolkien\n",
       "1207            0.074741         harry\n",
       "2218            0.032567          ring\n",
       "1578            0.027687          lotr\n",
       "1269            0.026078        hobbit\n",
       "2009            0.024496        potter\n",
       "1211            0.021795  harry potter\n",
       "2376            0.019852  silmarillion\n",
       "2272            0.019736        sauron\n",
       "1683            0.018132        middle"
      ]
     },
     "execution_count": 38,
     "metadata": {},
     "output_type": "execute_result"
    }
   ],
   "source": [
    "# Creates the feature importance dataframe\n",
    "importance_dict = pd.DataFrame({'feature_importance': importances,\n",
    "                                'features': names})\n",
    "top10 = importance_dict.nlargest(10, columns=['feature_importance'])\n",
    "top10"
   ]
  },
  {
   "cell_type": "code",
   "execution_count": 39,
   "metadata": {},
   "outputs": [
    {
     "data": {
      "image/png": "[encoded data removed]",
      "text/plain": [
       "<Figure size 432x288 with 1 Axes>"
      ]
     },
     "metadata": {},
     "output_type": "display_data"
    }
   ],
   "source": [
    "# Visualizes the feature importances\n",
    "sns.set(font_scale=1.5)\n",
    "# plt.bar(x='features', height='feature_importances', data=top10);\n",
    "plt.barh(top10['features'], top10['feature_importance']);\n",
    "plt.savefig('../../../presentation/imgs/rf_countvect_lem_featureImp.jpg')"
   ]
  },
  {
   "cell_type": "code",
   "execution_count": null,
   "metadata": {},
   "outputs": [],
   "source": []
  }
 ],
 "metadata": {
  "kernelspec": {
   "display_name": "Python 3",
   "language": "python",
   "name": "python3"
  },
  "language_info": {
   "codemirror_mode": {
    "name": "ipython",
    "version": 3
   },
   "file_extension": ".py",
   "mimetype": "text/x-python",
   "name": "python",
   "nbconvert_exporter": "python",
   "pygments_lexer": "ipython3",
   "version": "3.8.5"
  }
 },
 "nbformat": 4,
 "nbformat_minor": 4
}
