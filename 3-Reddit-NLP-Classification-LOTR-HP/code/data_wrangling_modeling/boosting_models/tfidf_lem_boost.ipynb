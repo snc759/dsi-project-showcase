{
 "cells": [
  {
   "cell_type": "markdown",
   "metadata": {},
   "source": [
    "## AdaBoosting Modeling and some EDA using: \n",
    "### - Transformer: TfidfVectorizer\n",
    "### - Lemmatized words"
   ]
  },
  {
   "cell_type": "code",
   "execution_count": 2,
   "metadata": {},
   "outputs": [],
   "source": [
    "# Imports \n",
    "import numpy as np\n",
    "import pandas as pd\n",
    "import matplotlib.pyplot as plt\n",
    "import seaborn as sns\n",
    "\n",
    "# Naive Bayes \n",
    "from sklearn.naive_bayes import MultinomialNB, BernoulliNB\n",
    "\n",
    "# Logistic Regression \n",
    "from sklearn.linear_model import LogisticRegression\n",
    "\n",
    "# Boosting\n",
    "from sklearn.ensemble import AdaBoostClassifier\n",
    "\n",
    "# Other Sklearn \n",
    "from sklearn.model_selection import train_test_split, cross_val_score, GridSearchCV\n",
    "from sklearn.metrics import confusion_matrix, ConfusionMatrixDisplay, accuracy_score, plot_roc_curve, roc_auc_score, recall_score, precision_score, f1_score, classification_report\n",
    "\n",
    "# Pipeline\n",
    "from sklearn.pipeline import Pipeline, make_pipeline\n",
    "\n",
    "# NLP imports\n",
    "from sklearn.feature_extraction.text import CountVectorizer, TfidfVectorizer\n",
    "# nltk.download()  --> Download all, and then restart jupyter lab\n",
    "import nltk\n",
    "from nltk.tokenize import sent_tokenize, word_tokenize, RegexpTokenizer\n",
    "from nltk.stem import WordNetLemmatizer\n",
    "from nltk.stem.porter import PorterStemmer\n",
    "from nltk.corpus import stopwords\n",
    "from nltk.sentiment.vader import SentimentIntensityAnalyzer\n",
    "from nltk import FreqDist, pos_tag\n",
    "import re"
   ]
  },
  {
   "cell_type": "markdown",
   "metadata": {},
   "source": [
    "### Loading Data and Splitting Data"
   ]
  },
  {
   "cell_type": "code",
   "execution_count": 3,
   "metadata": {},
   "outputs": [
    {
     "data": {
      "text/html": [
       "<div>\n",
       "<style scoped>\n",
       "    .dataframe tbody tr th:only-of-type {\n",
       "        vertical-align: middle;\n",
       "    }\n",
       "\n",
       "    .dataframe tbody tr th {\n",
       "        vertical-align: top;\n",
       "    }\n",
       "\n",
       "    .dataframe thead th {\n",
       "        text-align: right;\n",
       "    }\n",
       "</style>\n",
       "<table border=\"1\" class=\"dataframe\">\n",
       "  <thead>\n",
       "    <tr style=\"text-align: right;\">\n",
       "      <th></th>\n",
       "      <th>subreddit</th>\n",
       "      <th>title</th>\n",
       "      <th>created_utc</th>\n",
       "      <th>selftext</th>\n",
       "      <th>title_selftext</th>\n",
       "      <th>author</th>\n",
       "      <th>media_only</th>\n",
       "      <th>permalink</th>\n",
       "      <th>text_length</th>\n",
       "      <th>clean_text_stem</th>\n",
       "      <th>clean_text_lem</th>\n",
       "    </tr>\n",
       "  </thead>\n",
       "  <tbody>\n",
       "    <tr>\n",
       "      <th>0</th>\n",
       "      <td>tolkienfans</td>\n",
       "      <td>What happened to Tolkien’s Red Book?</td>\n",
       "      <td>1616977706</td>\n",
       "      <td>I was wondering if somebody could clear up my ...</td>\n",
       "      <td>what happened to tolkien s red book i was wond...</td>\n",
       "      <td>lukeskinwalker69epic</td>\n",
       "      <td>False</td>\n",
       "      <td>/r/tolkienfans/comments/mfdrms/what_happened_t...</td>\n",
       "      <td>322</td>\n",
       "      <td>happen tolkien red book wonder somebodi could ...</td>\n",
       "      <td>happened tolkien red book wondering somebody c...</td>\n",
       "    </tr>\n",
       "    <tr>\n",
       "      <th>1</th>\n",
       "      <td>tolkienfans</td>\n",
       "      <td>What Makes People Turn Invisible When the Put ...</td>\n",
       "      <td>1616971688</td>\n",
       "      <td>I guess this is a big question because I never...</td>\n",
       "      <td>what makes people turn invisible when the put ...</td>\n",
       "      <td>Jpmaniax26</td>\n",
       "      <td>False</td>\n",
       "      <td>/r/tolkienfans/comments/mfbzjh/what_makes_peop...</td>\n",
       "      <td>252</td>\n",
       "      <td>make peopl turn invis put one ring guess big q...</td>\n",
       "      <td>make people turn invisible put one ring guess ...</td>\n",
       "    </tr>\n",
       "    <tr>\n",
       "      <th>2</th>\n",
       "      <td>tolkienfans</td>\n",
       "      <td>Theory: At some point not told in the Tale, Ar...</td>\n",
       "      <td>1616971077</td>\n",
       "      <td>This is the last dialogue between Queen Undómi...</td>\n",
       "      <td>theory at some point not told in the tale arag...</td>\n",
       "      <td>yew_eater</td>\n",
       "      <td>False</td>\n",
       "      <td>/r/tolkienfans/comments/mfbsks/theory_at_some_...</td>\n",
       "      <td>6045</td>\n",
       "      <td>theori point told tale aragorn arwen must seri...</td>\n",
       "      <td>theory point told tale aragorn arwen must seri...</td>\n",
       "    </tr>\n",
       "    <tr>\n",
       "      <th>3</th>\n",
       "      <td>tolkienfans</td>\n",
       "      <td>I’d like to purchase a matching set of books o...</td>\n",
       "      <td>1616969977</td>\n",
       "      <td>Can anyone help me out? Looking for matching b...</td>\n",
       "      <td>i d like to purchase a matching set of books o...</td>\n",
       "      <td>GoosePants72</td>\n",
       "      <td>False</td>\n",
       "      <td>/r/tolkienfans/comments/mfbfyj/id_like_to_purc...</td>\n",
       "      <td>302</td>\n",
       "      <td>like purchas match set book everyth lotr silma...</td>\n",
       "      <td>like purchase matching set book everything lot...</td>\n",
       "    </tr>\n",
       "    <tr>\n",
       "      <th>4</th>\n",
       "      <td>tolkienfans</td>\n",
       "      <td>When Faramir ‘proposes’ to Eowyn, something we...</td>\n",
       "      <td>1616966528</td>\n",
       "      <td>After he confesses his love for her and talks ...</td>\n",
       "      <td>when faramir proposes to eowyn something weird...</td>\n",
       "      <td>PhendranaDrifter</td>\n",
       "      <td>False</td>\n",
       "      <td>/r/tolkienfans/comments/mfaae8/when_faramir_pr...</td>\n",
       "      <td>731</td>\n",
       "      <td>faramir propos eowyn someth weird happen confe...</td>\n",
       "      <td>faramir proposes eowyn something weird happens...</td>\n",
       "    </tr>\n",
       "  </tbody>\n",
       "</table>\n",
       "</div>"
      ],
      "text/plain": [
       "     subreddit                                              title  \\\n",
       "0  tolkienfans               What happened to Tolkien’s Red Book?   \n",
       "1  tolkienfans  What Makes People Turn Invisible When the Put ...   \n",
       "2  tolkienfans  Theory: At some point not told in the Tale, Ar...   \n",
       "3  tolkienfans  I’d like to purchase a matching set of books o...   \n",
       "4  tolkienfans  When Faramir ‘proposes’ to Eowyn, something we...   \n",
       "\n",
       "   created_utc                                           selftext  \\\n",
       "0   1616977706  I was wondering if somebody could clear up my ...   \n",
       "1   1616971688  I guess this is a big question because I never...   \n",
       "2   1616971077  This is the last dialogue between Queen Undómi...   \n",
       "3   1616969977  Can anyone help me out? Looking for matching b...   \n",
       "4   1616966528  After he confesses his love for her and talks ...   \n",
       "\n",
       "                                      title_selftext                author  \\\n",
       "0  what happened to tolkien s red book i was wond...  lukeskinwalker69epic   \n",
       "1  what makes people turn invisible when the put ...            Jpmaniax26   \n",
       "2  theory at some point not told in the tale arag...             yew_eater   \n",
       "3  i d like to purchase a matching set of books o...          GoosePants72   \n",
       "4  when faramir proposes to eowyn something weird...      PhendranaDrifter   \n",
       "\n",
       "   media_only                                          permalink  text_length  \\\n",
       "0       False  /r/tolkienfans/comments/mfdrms/what_happened_t...          322   \n",
       "1       False  /r/tolkienfans/comments/mfbzjh/what_makes_peop...          252   \n",
       "2       False  /r/tolkienfans/comments/mfbsks/theory_at_some_...         6045   \n",
       "3       False  /r/tolkienfans/comments/mfbfyj/id_like_to_purc...          302   \n",
       "4       False  /r/tolkienfans/comments/mfaae8/when_faramir_pr...          731   \n",
       "\n",
       "                                     clean_text_stem  \\\n",
       "0  happen tolkien red book wonder somebodi could ...   \n",
       "1  make peopl turn invis put one ring guess big q...   \n",
       "2  theori point told tale aragorn arwen must seri...   \n",
       "3  like purchas match set book everyth lotr silma...   \n",
       "4  faramir propos eowyn someth weird happen confe...   \n",
       "\n",
       "                                      clean_text_lem  \n",
       "0  happened tolkien red book wondering somebody c...  \n",
       "1  make people turn invisible put one ring guess ...  \n",
       "2  theory point told tale aragorn arwen must seri...  \n",
       "3  like purchase matching set book everything lot...  \n",
       "4  faramir proposes eowyn something weird happens...  "
      ]
     },
     "execution_count": 3,
     "metadata": {},
     "output_type": "execute_result"
    }
   ],
   "source": [
    "# Load the data\n",
    "df = pd.read_csv('../../../data/clean_data/clean_posts.csv', index_col=0)\n",
    "df.head()"
   ]
  },
  {
   "cell_type": "code",
   "execution_count": 4,
   "metadata": {},
   "outputs": [
    {
     "data": {
      "text/plain": [
       "tolkienfans    0.516823\n",
       "harrypotter    0.483177\n",
       "Name: subreddit, dtype: float64"
      ]
     },
     "execution_count": 4,
     "metadata": {},
     "output_type": "execute_result"
    }
   ],
   "source": [
    "# Checks baseline\n",
    "df['subreddit'].value_counts(normalize=True)\n",
    "# df['subreddit'].value_counts()"
   ]
  },
  {
   "cell_type": "code",
   "execution_count": 6,
   "metadata": {},
   "outputs": [],
   "source": [
    "# Set up X and y\n",
    "X = df['clean_text_lem']\n",
    "y = df['subreddit']"
   ]
  },
  {
   "cell_type": "code",
   "execution_count": 7,
   "metadata": {},
   "outputs": [],
   "source": [
    "# Splits the data into training and test sets\n",
    "X_train, X_test, y_train, y_test = train_test_split(X, y, \n",
    "                                                    stratify=y,\n",
    "                                                    random_state=42)"
   ]
  },
  {
   "cell_type": "markdown",
   "metadata": {},
   "source": [
    "### Modeling"
   ]
  },
  {
   "cell_type": "code",
   "execution_count": 9,
   "metadata": {},
   "outputs": [
    {
     "data": {
      "text/plain": [
       "tolkienfans    0.516821\n",
       "harrypotter    0.483179\n",
       "Name: subreddit, dtype: float64"
      ]
     },
     "execution_count": 9,
     "metadata": {},
     "output_type": "execute_result"
    }
   ],
   "source": [
    "# Baseline accuracy \n",
    "y_test.value_counts(normalize=True)"
   ]
  },
  {
   "cell_type": "code",
   "execution_count": 17,
   "metadata": {},
   "outputs": [],
   "source": [
    "# Instantiates a pipeline \n",
    "pipe = Pipeline([\n",
    "    ('tvec', TfidfVectorizer()),\n",
    "    ('abc', AdaBoostClassifier())\n",
    "])"
   ]
  },
  {
   "cell_type": "code",
   "execution_count": 18,
   "metadata": {},
   "outputs": [],
   "source": [
    "# Creates the pipe parameters \n",
    "pipe_params = {\n",
    "    'tvec__max_features': [2000, 3000, 4000, 5000],\n",
    "    'tvec__min_df':[1, 2],\n",
    "    'tvec__max_df':[0.90, 0.98],\n",
    "    'tvec__ngram_range':[(1,1), (1,2)],\n",
    "    'abc__n_estimators': [50, 100]\n",
    "}"
   ]
  },
  {
   "cell_type": "code",
   "execution_count": 19,
   "metadata": {},
   "outputs": [],
   "source": [
    "# Instantiates the GridSearchCV\n",
    "gs = GridSearchCV(pipe, \n",
    "                param_grid=pipe_params,\n",
    "                cv=5, \n",
    "                verbose=1, \n",
    "                 n_jobs=4)"
   ]
  },
  {
   "cell_type": "code",
   "execution_count": 20,
   "metadata": {},
   "outputs": [
    {
     "name": "stdout",
     "output_type": "stream",
     "text": [
      "Fitting 5 folds for each of 64 candidates, totalling 320 fits\n"
     ]
    },
    {
     "name": "stderr",
     "output_type": "stream",
     "text": [
      "[Parallel(n_jobs=4)]: Using backend LokyBackend with 4 concurrent workers.\n",
      "[Parallel(n_jobs=4)]: Done  42 tasks      | elapsed:  1.1min\n",
      "[Parallel(n_jobs=4)]: Done 192 tasks      | elapsed:  6.1min\n",
      "[Parallel(n_jobs=4)]: Done 320 out of 320 | elapsed: 12.1min finished\n"
     ]
    },
    {
     "data": {
      "text/plain": [
       "GridSearchCV(cv=5,\n",
       "             estimator=Pipeline(steps=[('tvec', TfidfVectorizer()),\n",
       "                                       ('abc', AdaBoostClassifier())]),\n",
       "             n_jobs=4,\n",
       "             param_grid={'abc__n_estimators': [50, 100],\n",
       "                         'tvec__max_df': [0.9, 0.98],\n",
       "                         'tvec__max_features': [2000, 3000, 4000, 5000],\n",
       "                         'tvec__min_df': [1, 2],\n",
       "                         'tvec__ngram_range': [(1, 1), (1, 2)]},\n",
       "             verbose=1)"
      ]
     },
     "execution_count": 20,
     "metadata": {},
     "output_type": "execute_result"
    }
   ],
   "source": [
    "# Fits GridSearch to training data\n",
    "gs.fit(X_train, y_train)"
   ]
  },
  {
   "cell_type": "code",
   "execution_count": 21,
   "metadata": {},
   "outputs": [
    {
     "data": {
      "text/plain": [
       "(0.9542268330295808, 0.9476450798990749)"
      ]
     },
     "execution_count": 21,
     "metadata": {},
     "output_type": "execute_result"
    }
   ],
   "source": [
    "# Returns the training and testing accuracy scores from the gridsearch\n",
    "gs.score(X_train, y_train), gs.score(X_test, y_test)"
   ]
  },
  {
   "cell_type": "code",
   "execution_count": 22,
   "metadata": {},
   "outputs": [
    {
     "data": {
      "text/plain": [
       "{'abc__n_estimators': 100,\n",
       " 'tvec__max_df': 0.9,\n",
       " 'tvec__max_features': 5000,\n",
       " 'tvec__min_df': 1,\n",
       " 'tvec__ngram_range': (1, 1)}"
      ]
     },
     "execution_count": 22,
     "metadata": {},
     "output_type": "execute_result"
    }
   ],
   "source": [
    "# Returns the best parameters from the gridsearch\n",
    "gs.best_params_"
   ]
  },
  {
   "cell_type": "markdown",
   "metadata": {},
   "source": [
    "## Re-Run the AdaBoost Model with Best Params"
   ]
  },
  {
   "cell_type": "code",
   "execution_count": 23,
   "metadata": {},
   "outputs": [
    {
     "data": {
      "text/html": [
       "<div>\n",
       "<style scoped>\n",
       "    .dataframe tbody tr th:only-of-type {\n",
       "        vertical-align: middle;\n",
       "    }\n",
       "\n",
       "    .dataframe tbody tr th {\n",
       "        vertical-align: top;\n",
       "    }\n",
       "\n",
       "    .dataframe thead th {\n",
       "        text-align: right;\n",
       "    }\n",
       "</style>\n",
       "<table border=\"1\" class=\"dataframe\">\n",
       "  <thead>\n",
       "    <tr style=\"text-align: right;\">\n",
       "      <th></th>\n",
       "      <th>subreddit</th>\n",
       "      <th>title</th>\n",
       "      <th>created_utc</th>\n",
       "      <th>selftext</th>\n",
       "      <th>title_selftext</th>\n",
       "      <th>author</th>\n",
       "      <th>media_only</th>\n",
       "      <th>permalink</th>\n",
       "      <th>text_length</th>\n",
       "      <th>clean_text_stem</th>\n",
       "      <th>clean_text_lem</th>\n",
       "    </tr>\n",
       "  </thead>\n",
       "  <tbody>\n",
       "    <tr>\n",
       "      <th>0</th>\n",
       "      <td>tolkienfans</td>\n",
       "      <td>What happened to Tolkien’s Red Book?</td>\n",
       "      <td>1616977706</td>\n",
       "      <td>I was wondering if somebody could clear up my ...</td>\n",
       "      <td>what happened to tolkien s red book i was wond...</td>\n",
       "      <td>lukeskinwalker69epic</td>\n",
       "      <td>False</td>\n",
       "      <td>/r/tolkienfans/comments/mfdrms/what_happened_t...</td>\n",
       "      <td>322</td>\n",
       "      <td>happen tolkien red book wonder somebodi could ...</td>\n",
       "      <td>happened tolkien red book wondering somebody c...</td>\n",
       "    </tr>\n",
       "    <tr>\n",
       "      <th>1</th>\n",
       "      <td>tolkienfans</td>\n",
       "      <td>What Makes People Turn Invisible When the Put ...</td>\n",
       "      <td>1616971688</td>\n",
       "      <td>I guess this is a big question because I never...</td>\n",
       "      <td>what makes people turn invisible when the put ...</td>\n",
       "      <td>Jpmaniax26</td>\n",
       "      <td>False</td>\n",
       "      <td>/r/tolkienfans/comments/mfbzjh/what_makes_peop...</td>\n",
       "      <td>252</td>\n",
       "      <td>make peopl turn invis put one ring guess big q...</td>\n",
       "      <td>make people turn invisible put one ring guess ...</td>\n",
       "    </tr>\n",
       "    <tr>\n",
       "      <th>2</th>\n",
       "      <td>tolkienfans</td>\n",
       "      <td>Theory: At some point not told in the Tale, Ar...</td>\n",
       "      <td>1616971077</td>\n",
       "      <td>This is the last dialogue between Queen Undómi...</td>\n",
       "      <td>theory at some point not told in the tale arag...</td>\n",
       "      <td>yew_eater</td>\n",
       "      <td>False</td>\n",
       "      <td>/r/tolkienfans/comments/mfbsks/theory_at_some_...</td>\n",
       "      <td>6045</td>\n",
       "      <td>theori point told tale aragorn arwen must seri...</td>\n",
       "      <td>theory point told tale aragorn arwen must seri...</td>\n",
       "    </tr>\n",
       "    <tr>\n",
       "      <th>3</th>\n",
       "      <td>tolkienfans</td>\n",
       "      <td>I’d like to purchase a matching set of books o...</td>\n",
       "      <td>1616969977</td>\n",
       "      <td>Can anyone help me out? Looking for matching b...</td>\n",
       "      <td>i d like to purchase a matching set of books o...</td>\n",
       "      <td>GoosePants72</td>\n",
       "      <td>False</td>\n",
       "      <td>/r/tolkienfans/comments/mfbfyj/id_like_to_purc...</td>\n",
       "      <td>302</td>\n",
       "      <td>like purchas match set book everyth lotr silma...</td>\n",
       "      <td>like purchase matching set book everything lot...</td>\n",
       "    </tr>\n",
       "    <tr>\n",
       "      <th>4</th>\n",
       "      <td>tolkienfans</td>\n",
       "      <td>When Faramir ‘proposes’ to Eowyn, something we...</td>\n",
       "      <td>1616966528</td>\n",
       "      <td>After he confesses his love for her and talks ...</td>\n",
       "      <td>when faramir proposes to eowyn something weird...</td>\n",
       "      <td>PhendranaDrifter</td>\n",
       "      <td>False</td>\n",
       "      <td>/r/tolkienfans/comments/mfaae8/when_faramir_pr...</td>\n",
       "      <td>731</td>\n",
       "      <td>faramir propos eowyn someth weird happen confe...</td>\n",
       "      <td>faramir proposes eowyn something weird happens...</td>\n",
       "    </tr>\n",
       "  </tbody>\n",
       "</table>\n",
       "</div>"
      ],
      "text/plain": [
       "     subreddit                                              title  \\\n",
       "0  tolkienfans               What happened to Tolkien’s Red Book?   \n",
       "1  tolkienfans  What Makes People Turn Invisible When the Put ...   \n",
       "2  tolkienfans  Theory: At some point not told in the Tale, Ar...   \n",
       "3  tolkienfans  I’d like to purchase a matching set of books o...   \n",
       "4  tolkienfans  When Faramir ‘proposes’ to Eowyn, something we...   \n",
       "\n",
       "   created_utc                                           selftext  \\\n",
       "0   1616977706  I was wondering if somebody could clear up my ...   \n",
       "1   1616971688  I guess this is a big question because I never...   \n",
       "2   1616971077  This is the last dialogue between Queen Undómi...   \n",
       "3   1616969977  Can anyone help me out? Looking for matching b...   \n",
       "4   1616966528  After he confesses his love for her and talks ...   \n",
       "\n",
       "                                      title_selftext                author  \\\n",
       "0  what happened to tolkien s red book i was wond...  lukeskinwalker69epic   \n",
       "1  what makes people turn invisible when the put ...            Jpmaniax26   \n",
       "2  theory at some point not told in the tale arag...             yew_eater   \n",
       "3  i d like to purchase a matching set of books o...          GoosePants72   \n",
       "4  when faramir proposes to eowyn something weird...      PhendranaDrifter   \n",
       "\n",
       "   media_only                                          permalink  text_length  \\\n",
       "0       False  /r/tolkienfans/comments/mfdrms/what_happened_t...          322   \n",
       "1       False  /r/tolkienfans/comments/mfbzjh/what_makes_peop...          252   \n",
       "2       False  /r/tolkienfans/comments/mfbsks/theory_at_some_...         6045   \n",
       "3       False  /r/tolkienfans/comments/mfbfyj/id_like_to_purc...          302   \n",
       "4       False  /r/tolkienfans/comments/mfaae8/when_faramir_pr...          731   \n",
       "\n",
       "                                     clean_text_stem  \\\n",
       "0  happen tolkien red book wonder somebodi could ...   \n",
       "1  make peopl turn invis put one ring guess big q...   \n",
       "2  theori point told tale aragorn arwen must seri...   \n",
       "3  like purchas match set book everyth lotr silma...   \n",
       "4  faramir propos eowyn someth weird happen confe...   \n",
       "\n",
       "                                      clean_text_lem  \n",
       "0  happened tolkien red book wondering somebody c...  \n",
       "1  make people turn invisible put one ring guess ...  \n",
       "2  theory point told tale aragorn arwen must seri...  \n",
       "3  like purchase matching set book everything lot...  \n",
       "4  faramir proposes eowyn something weird happens...  "
      ]
     },
     "execution_count": 23,
     "metadata": {},
     "output_type": "execute_result"
    }
   ],
   "source": [
    "# Load the data\n",
    "df = pd.read_csv('../../../data/clean_data/clean_posts.csv', index_col=0)\n",
    "df.head()"
   ]
  },
  {
   "cell_type": "code",
   "execution_count": 24,
   "metadata": {},
   "outputs": [
    {
     "data": {
      "text/plain": [
       "tolkienfans    0.516823\n",
       "harrypotter    0.483177\n",
       "Name: subreddit, dtype: float64"
      ]
     },
     "execution_count": 24,
     "metadata": {},
     "output_type": "execute_result"
    }
   ],
   "source": [
    "# Checks baseline\n",
    "df['subreddit'].value_counts(normalize=True)\n",
    "# df['subreddit'].value_counts()"
   ]
  },
  {
   "cell_type": "code",
   "execution_count": 26,
   "metadata": {},
   "outputs": [],
   "source": [
    "df_sample = df.sample(100, random_state=42)"
   ]
  },
  {
   "cell_type": "code",
   "execution_count": 27,
   "metadata": {},
   "outputs": [],
   "source": [
    "# Set up X and y\n",
    "# X = df_sample['clean_text_stem']\n",
    "# y = df_sample['subreddit']\n",
    "\n",
    "X = df['clean_text_lem']\n",
    "y = df['subreddit']"
   ]
  },
  {
   "cell_type": "code",
   "execution_count": 28,
   "metadata": {},
   "outputs": [],
   "source": [
    "# Splits the data into training and test sets from sample\n",
    "X_train, X_test, y_train, y_test = train_test_split(X, \n",
    "                                                    y, \n",
    "                                                    stratify=y,\n",
    "                                                    random_state=42)"
   ]
  },
  {
   "cell_type": "code",
   "execution_count": 30,
   "metadata": {},
   "outputs": [],
   "source": [
    "# Instantiates a pipeline \n",
    "pipe = Pipeline([\n",
    "    ('tvec', TfidfVectorizer(max_df=0.9, max_features=5000, min_df=1, ngram_range=(1,1))),\n",
    "    ('abc', AdaBoostClassifier(n_estimators=100))\n",
    "])"
   ]
  },
  {
   "cell_type": "code",
   "execution_count": 31,
   "metadata": {},
   "outputs": [],
   "source": [
    "# best estimators:\n",
    "# {'abc__n_estimators': 100,\n",
    "#  'tvec__max_df': 0.9,\n",
    "#  'tvec__max_features': 5000,\n",
    "#  'tvec__min_df': 1,\n",
    "#  'tvec__ngram_range': (1, 1)}"
   ]
  },
  {
   "cell_type": "code",
   "execution_count": 32,
   "metadata": {},
   "outputs": [
    {
     "data": {
      "text/plain": [
       "Pipeline(steps=[('tvec', TfidfVectorizer(max_df=0.9, max_features=5000)),\n",
       "                ('abc', AdaBoostClassifier(n_estimators=100))])"
      ]
     },
     "execution_count": 32,
     "metadata": {},
     "output_type": "execute_result"
    }
   ],
   "source": [
    "# Fits the data to the pipeline including the tfidfvectorizer and the AdaBoost\n",
    "pipe.fit(X_train, y_train)"
   ]
  },
  {
   "cell_type": "code",
   "execution_count": 33,
   "metadata": {},
   "outputs": [
    {
     "data": {
      "text/plain": [
       "(0.9542268330295808, 0.9476450798990749)"
      ]
     },
     "execution_count": 33,
     "metadata": {},
     "output_type": "execute_result"
    }
   ],
   "source": [
    "# Returns the training and testing accuracy scores from the pipeline\n",
    "pipe.score(X_train, y_train), pipe.score(X_test, y_test)"
   ]
  },
  {
   "cell_type": "markdown",
   "metadata": {},
   "source": [
    "#### Evaluation"
   ]
  },
  {
   "cell_type": "code",
   "execution_count": 34,
   "metadata": {},
   "outputs": [
    {
     "data": {
      "text/plain": [
       "(0.9542268330295808, 0.9476450798990749)"
      ]
     },
     "execution_count": 34,
     "metadata": {},
     "output_type": "execute_result"
    }
   ],
   "source": [
    "# Assigns variable names to the training and test accuracy scores\n",
    "train1, test1 = pipe.score(X_train, y_train), pipe.score(X_test, y_test)\n",
    "train1, test1"
   ]
  },
  {
   "cell_type": "code",
   "execution_count": 35,
   "metadata": {},
   "outputs": [],
   "source": [
    "# Calculates the y predictions and the AUC score\n",
    "y_preds = pipe.predict(X_test)\n",
    "auc = roc_auc_score(y_test, pipe.predict_proba(X_test)[:,1])"
   ]
  },
  {
   "cell_type": "code",
   "execution_count": 36,
   "metadata": {},
   "outputs": [],
   "source": [
    "# Creates the model metric row dataframe to add to the final model metric table in the presentation\n",
    "results = pd.DataFrame({'Model': ['AdaBoost'], \n",
    "                        'Transformer': ['TFIDF'],\n",
    "                        'Stemmed/Lemmed': ['Lemmatized'],\n",
    "                        'Train_acc': [train1],\n",
    "                        'Test_acc': [test1], \n",
    "                        'AUC': [auc]})\n",
    "results.to_csv('../../../data/result_scores/boost_tfidf_lem.csv')"
   ]
  },
  {
   "cell_type": "code",
   "execution_count": 37,
   "metadata": {},
   "outputs": [
    {
     "data": {
      "text/html": [
       "<div>\n",
       "<style scoped>\n",
       "    .dataframe tbody tr th:only-of-type {\n",
       "        vertical-align: middle;\n",
       "    }\n",
       "\n",
       "    .dataframe tbody tr th {\n",
       "        vertical-align: top;\n",
       "    }\n",
       "\n",
       "    .dataframe thead th {\n",
       "        text-align: right;\n",
       "    }\n",
       "</style>\n",
       "<table border=\"1\" class=\"dataframe\">\n",
       "  <thead>\n",
       "    <tr style=\"text-align: right;\">\n",
       "      <th></th>\n",
       "      <th>Model</th>\n",
       "      <th>Transformer</th>\n",
       "      <th>Stemmed/Lemmed</th>\n",
       "      <th>Train_acc</th>\n",
       "      <th>Test_acc</th>\n",
       "      <th>AUC</th>\n",
       "    </tr>\n",
       "  </thead>\n",
       "  <tbody>\n",
       "    <tr>\n",
       "      <th>0</th>\n",
       "      <td>AdaBoost</td>\n",
       "      <td>TFIDF</td>\n",
       "      <td>Lemmatized</td>\n",
       "      <td>0.954227</td>\n",
       "      <td>0.947645</td>\n",
       "      <td>0.988122</td>\n",
       "    </tr>\n",
       "  </tbody>\n",
       "</table>\n",
       "</div>"
      ],
      "text/plain": [
       "      Model Transformer Stemmed/Lemmed  Train_acc  Test_acc       AUC\n",
       "0  AdaBoost       TFIDF     Lemmatized   0.954227  0.947645  0.988122"
      ]
     },
     "execution_count": 37,
     "metadata": {},
     "output_type": "execute_result"
    }
   ],
   "source": [
    "results"
   ]
  },
  {
   "cell_type": "code",
   "execution_count": 38,
   "metadata": {},
   "outputs": [
    {
     "data": {
      "image/png": "[encoded data removed]",
      "text/plain": [
       "<Figure size 432x288 with 1 Axes>"
      ]
     },
     "metadata": {
      "needs_background": "light"
     },
     "output_type": "display_data"
    }
   ],
   "source": [
    "# Plots the ROC curve and visualizes the AUC score\n",
    "plot_roc_curve(pipe, X_test, y_test)\n",
    "plt.plot([0,1],[0,1], label='baseline', linestyle='--');"
   ]
  },
  {
   "cell_type": "code",
   "execution_count": 40,
   "metadata": {},
   "outputs": [
    {
     "data": {
      "image/png": "[encoded data removed]",
      "text/plain": [
       "<Figure size 720x720 with 2 Axes>"
      ]
     },
     "metadata": {},
     "output_type": "display_data"
    }
   ],
   "source": [
    "# Creates the confusion matrix and saves it as an image\n",
    "sns.set(font_scale=1.5)\n",
    "cm = confusion_matrix(y_test, y_preds)\n",
    "fig, ax = plt.subplots(figsize=(10, 10))\n",
    "plot = ConfusionMatrixDisplay(cm).plot(ax=ax)\n",
    "plot\n",
    "plt.title('Confusion Matrix')\n",
    "ax.set_title('Confusion Matrix', fontdict={'size':'15'})\n",
    "ax.set_xticklabels(df['subreddit'].unique(), size=15);\n",
    "ax.set_yticklabels(df['subreddit'].unique(), size=15);\n",
    "ax.set_xlabel('Predicted label', fontdict={'size':'15'})\n",
    "ax.set_ylabel('True label', fontdict={'size':'15'})\n",
    "\n",
    "plt.savefig('../../../presentation/imgs/cm_boost_tfidf_lem.jpg')"
   ]
  },
  {
   "cell_type": "code",
   "execution_count": 42,
   "metadata": {
    "scrolled": true
   },
   "outputs": [
    {
     "data": {
      "text/plain": [
       "['__abstractmethods__',\n",
       " '__annotations__',\n",
       " '__class__',\n",
       " '__delattr__',\n",
       " '__dict__',\n",
       " '__dir__',\n",
       " '__doc__',\n",
       " '__eq__',\n",
       " '__format__',\n",
       " '__ge__',\n",
       " '__getattribute__',\n",
       " '__getitem__',\n",
       " '__getstate__',\n",
       " '__gt__',\n",
       " '__hash__',\n",
       " '__init__',\n",
       " '__init_subclass__',\n",
       " '__iter__',\n",
       " '__le__',\n",
       " '__len__',\n",
       " '__lt__',\n",
       " '__module__',\n",
       " '__ne__',\n",
       " '__new__',\n",
       " '__reduce__',\n",
       " '__reduce_ex__',\n",
       " '__repr__',\n",
       " '__setattr__',\n",
       " '__setstate__',\n",
       " '__sizeof__',\n",
       " '__str__',\n",
       " '__subclasshook__',\n",
       " '__weakref__',\n",
       " '_abc_impl',\n",
       " '_boost',\n",
       " '_boost_discrete',\n",
       " '_boost_real',\n",
       " '_check_X',\n",
       " '_check_n_features',\n",
       " '_compute_proba_from_decision',\n",
       " '_estimator_type',\n",
       " '_get_param_names',\n",
       " '_get_tags',\n",
       " '_make_estimator',\n",
       " '_more_tags',\n",
       " '_repr_html_',\n",
       " '_repr_html_inner',\n",
       " '_repr_mimebundle_',\n",
       " '_required_parameters',\n",
       " '_validate_data',\n",
       " '_validate_estimator',\n",
       " 'algorithm',\n",
       " 'base_estimator',\n",
       " 'base_estimator_',\n",
       " 'classes_',\n",
       " 'decision_function',\n",
       " 'estimator_errors_',\n",
       " 'estimator_params',\n",
       " 'estimator_weights_',\n",
       " 'estimators_',\n",
       " 'feature_importances_',\n",
       " 'fit',\n",
       " 'get_params',\n",
       " 'learning_rate',\n",
       " 'n_classes_',\n",
       " 'n_estimators',\n",
       " 'n_features_in_',\n",
       " 'predict',\n",
       " 'predict_log_proba',\n",
       " 'predict_proba',\n",
       " 'random_state',\n",
       " 'score',\n",
       " 'set_params',\n",
       " 'staged_decision_function',\n",
       " 'staged_predict',\n",
       " 'staged_predict_proba',\n",
       " 'staged_score']"
      ]
     },
     "execution_count": 42,
     "metadata": {},
     "output_type": "execute_result"
    }
   ],
   "source": [
    "dir(pipe.named_steps['abc'])"
   ]
  },
  {
   "cell_type": "code",
   "execution_count": 43,
   "metadata": {},
   "outputs": [],
   "source": [
    "# Finds the feature importances from the pipeline through the AdaBoost\n",
    "importances = pipe.named_steps['abc'].feature_importances_"
   ]
  },
  {
   "cell_type": "code",
   "execution_count": 44,
   "metadata": {},
   "outputs": [
    {
     "data": {
      "text/plain": [
       "array([0., 0., 0., ..., 0., 0., 0.])"
      ]
     },
     "execution_count": 44,
     "metadata": {},
     "output_type": "execute_result"
    }
   ],
   "source": [
    "importances"
   ]
  },
  {
   "cell_type": "code",
   "execution_count": 45,
   "metadata": {},
   "outputs": [],
   "source": [
    "# Finds the feature names from the pipeline through the TfidfVectorizer\n",
    "names = pipe.named_steps['tvec'].get_feature_names()"
   ]
  },
  {
   "cell_type": "code",
   "execution_count": 46,
   "metadata": {},
   "outputs": [
    {
     "data": {
      "text/html": [
       "<div>\n",
       "<style scoped>\n",
       "    .dataframe tbody tr th:only-of-type {\n",
       "        vertical-align: middle;\n",
       "    }\n",
       "\n",
       "    .dataframe tbody tr th {\n",
       "        vertical-align: top;\n",
       "    }\n",
       "\n",
       "    .dataframe thead th {\n",
       "        text-align: right;\n",
       "    }\n",
       "</style>\n",
       "<table border=\"1\" class=\"dataframe\">\n",
       "  <thead>\n",
       "    <tr style=\"text-align: right;\">\n",
       "      <th></th>\n",
       "      <th>feature_importance</th>\n",
       "      <th>features</th>\n",
       "    </tr>\n",
       "  </thead>\n",
       "  <tbody>\n",
       "    <tr>\n",
       "      <th>2236</th>\n",
       "      <td>0.02</td>\n",
       "      <td>hp</td>\n",
       "    </tr>\n",
       "    <tr>\n",
       "      <th>2690</th>\n",
       "      <td>0.02</td>\n",
       "      <td>lotr</td>\n",
       "    </tr>\n",
       "    <tr>\n",
       "      <th>4516</th>\n",
       "      <td>0.02</td>\n",
       "      <td>tolkien</td>\n",
       "    </tr>\n",
       "    <tr>\n",
       "      <th>168</th>\n",
       "      <td>0.01</td>\n",
       "      <td>age</td>\n",
       "    </tr>\n",
       "    <tr>\n",
       "      <th>231</th>\n",
       "      <td>0.01</td>\n",
       "      <td>amazon</td>\n",
       "    </tr>\n",
       "    <tr>\n",
       "      <th>315</th>\n",
       "      <td>0.01</td>\n",
       "      <td>aragorn</td>\n",
       "    </tr>\n",
       "    <tr>\n",
       "      <th>321</th>\n",
       "      <td>0.01</td>\n",
       "      <td>arda</td>\n",
       "    </tr>\n",
       "    <tr>\n",
       "      <th>357</th>\n",
       "      <td>0.01</td>\n",
       "      <td>arwen</td>\n",
       "    </tr>\n",
       "    <tr>\n",
       "      <th>413</th>\n",
       "      <td>0.01</td>\n",
       "      <td>auto</td>\n",
       "    </tr>\n",
       "    <tr>\n",
       "      <th>435</th>\n",
       "      <td>0.01</td>\n",
       "      <td>azkaban</td>\n",
       "    </tr>\n",
       "  </tbody>\n",
       "</table>\n",
       "</div>"
      ],
      "text/plain": [
       "      feature_importance features\n",
       "2236                0.02       hp\n",
       "2690                0.02     lotr\n",
       "4516                0.02  tolkien\n",
       "168                 0.01      age\n",
       "231                 0.01   amazon\n",
       "315                 0.01  aragorn\n",
       "321                 0.01     arda\n",
       "357                 0.01    arwen\n",
       "413                 0.01     auto\n",
       "435                 0.01  azkaban"
      ]
     },
     "execution_count": 46,
     "metadata": {},
     "output_type": "execute_result"
    }
   ],
   "source": [
    "# Creates the feature importance dataframe and dispalces the top 10\n",
    "importance_dict = pd.DataFrame({'feature_importance': importances,\n",
    "                                'features': names})\n",
    "top10 = importance_dict.nlargest(10, columns=['feature_importance'])\n",
    "top10"
   ]
  },
  {
   "cell_type": "code",
   "execution_count": 47,
   "metadata": {},
   "outputs": [
    {
     "data": {
      "image/png": "[encoded data removed]",
      "text/plain": [
       "<Figure size 432x288 with 1 Axes>"
      ]
     },
     "metadata": {},
     "output_type": "display_data"
    }
   ],
   "source": [
    "# Visualizes the feature importances \n",
    "\n",
    "# plt.bar(x='features', height='feature_importances', data=top10);\n",
    "plt.barh(top10['features'], top10['feature_importance']);"
   ]
  },
  {
   "cell_type": "code",
   "execution_count": null,
   "metadata": {},
   "outputs": [],
   "source": []
  }
 ],
 "metadata": {
  "kernelspec": {
   "display_name": "Python 3",
   "language": "python",
   "name": "python3"
  },
  "language_info": {
   "codemirror_mode": {
    "name": "ipython",
    "version": 3
   },
   "file_extension": ".py",
   "mimetype": "text/x-python",
   "name": "python",
   "nbconvert_exporter": "python",
   "pygments_lexer": "ipython3",
   "version": "3.8.5"
  }
 },
 "nbformat": 4,
 "nbformat_minor": 4
}
