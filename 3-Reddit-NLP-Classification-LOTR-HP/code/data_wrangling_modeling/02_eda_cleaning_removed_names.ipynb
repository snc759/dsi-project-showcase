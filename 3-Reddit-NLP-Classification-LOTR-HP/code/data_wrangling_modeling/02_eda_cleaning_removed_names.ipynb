{
 "cells": [
  {
   "cell_type": "code",
   "execution_count": 1,
   "metadata": {},
   "outputs": [],
   "source": [
    "# imports\n",
    "import numpy as np\n",
    "import pandas as pd\n",
    "import matplotlib.pyplot as plt\n",
    "import seaborn as sns\n",
    "import missingno as msno\n",
    "\n",
    "# nlp libraries \n",
    "from sklearn.feature_extraction.text import CountVectorizer, TfidfVectorizer\n",
    "import nltk\n",
    "from nltk.tokenize import sent_tokenize, word_tokenize, RegexpTokenizer\n",
    "from nltk.stem import WordNetLemmatizer\n",
    "from nltk.stem.porter import PorterStemmer\n",
    "from nltk.corpus import stopwords\n",
    "from nltk.sentiment.vader import SentimentIntensityAnalyzer\n",
    "from nltk import FreqDist, pos_tag\n",
    "import re\n",
    "\n",
    "# logistic regression/classification metrics \n",
    "from sklearn.linear_model import LogisticRegression\n",
    "from sklearn.model_selection import train_test_split, cross_val_score, GridSearchCV\n",
    "from sklearn.metrics import confusion_matrix, ConfusionMatrixDisplay, accuracy_score, plot_roc_curve, roc_auc_score, recall_score, precision_score, f1_score, classification_report\n",
    "\n",
    "# K-Nearest Neighbors\n",
    "from sklearn.neighbors import KNeighborsClassifier\n",
    "\n",
    "# Naive Bayes\n",
    "from sklearn.naive_bayes import MultinomialNB, BernoulliNB\n",
    "\n",
    "# Pipeline Hyperparameter Tuning \n",
    "from sklearn.pipeline import Pipeline, make_pipeline\n",
    "\n",
    "import statistics as stats"
   ]
  },
  {
   "cell_type": "code",
   "execution_count": 2,
   "metadata": {},
   "outputs": [
    {
     "data": {
      "text/html": [
       "<div>\n",
       "<style scoped>\n",
       "    .dataframe tbody tr th:only-of-type {\n",
       "        vertical-align: middle;\n",
       "    }\n",
       "\n",
       "    .dataframe tbody tr th {\n",
       "        vertical-align: top;\n",
       "    }\n",
       "\n",
       "    .dataframe thead th {\n",
       "        text-align: right;\n",
       "    }\n",
       "</style>\n",
       "<table border=\"1\" class=\"dataframe\">\n",
       "  <thead>\n",
       "    <tr style=\"text-align: right;\">\n",
       "      <th></th>\n",
       "      <th>subreddit</th>\n",
       "      <th>title</th>\n",
       "      <th>created_utc</th>\n",
       "      <th>selftext</th>\n",
       "      <th>author</th>\n",
       "      <th>media_only</th>\n",
       "      <th>permalink</th>\n",
       "    </tr>\n",
       "  </thead>\n",
       "  <tbody>\n",
       "    <tr>\n",
       "      <th>0</th>\n",
       "      <td>tolkienfans</td>\n",
       "      <td>What happened to Tolkien’s Red Book?</td>\n",
       "      <td>1616977706</td>\n",
       "      <td>I was wondering if somebody could clear up my ...</td>\n",
       "      <td>lukeskinwalker69epic</td>\n",
       "      <td>False</td>\n",
       "      <td>/r/tolkienfans/comments/mfdrms/what_happened_t...</td>\n",
       "    </tr>\n",
       "    <tr>\n",
       "      <th>1</th>\n",
       "      <td>tolkienfans</td>\n",
       "      <td>What Makes People Turn Invisible When the Put ...</td>\n",
       "      <td>1616971688</td>\n",
       "      <td>I guess this is a big question because I never...</td>\n",
       "      <td>Jpmaniax26</td>\n",
       "      <td>False</td>\n",
       "      <td>/r/tolkienfans/comments/mfbzjh/what_makes_peop...</td>\n",
       "    </tr>\n",
       "    <tr>\n",
       "      <th>2</th>\n",
       "      <td>tolkienfans</td>\n",
       "      <td>Theory: At some point not told in the Tale, Ar...</td>\n",
       "      <td>1616971077</td>\n",
       "      <td>This is the last dialogue between Queen Undómi...</td>\n",
       "      <td>yew_eater</td>\n",
       "      <td>False</td>\n",
       "      <td>/r/tolkienfans/comments/mfbsks/theory_at_some_...</td>\n",
       "    </tr>\n",
       "    <tr>\n",
       "      <th>3</th>\n",
       "      <td>tolkienfans</td>\n",
       "      <td>I’d like to purchase a matching set of books o...</td>\n",
       "      <td>1616969977</td>\n",
       "      <td>Can anyone help me out? Looking for matching b...</td>\n",
       "      <td>GoosePants72</td>\n",
       "      <td>False</td>\n",
       "      <td>/r/tolkienfans/comments/mfbfyj/id_like_to_purc...</td>\n",
       "    </tr>\n",
       "    <tr>\n",
       "      <th>4</th>\n",
       "      <td>tolkienfans</td>\n",
       "      <td>When Faramir ‘proposes’ to Eowyn, something we...</td>\n",
       "      <td>1616966528</td>\n",
       "      <td>After he confesses his love for her and talks ...</td>\n",
       "      <td>PhendranaDrifter</td>\n",
       "      <td>False</td>\n",
       "      <td>/r/tolkienfans/comments/mfaae8/when_faramir_pr...</td>\n",
       "    </tr>\n",
       "  </tbody>\n",
       "</table>\n",
       "</div>"
      ],
      "text/plain": [
       "     subreddit                                              title  \\\n",
       "0  tolkienfans               What happened to Tolkien’s Red Book?   \n",
       "1  tolkienfans  What Makes People Turn Invisible When the Put ...   \n",
       "2  tolkienfans  Theory: At some point not told in the Tale, Ar...   \n",
       "3  tolkienfans  I’d like to purchase a matching set of books o...   \n",
       "4  tolkienfans  When Faramir ‘proposes’ to Eowyn, something we...   \n",
       "\n",
       "   created_utc                                           selftext  \\\n",
       "0   1616977706  I was wondering if somebody could clear up my ...   \n",
       "1   1616971688  I guess this is a big question because I never...   \n",
       "2   1616971077  This is the last dialogue between Queen Undómi...   \n",
       "3   1616969977  Can anyone help me out? Looking for matching b...   \n",
       "4   1616966528  After he confesses his love for her and talks ...   \n",
       "\n",
       "                 author  media_only  \\\n",
       "0  lukeskinwalker69epic       False   \n",
       "1            Jpmaniax26       False   \n",
       "2             yew_eater       False   \n",
       "3          GoosePants72       False   \n",
       "4      PhendranaDrifter       False   \n",
       "\n",
       "                                           permalink  \n",
       "0  /r/tolkienfans/comments/mfdrms/what_happened_t...  \n",
       "1  /r/tolkienfans/comments/mfbzjh/what_makes_peop...  \n",
       "2  /r/tolkienfans/comments/mfbsks/theory_at_some_...  \n",
       "3  /r/tolkienfans/comments/mfbfyj/id_like_to_purc...  \n",
       "4  /r/tolkienfans/comments/mfaae8/when_faramir_pr...  "
      ]
     },
     "execution_count": 2,
     "metadata": {},
     "output_type": "execute_result"
    }
   ],
   "source": [
    "# Import the posts data\n",
    "posts = pd.read_csv('../../data/reddit_posts.csv', index_col=0).reset_index(drop=True)\n",
    "posts.head()"
   ]
  },
  {
   "cell_type": "markdown",
   "metadata": {},
   "source": [
    "#### Exploratory Data Analysis - Before tokenizing the text"
   ]
  },
  {
   "cell_type": "code",
   "execution_count": 3,
   "metadata": {},
   "outputs": [
    {
     "data": {
      "text/plain": [
       "<AxesSubplot:>"
      ]
     },
     "execution_count": 3,
     "metadata": {},
     "output_type": "execute_result"
    },
    {
     "data": {
      "image/png": "[encoded data removed]",
      "text/plain": [
       "<Figure size 1728x720 with 3 Axes>"
      ]
     },
     "metadata": {
      "needs_background": "light"
     },
     "output_type": "display_data"
    }
   ],
   "source": [
    "# Checks how many missing selftexts there are \n",
    "msno.bar(posts)"
   ]
  },
  {
   "cell_type": "markdown",
   "metadata": {},
   "source": [
    "**Interpretation**: Although there are a lot of missing selftexts, I have decided to combine the title and the selftext columns and there seems to be no missing titles, which means, I may not have to drop as many observations as there are missing selftexts. "
   ]
  },
  {
   "cell_type": "code",
   "execution_count": 4,
   "metadata": {},
   "outputs": [],
   "source": [
    "# Creates a new dataframe with just the rows that have NAs for selftext\n",
    "missing_posts_df = posts[posts['selftext'].isna()]"
   ]
  },
  {
   "cell_type": "code",
   "execution_count": 5,
   "metadata": {},
   "outputs": [
    {
     "data": {
      "text/html": [
       "<div>\n",
       "<style scoped>\n",
       "    .dataframe tbody tr th:only-of-type {\n",
       "        vertical-align: middle;\n",
       "    }\n",
       "\n",
       "    .dataframe tbody tr th {\n",
       "        vertical-align: top;\n",
       "    }\n",
       "\n",
       "    .dataframe thead th {\n",
       "        text-align: right;\n",
       "    }\n",
       "</style>\n",
       "<table border=\"1\" class=\"dataframe\">\n",
       "  <thead>\n",
       "    <tr style=\"text-align: right;\">\n",
       "      <th></th>\n",
       "      <th>subreddit</th>\n",
       "      <th>title</th>\n",
       "      <th>created_utc</th>\n",
       "      <th>selftext</th>\n",
       "      <th>author</th>\n",
       "      <th>media_only</th>\n",
       "      <th>permalink</th>\n",
       "    </tr>\n",
       "  </thead>\n",
       "  <tbody>\n",
       "    <tr>\n",
       "      <th>27</th>\n",
       "      <td>tolkienfans</td>\n",
       "      <td>In high school, I read The Lord of the Rings b...</td>\n",
       "      <td>1615997763</td>\n",
       "      <td>NaN</td>\n",
       "      <td>Present_Librarian668</td>\n",
       "      <td>False</td>\n",
       "      <td>/r/tolkienfans/comments/m740j3/in_high_school_...</td>\n",
       "    </tr>\n",
       "    <tr>\n",
       "      <th>29</th>\n",
       "      <td>tolkienfans</td>\n",
       "      <td>Tolkien and his wife Edith Bratt were related....</td>\n",
       "      <td>1615996066</td>\n",
       "      <td>NaN</td>\n",
       "      <td>mariegriffiths</td>\n",
       "      <td>False</td>\n",
       "      <td>/r/tolkienfans/comments/m73dil/tolkien_and_his...</td>\n",
       "    </tr>\n",
       "    <tr>\n",
       "      <th>55</th>\n",
       "      <td>tolkienfans</td>\n",
       "      <td>Just found a 2nd edition, 13th impression of t...</td>\n",
       "      <td>1615896257</td>\n",
       "      <td>NaN</td>\n",
       "      <td>RaggedDawn</td>\n",
       "      <td>False</td>\n",
       "      <td>/r/tolkienfans/comments/m67ie4/just_found_a_2n...</td>\n",
       "    </tr>\n",
       "    <tr>\n",
       "      <th>69</th>\n",
       "      <td>tolkienfans</td>\n",
       "      <td>When did Saruman begin to desire power?</td>\n",
       "      <td>1615833140</td>\n",
       "      <td>NaN</td>\n",
       "      <td>rman20209</td>\n",
       "      <td>False</td>\n",
       "      <td>/r/tolkienfans/comments/m5rfqb/when_did_saruma...</td>\n",
       "    </tr>\n",
       "    <tr>\n",
       "      <th>75</th>\n",
       "      <td>tolkienfans</td>\n",
       "      <td>What character from Tolkien’s legendarium do y...</td>\n",
       "      <td>1615818387</td>\n",
       "      <td>NaN</td>\n",
       "      <td>Isaac_Ludwig666</td>\n",
       "      <td>False</td>\n",
       "      <td>/r/tolkienfans/comments/m5lu0d/what_character_...</td>\n",
       "    </tr>\n",
       "    <tr>\n",
       "      <th>...</th>\n",
       "      <td>...</td>\n",
       "      <td>...</td>\n",
       "      <td>...</td>\n",
       "      <td>...</td>\n",
       "      <td>...</td>\n",
       "      <td>...</td>\n",
       "      <td>...</td>\n",
       "    </tr>\n",
       "    <tr>\n",
       "      <th>19991</th>\n",
       "      <td>harrypotter</td>\n",
       "      <td>I finally have updated my mental reference for...</td>\n",
       "      <td>1610001727</td>\n",
       "      <td>NaN</td>\n",
       "      <td>lipozine</td>\n",
       "      <td>False</td>\n",
       "      <td>/r/harrypotter/comments/ks7n73/i_finally_have_...</td>\n",
       "    </tr>\n",
       "    <tr>\n",
       "      <th>19992</th>\n",
       "      <td>harrypotter</td>\n",
       "      <td>Antioch needs to go home and rethink his life</td>\n",
       "      <td>1610001594</td>\n",
       "      <td>NaN</td>\n",
       "      <td>LucarioNN</td>\n",
       "      <td>False</td>\n",
       "      <td>/r/harrypotter/comments/ks7m3f/antioch_needs_t...</td>\n",
       "    </tr>\n",
       "    <tr>\n",
       "      <th>19994</th>\n",
       "      <td>harrypotter</td>\n",
       "      <td>its possible</td>\n",
       "      <td>1610000614</td>\n",
       "      <td>NaN</td>\n",
       "      <td>Maansi_kochar</td>\n",
       "      <td>False</td>\n",
       "      <td>/r/harrypotter/comments/ks7e0o/its_possible/</td>\n",
       "    </tr>\n",
       "    <tr>\n",
       "      <th>19995</th>\n",
       "      <td>harrypotter</td>\n",
       "      <td>The pig do be looking like Harry potters uncle...</td>\n",
       "      <td>1610000358</td>\n",
       "      <td>NaN</td>\n",
       "      <td>livlido</td>\n",
       "      <td>False</td>\n",
       "      <td>/r/harrypotter/comments/ks7brs/the_pig_do_be_l...</td>\n",
       "    </tr>\n",
       "    <tr>\n",
       "      <th>19999</th>\n",
       "      <td>harrypotter</td>\n",
       "      <td>Weasley Twins perfect casting</td>\n",
       "      <td>1609998944</td>\n",
       "      <td>NaN</td>\n",
       "      <td>200020124</td>\n",
       "      <td>False</td>\n",
       "      <td>/r/harrypotter/comments/ks6zhx/weasley_twins_p...</td>\n",
       "    </tr>\n",
       "  </tbody>\n",
       "</table>\n",
       "<p>4276 rows × 7 columns</p>\n",
       "</div>"
      ],
      "text/plain": [
       "         subreddit                                              title  \\\n",
       "27     tolkienfans  In high school, I read The Lord of the Rings b...   \n",
       "29     tolkienfans  Tolkien and his wife Edith Bratt were related....   \n",
       "55     tolkienfans  Just found a 2nd edition, 13th impression of t...   \n",
       "69     tolkienfans            When did Saruman begin to desire power?   \n",
       "75     tolkienfans  What character from Tolkien’s legendarium do y...   \n",
       "...            ...                                                ...   \n",
       "19991  harrypotter  I finally have updated my mental reference for...   \n",
       "19992  harrypotter      Antioch needs to go home and rethink his life   \n",
       "19994  harrypotter                                       its possible   \n",
       "19995  harrypotter  The pig do be looking like Harry potters uncle...   \n",
       "19999  harrypotter                      Weasley Twins perfect casting   \n",
       "\n",
       "       created_utc selftext                author  media_only  \\\n",
       "27      1615997763      NaN  Present_Librarian668       False   \n",
       "29      1615996066      NaN        mariegriffiths       False   \n",
       "55      1615896257      NaN            RaggedDawn       False   \n",
       "69      1615833140      NaN             rman20209       False   \n",
       "75      1615818387      NaN       Isaac_Ludwig666       False   \n",
       "...            ...      ...                   ...         ...   \n",
       "19991   1610001727      NaN              lipozine       False   \n",
       "19992   1610001594      NaN             LucarioNN       False   \n",
       "19994   1610000614      NaN         Maansi_kochar       False   \n",
       "19995   1610000358      NaN               livlido       False   \n",
       "19999   1609998944      NaN             200020124       False   \n",
       "\n",
       "                                               permalink  \n",
       "27     /r/tolkienfans/comments/m740j3/in_high_school_...  \n",
       "29     /r/tolkienfans/comments/m73dil/tolkien_and_his...  \n",
       "55     /r/tolkienfans/comments/m67ie4/just_found_a_2n...  \n",
       "69     /r/tolkienfans/comments/m5rfqb/when_did_saruma...  \n",
       "75     /r/tolkienfans/comments/m5lu0d/what_character_...  \n",
       "...                                                  ...  \n",
       "19991  /r/harrypotter/comments/ks7n73/i_finally_have_...  \n",
       "19992  /r/harrypotter/comments/ks7m3f/antioch_needs_t...  \n",
       "19994       /r/harrypotter/comments/ks7e0o/its_possible/  \n",
       "19995  /r/harrypotter/comments/ks7brs/the_pig_do_be_l...  \n",
       "19999  /r/harrypotter/comments/ks6zhx/weasley_twins_p...  \n",
       "\n",
       "[4276 rows x 7 columns]"
      ]
     },
     "execution_count": 5,
     "metadata": {},
     "output_type": "execute_result"
    }
   ],
   "source": [
    "missing_posts_df"
   ]
  },
  {
   "cell_type": "code",
   "execution_count": 6,
   "metadata": {},
   "outputs": [
    {
     "data": {
      "text/plain": [
       "harrypotter    3434\n",
       "tolkienfans     842\n",
       "Name: subreddit, dtype: int64"
      ]
     },
     "execution_count": 6,
     "metadata": {},
     "output_type": "execute_result"
    }
   ],
   "source": [
    "# Checks how many of the missing are for each class\n",
    "missing_posts_df['subreddit'].value_counts()"
   ]
  },
  {
   "cell_type": "code",
   "execution_count": 7,
   "metadata": {},
   "outputs": [
    {
     "data": {
      "text/plain": [
       "[removed]                                                                                                                                                                                                                                                                                                                                                                                                                                                                                                                                                                                                                                                                                                                                                                                                                                                                                                                                                                                                                                                                           1384\n",
       "[deleted]                                                                                                                                                                                                                                                                                                                                                                                                                                                                                                                                                                                                                                                                                                                                                                                                                                                                                                                                                                                                                                                                            461\n",
       "Have a question about the series that you don't feel like making your own thread for? Maybe it's something you've been wondering, or maybe it's something kind of silly? Post it here! Answer questions from others while you're at it!                                                                                                                                                                                                                                                                                                                                                                                                                                                                                                                                                                                                                                                                                                                                                                                                                                                8\n",
       "Welcome to Fanfiction Friday!\\n\\n    * Do you have a favorite fanfiction you want to share?\\n    * Have you been staying up past your bedtime reading a special fanfiction?\\n    * Are you yearning for some new material to read?\\n    * Want to reminisce about fanfictions of yore?\\n    * Do you want to discuss the idea of fanfictions in general?\\n\\nPost below all about fanfictions!                                                                                                                                                                                                                                                                                                                                                                                                                                                                                                                                                                                                                                                                                          8\n",
       "Welcome to Merchandise Monday!\\n\\nShare with us all your HP Merchandise!                                                                                                                                                                                                                                                                                                                                                                                                                                                                                                                                                                                                                                                                                                                                                                                                                                                                                                                                                                                                               7\n",
       "                                                                                                                                                                                                                                                                                                                                                                                                                                                                                                                                                                                                                                                                                                                                                                                                                                                                                                                                                                                                                                                                                    ... \n",
       "This one fan theory is really cool. Every one of us would want The Boy Who Lived to live on forever, right?\\n\\nIn the books, it implies that, in the end, one of them (Voldemort and Harry) will have to kill each other. What if it meant something else instead?\\n\\nWhat if it meant that the *only way* either of them could die would be at the hand of the other?\\n\\n&gt;either must die at the hand of the other...\\n\\nMeaning the one who didn't die had no means of achieving death. Meaning that the only way Harry can die is at the hand of Voldemort. But now that Voldemort is dead, HARRY CAN'T DIE.\\n\\nThis suggests that by killing Voldemort, Harry sacrifices his death. It is made clear to us that death is the only way he'll ever be with his loved ones.\\n\\nDying isn't such a bad sacrifice to make. But sacrificing his own death and living forever would be the ultimate sacrifice for Harry. By killing Voldemort, Harry would become immortal, never seeing his family or friends in death.\\n\\nHarry Potter would, forever, be The Boy Who Lived...       2\n",
       "Surprised a literal version never made it into the published Silmarillion.  The texts always describe it, but never quote it.  I know of four versions (all in verse) in HoME, three in the Lays of Beleriand, and one in Morgoth's Ring.\\n\\nAre there any others?                                                                                                                                                                                                                                                                                                                                                                                                                                                                                                                                                                                                                                                                                                                                                                                                                     2\n",
       "Well I have got the official noble collection Harry Potter glasses and I am trying to sell them. Problem is that I cant find any of them and therefore I dont know the worth. Can anyone help me?                                                                                                                                                                                                                                                                                                                                                                                                                                                                                                                                                                                                                                                                                                                                                                                                                                                                                      2\n",
       "https://www.hollywoodreporter.com/live-feed/harry-potter-live-action-tv-series-in-early-development-at-hbo-max-exclusive                                                                                                                                                                                                                                                                                                                                                                                                                                                                                                                                                                                                                                                                                                                                                                                                                                                                                                                                                               2\n",
       "Hi everyone, feel free to join our Tolkien-based Discord server. All Tolkien fans are welcome, so join here to join a community who's always active and up to chat about Tolkien 24/7! [https://discord.gg/E2V32kF](https://discord.gg/E2V32kF)                                                                                                                                                                                                                                                                                                                                                                                                                                                                                                                                                                                                                                                                                                                                                                                                                                        2\n",
       "Name: selftext, Length: 70, dtype: int64"
      ]
     },
     "execution_count": 7,
     "metadata": {},
     "output_type": "execute_result"
    }
   ],
   "source": [
    "# Counts the moderator's [deleted] or [removed] texts\n",
    "text = posts['selftext'].value_counts(sort=True)\n",
    "text[text > 1]"
   ]
  },
  {
   "cell_type": "markdown",
   "metadata": {},
   "source": [
    "### Cleaning"
   ]
  },
  {
   "cell_type": "code",
   "execution_count": 8,
   "metadata": {},
   "outputs": [],
   "source": [
    "# creates a copy of the original dataframe\n",
    "posts_og = posts.copy()"
   ]
  },
  {
   "cell_type": "code",
   "execution_count": 9,
   "metadata": {},
   "outputs": [],
   "source": [
    "# Changes moderator's '[removed]' and '[deleted]' to NaN\n",
    "posts['selftext'] = posts['selftext'].replace(['[removed]', '[deleted]'], np.nan)"
   ]
  },
  {
   "cell_type": "code",
   "execution_count": 10,
   "metadata": {},
   "outputs": [],
   "source": [
    "# Combines the title and the selftext, and replaces NaNs with the title\n",
    "posts.insert(4, 'title_selftext', posts['title'] + ' ' + posts['selftext'])\n",
    "posts['title_selftext'].fillna(posts['title'], inplace=True)"
   ]
  },
  {
   "cell_type": "code",
   "execution_count": 12,
   "metadata": {},
   "outputs": [],
   "source": [
    "# Keeps the words only function \n",
    "def keep_words_only(text):\n",
    "    \"\"\"Cleans text so that any special characters are removed and only words are kept\"\"\"\n",
    "    \n",
    "    regex_tokenizer = RegexpTokenizer(\"\\w+[']*\")\n",
    "    words = regex_tokenizer.tokenize(text.lower())\n",
    "    \n",
    "    return (' ').join(words)"
   ]
  },
  {
   "cell_type": "code",
   "execution_count": 13,
   "metadata": {},
   "outputs": [],
   "source": [
    "# Applies the keep the words only function to the text column\n",
    "posts['title_selftext'] = posts['title_selftext'].map(keep_words_only)"
   ]
  },
  {
   "cell_type": "code",
   "execution_count": 15,
   "metadata": {},
   "outputs": [
    {
     "data": {
      "text/html": [
       "<div>\n",
       "<style scoped>\n",
       "    .dataframe tbody tr th:only-of-type {\n",
       "        vertical-align: middle;\n",
       "    }\n",
       "\n",
       "    .dataframe tbody tr th {\n",
       "        vertical-align: top;\n",
       "    }\n",
       "\n",
       "    .dataframe thead th {\n",
       "        text-align: right;\n",
       "    }\n",
       "</style>\n",
       "<table border=\"1\" class=\"dataframe\">\n",
       "  <thead>\n",
       "    <tr style=\"text-align: right;\">\n",
       "      <th></th>\n",
       "      <th>subreddit</th>\n",
       "      <th>title</th>\n",
       "      <th>created_utc</th>\n",
       "      <th>selftext</th>\n",
       "      <th>title_selftext</th>\n",
       "      <th>author</th>\n",
       "      <th>media_only</th>\n",
       "      <th>permalink</th>\n",
       "      <th>text_length</th>\n",
       "    </tr>\n",
       "  </thead>\n",
       "  <tbody>\n",
       "    <tr>\n",
       "      <th>0</th>\n",
       "      <td>tolkienfans</td>\n",
       "      <td>What happened to Tolkien’s Red Book?</td>\n",
       "      <td>1616977706</td>\n",
       "      <td>I was wondering if somebody could clear up my ...</td>\n",
       "      <td>what happened to tolkien s red book i was wond...</td>\n",
       "      <td>lukeskinwalker69epic</td>\n",
       "      <td>False</td>\n",
       "      <td>/r/tolkienfans/comments/mfdrms/what_happened_t...</td>\n",
       "      <td>322</td>\n",
       "    </tr>\n",
       "    <tr>\n",
       "      <th>1</th>\n",
       "      <td>tolkienfans</td>\n",
       "      <td>What Makes People Turn Invisible When the Put ...</td>\n",
       "      <td>1616971688</td>\n",
       "      <td>I guess this is a big question because I never...</td>\n",
       "      <td>what makes people turn invisible when the put ...</td>\n",
       "      <td>Jpmaniax26</td>\n",
       "      <td>False</td>\n",
       "      <td>/r/tolkienfans/comments/mfbzjh/what_makes_peop...</td>\n",
       "      <td>252</td>\n",
       "    </tr>\n",
       "    <tr>\n",
       "      <th>2</th>\n",
       "      <td>tolkienfans</td>\n",
       "      <td>Theory: At some point not told in the Tale, Ar...</td>\n",
       "      <td>1616971077</td>\n",
       "      <td>This is the last dialogue between Queen Undómi...</td>\n",
       "      <td>theory at some point not told in the tale arag...</td>\n",
       "      <td>yew_eater</td>\n",
       "      <td>False</td>\n",
       "      <td>/r/tolkienfans/comments/mfbsks/theory_at_some_...</td>\n",
       "      <td>6045</td>\n",
       "    </tr>\n",
       "    <tr>\n",
       "      <th>3</th>\n",
       "      <td>tolkienfans</td>\n",
       "      <td>I’d like to purchase a matching set of books o...</td>\n",
       "      <td>1616969977</td>\n",
       "      <td>Can anyone help me out? Looking for matching b...</td>\n",
       "      <td>i d like to purchase a matching set of books o...</td>\n",
       "      <td>GoosePants72</td>\n",
       "      <td>False</td>\n",
       "      <td>/r/tolkienfans/comments/mfbfyj/id_like_to_purc...</td>\n",
       "      <td>302</td>\n",
       "    </tr>\n",
       "    <tr>\n",
       "      <th>4</th>\n",
       "      <td>tolkienfans</td>\n",
       "      <td>When Faramir ‘proposes’ to Eowyn, something we...</td>\n",
       "      <td>1616966528</td>\n",
       "      <td>After he confesses his love for her and talks ...</td>\n",
       "      <td>when faramir proposes to eowyn something weird...</td>\n",
       "      <td>PhendranaDrifter</td>\n",
       "      <td>False</td>\n",
       "      <td>/r/tolkienfans/comments/mfaae8/when_faramir_pr...</td>\n",
       "      <td>731</td>\n",
       "    </tr>\n",
       "  </tbody>\n",
       "</table>\n",
       "</div>"
      ],
      "text/plain": [
       "     subreddit                                              title  \\\n",
       "0  tolkienfans               What happened to Tolkien’s Red Book?   \n",
       "1  tolkienfans  What Makes People Turn Invisible When the Put ...   \n",
       "2  tolkienfans  Theory: At some point not told in the Tale, Ar...   \n",
       "3  tolkienfans  I’d like to purchase a matching set of books o...   \n",
       "4  tolkienfans  When Faramir ‘proposes’ to Eowyn, something we...   \n",
       "\n",
       "   created_utc                                           selftext  \\\n",
       "0   1616977706  I was wondering if somebody could clear up my ...   \n",
       "1   1616971688  I guess this is a big question because I never...   \n",
       "2   1616971077  This is the last dialogue between Queen Undómi...   \n",
       "3   1616969977  Can anyone help me out? Looking for matching b...   \n",
       "4   1616966528  After he confesses his love for her and talks ...   \n",
       "\n",
       "                                      title_selftext                author  \\\n",
       "0  what happened to tolkien s red book i was wond...  lukeskinwalker69epic   \n",
       "1  what makes people turn invisible when the put ...            Jpmaniax26   \n",
       "2  theory at some point not told in the tale arag...             yew_eater   \n",
       "3  i d like to purchase a matching set of books o...          GoosePants72   \n",
       "4  when faramir proposes to eowyn something weird...      PhendranaDrifter   \n",
       "\n",
       "   media_only                                          permalink  text_length  \n",
       "0       False  /r/tolkienfans/comments/mfdrms/what_happened_t...          322  \n",
       "1       False  /r/tolkienfans/comments/mfbzjh/what_makes_peop...          252  \n",
       "2       False  /r/tolkienfans/comments/mfbsks/theory_at_some_...         6045  \n",
       "3       False  /r/tolkienfans/comments/mfbfyj/id_like_to_purc...          302  \n",
       "4       False  /r/tolkienfans/comments/mfaae8/when_faramir_pr...          731  "
      ]
     },
     "execution_count": 15,
     "metadata": {},
     "output_type": "execute_result"
    }
   ],
   "source": [
    "# Creates a new column containing the length of the text\n",
    "posts['text_length'] = posts['title_selftext'].map(len)\n",
    "posts.head()"
   ]
  },
  {
   "cell_type": "code",
   "execution_count": 16,
   "metadata": {},
   "outputs": [
    {
     "data": {
      "image/png": "[encoded data removed]",
      "text/plain": [
       "<Figure size 1080x720 with 1 Axes>"
      ]
     },
     "metadata": {
      "needs_background": "light"
     },
     "output_type": "display_data"
    }
   ],
   "source": [
    "# Plots the distribution of text_length\n",
    "\n",
    "# seaborn\n",
    "# fig, plot = plt.subplots(figsize=(16,12))\n",
    "# plot = sns.histplot(x='text_length', data=posts, ax=plot);\n",
    "\n",
    "# matplotlib\n",
    "plt.figure(figsize=(15, 10))\n",
    "plt.hist(posts['text_length'], bins=20);"
   ]
  },
  {
   "cell_type": "markdown",
   "metadata": {},
   "source": [
    "**Interpretation**: More people tended to have shorter post lengths rather than longer"
   ]
  },
  {
   "cell_type": "code",
   "execution_count": 17,
   "metadata": {},
   "outputs": [
    {
     "data": {
      "image/png": "[encoded data removed]",
      "text/plain": [
       "<Figure size 432x288 with 1 Axes>"
      ]
     },
     "metadata": {
      "needs_background": "light"
     },
     "output_type": "display_data"
    }
   ],
   "source": [
    "# Plots a boxplot of text_length\n",
    "sns.boxplot(x=posts['text_length']);"
   ]
  },
  {
   "cell_type": "markdown",
   "metadata": {},
   "source": [
    "**Interpretation**: Length/Word count of posts seemed to be skewed to the right. Which makes sense that more people would write less than more, if the reddit is more discussion based rather than opinion based"
   ]
  },
  {
   "cell_type": "code",
   "execution_count": 18,
   "metadata": {},
   "outputs": [
    {
     "data": {
      "text/plain": [
       "count    20000.000000\n",
       "mean       538.937300\n",
       "std       1088.059897\n",
       "min          0.000000\n",
       "25%         83.000000\n",
       "50%        259.000000\n",
       "75%        593.000000\n",
       "max      35685.000000\n",
       "Name: text_length, dtype: float64"
      ]
     },
     "execution_count": 18,
     "metadata": {},
     "output_type": "execute_result"
    }
   ],
   "source": [
    "# prints summary statistics on text_length column\n",
    "posts['text_length'].describe()"
   ]
  },
  {
   "cell_type": "code",
   "execution_count": 19,
   "metadata": {},
   "outputs": [
    {
     "data": {
      "text/plain": [
       "33"
      ]
     },
     "execution_count": 19,
     "metadata": {},
     "output_type": "execute_result"
    }
   ],
   "source": [
    "# Checks the mode of the text length\n",
    "stats.mode(posts['text_length'])"
   ]
  },
  {
   "cell_type": "code",
   "execution_count": 20,
   "metadata": {},
   "outputs": [],
   "source": [
    "# Removes any observations that have a text length less than or equal to 10 words\n",
    "posts = posts[posts['title_selftext'].map(len) > 10]"
   ]
  },
  {
   "cell_type": "code",
   "execution_count": 21,
   "metadata": {},
   "outputs": [],
   "source": [
    "# Drops any remaining NAs up until this point in the preprocessing\n",
    "posts.dropna(subset=['title_selftext'], inplace=True)"
   ]
  },
  {
   "cell_type": "code",
   "execution_count": 22,
   "metadata": {},
   "outputs": [
    {
     "data": {
      "text/plain": [
       "(19664, 9)"
      ]
     },
     "execution_count": 22,
     "metadata": {},
     "output_type": "execute_result"
    }
   ],
   "source": [
    "posts.shape"
   ]
  },
  {
   "cell_type": "code",
   "execution_count": 23,
   "metadata": {},
   "outputs": [],
   "source": [
    "# Drops any duplicates in the text column\n",
    "posts.drop_duplicates(subset=['title_selftext'], inplace=True)"
   ]
  },
  {
   "cell_type": "code",
   "execution_count": 25,
   "metadata": {},
   "outputs": [
    {
     "data": {
      "text/plain": [
       "(19314, 9)"
      ]
     },
     "execution_count": 25,
     "metadata": {},
     "output_type": "execute_result"
    }
   ],
   "source": [
    "posts.shape"
   ]
  },
  {
   "cell_type": "code",
   "execution_count": 51,
   "metadata": {},
   "outputs": [],
   "source": [
    "def clean_text_stem(text):\n",
    "    \"\"\"Cleans text by keeping words only, tokenizing, stemming and removing stopwords\"\"\"\n",
    "    #Instantiate tokenizer and stemmer and lemmatizer\n",
    "    re_tokenizer = RegexpTokenizer(\"\\w+\")\n",
    "    lemmatizer = WordNetLemmatizer()\n",
    "    p_stemmer = PorterStemmer()\n",
    "        \n",
    "    # Tokenze the text\n",
    "    words = re_tokenizer.tokenize(text.lower())\n",
    "    \n",
    "    # Filter stop words\n",
    "    stopwords_list = stopwords.words('english')\n",
    "    \n",
    "    # Adds names to stopwords_list\n",
    "    names = ['harry', 'potter', 'hp', 'lotr', 'tolkien']\n",
    "    stopwords_list = stopwords_list + names\n",
    "\n",
    "    no_stops_stemmed = [p_stemmer.stem(word) for word in words if word.lower() not in stopwords_list]\n",
    "    \n",
    "    return (' ').join(no_stops_stemmed)"
   ]
  },
  {
   "cell_type": "code",
   "execution_count": 52,
   "metadata": {},
   "outputs": [],
   "source": [
    "def clean_text_lem(text):\n",
    "    \"\"\"Cleans text by keeping words only, tokenizing, lemmatizing and removing stopwords\"\"\"\n",
    "    #Instantiate tokenizer and stemmer and lemmatizer\n",
    "    re_tokenizer = RegexpTokenizer(\"\\w+\")\n",
    "    lemmatizer = WordNetLemmatizer()\n",
    "    p_stemmer = PorterStemmer()\n",
    "        \n",
    "    # Tokenze the text\n",
    "    words = re_tokenizer.tokenize(text.lower())\n",
    "    \n",
    "    # Filter stop words\n",
    "    stopwords_list = stopwords.words('english')\n",
    "    \n",
    "    # Adds names to stopwords_list\n",
    "    names = ['harry', 'potter', 'hp', 'lotr', 'tolkien']\n",
    "    stopwords_list = stopwords_list + names\n",
    "\n",
    "    no_stops_lemmatized = [lemmatizer.lemmatize(word) for word in words if word.lower() not in stopwords_list]\n",
    "    \n",
    "    return (' ').join(no_stops_lemmatized)"
   ]
  },
  {
   "cell_type": "code",
   "execution_count": 53,
   "metadata": {},
   "outputs": [],
   "source": [
    "# Creates two new clean_text columns, where one is stemmed and the other is lemmatized\n",
    "posts['clean_text_stem'] = posts['title_selftext'].map(clean_text_stem)\n",
    "posts['clean_text_lem'] = posts['title_selftext'].map(clean_text_lem)"
   ]
  },
  {
   "cell_type": "code",
   "execution_count": 54,
   "metadata": {},
   "outputs": [
    {
     "data": {
      "text/plain": [
       "tolkienfans    9885\n",
       "harrypotter    9429\n",
       "Name: subreddit, dtype: int64"
      ]
     },
     "execution_count": 54,
     "metadata": {},
     "output_type": "execute_result"
    }
   ],
   "source": [
    "# Shows the count of posts from each subreddit\n",
    "posts['subreddit'].value_counts()"
   ]
  },
  {
   "cell_type": "code",
   "execution_count": 55,
   "metadata": {},
   "outputs": [
    {
     "data": {
      "text/html": [
       "<div>\n",
       "<style scoped>\n",
       "    .dataframe tbody tr th:only-of-type {\n",
       "        vertical-align: middle;\n",
       "    }\n",
       "\n",
       "    .dataframe tbody tr th {\n",
       "        vertical-align: top;\n",
       "    }\n",
       "\n",
       "    .dataframe thead th {\n",
       "        text-align: right;\n",
       "    }\n",
       "</style>\n",
       "<table border=\"1\" class=\"dataframe\">\n",
       "  <thead>\n",
       "    <tr style=\"text-align: right;\">\n",
       "      <th></th>\n",
       "      <th>subreddit</th>\n",
       "      <th>title</th>\n",
       "      <th>created_utc</th>\n",
       "      <th>selftext</th>\n",
       "      <th>title_selftext</th>\n",
       "      <th>author</th>\n",
       "      <th>media_only</th>\n",
       "      <th>permalink</th>\n",
       "      <th>text_length</th>\n",
       "      <th>clean_text_stem</th>\n",
       "      <th>clean_text_lem</th>\n",
       "    </tr>\n",
       "  </thead>\n",
       "  <tbody>\n",
       "    <tr>\n",
       "      <th>0</th>\n",
       "      <td>tolkienfans</td>\n",
       "      <td>What happened to Tolkien’s Red Book?</td>\n",
       "      <td>1616977706</td>\n",
       "      <td>I was wondering if somebody could clear up my ...</td>\n",
       "      <td>what happened to tolkien s red book i was wond...</td>\n",
       "      <td>lukeskinwalker69epic</td>\n",
       "      <td>False</td>\n",
       "      <td>/r/tolkienfans/comments/mfdrms/what_happened_t...</td>\n",
       "      <td>322</td>\n",
       "      <td>happen red book wonder somebodi could clear co...</td>\n",
       "      <td>happened red book wondering somebody could cle...</td>\n",
       "    </tr>\n",
       "    <tr>\n",
       "      <th>1</th>\n",
       "      <td>tolkienfans</td>\n",
       "      <td>What Makes People Turn Invisible When the Put ...</td>\n",
       "      <td>1616971688</td>\n",
       "      <td>I guess this is a big question because I never...</td>\n",
       "      <td>what makes people turn invisible when the put ...</td>\n",
       "      <td>Jpmaniax26</td>\n",
       "      <td>False</td>\n",
       "      <td>/r/tolkienfans/comments/mfbzjh/what_makes_peop...</td>\n",
       "      <td>252</td>\n",
       "      <td>make peopl turn invis put one ring guess big q...</td>\n",
       "      <td>make people turn invisible put one ring guess ...</td>\n",
       "    </tr>\n",
       "    <tr>\n",
       "      <th>2</th>\n",
       "      <td>tolkienfans</td>\n",
       "      <td>Theory: At some point not told in the Tale, Ar...</td>\n",
       "      <td>1616971077</td>\n",
       "      <td>This is the last dialogue between Queen Undómi...</td>\n",
       "      <td>theory at some point not told in the tale arag...</td>\n",
       "      <td>yew_eater</td>\n",
       "      <td>False</td>\n",
       "      <td>/r/tolkienfans/comments/mfbsks/theory_at_some_...</td>\n",
       "      <td>6045</td>\n",
       "      <td>theori point told tale aragorn arwen must seri...</td>\n",
       "      <td>theory point told tale aragorn arwen must seri...</td>\n",
       "    </tr>\n",
       "    <tr>\n",
       "      <th>3</th>\n",
       "      <td>tolkienfans</td>\n",
       "      <td>I’d like to purchase a matching set of books o...</td>\n",
       "      <td>1616969977</td>\n",
       "      <td>Can anyone help me out? Looking for matching b...</td>\n",
       "      <td>i d like to purchase a matching set of books o...</td>\n",
       "      <td>GoosePants72</td>\n",
       "      <td>False</td>\n",
       "      <td>/r/tolkienfans/comments/mfbfyj/id_like_to_purc...</td>\n",
       "      <td>302</td>\n",
       "      <td>like purchas match set book everyth silmarilli...</td>\n",
       "      <td>like purchase matching set book everything sil...</td>\n",
       "    </tr>\n",
       "    <tr>\n",
       "      <th>4</th>\n",
       "      <td>tolkienfans</td>\n",
       "      <td>When Faramir ‘proposes’ to Eowyn, something we...</td>\n",
       "      <td>1616966528</td>\n",
       "      <td>After he confesses his love for her and talks ...</td>\n",
       "      <td>when faramir proposes to eowyn something weird...</td>\n",
       "      <td>PhendranaDrifter</td>\n",
       "      <td>False</td>\n",
       "      <td>/r/tolkienfans/comments/mfaae8/when_faramir_pr...</td>\n",
       "      <td>731</td>\n",
       "      <td>faramir propos eowyn someth weird happen confe...</td>\n",
       "      <td>faramir proposes eowyn something weird happens...</td>\n",
       "    </tr>\n",
       "  </tbody>\n",
       "</table>\n",
       "</div>"
      ],
      "text/plain": [
       "     subreddit                                              title  \\\n",
       "0  tolkienfans               What happened to Tolkien’s Red Book?   \n",
       "1  tolkienfans  What Makes People Turn Invisible When the Put ...   \n",
       "2  tolkienfans  Theory: At some point not told in the Tale, Ar...   \n",
       "3  tolkienfans  I’d like to purchase a matching set of books o...   \n",
       "4  tolkienfans  When Faramir ‘proposes’ to Eowyn, something we...   \n",
       "\n",
       "   created_utc                                           selftext  \\\n",
       "0   1616977706  I was wondering if somebody could clear up my ...   \n",
       "1   1616971688  I guess this is a big question because I never...   \n",
       "2   1616971077  This is the last dialogue between Queen Undómi...   \n",
       "3   1616969977  Can anyone help me out? Looking for matching b...   \n",
       "4   1616966528  After he confesses his love for her and talks ...   \n",
       "\n",
       "                                      title_selftext                author  \\\n",
       "0  what happened to tolkien s red book i was wond...  lukeskinwalker69epic   \n",
       "1  what makes people turn invisible when the put ...            Jpmaniax26   \n",
       "2  theory at some point not told in the tale arag...             yew_eater   \n",
       "3  i d like to purchase a matching set of books o...          GoosePants72   \n",
       "4  when faramir proposes to eowyn something weird...      PhendranaDrifter   \n",
       "\n",
       "   media_only                                          permalink  text_length  \\\n",
       "0       False  /r/tolkienfans/comments/mfdrms/what_happened_t...          322   \n",
       "1       False  /r/tolkienfans/comments/mfbzjh/what_makes_peop...          252   \n",
       "2       False  /r/tolkienfans/comments/mfbsks/theory_at_some_...         6045   \n",
       "3       False  /r/tolkienfans/comments/mfbfyj/id_like_to_purc...          302   \n",
       "4       False  /r/tolkienfans/comments/mfaae8/when_faramir_pr...          731   \n",
       "\n",
       "                                     clean_text_stem  \\\n",
       "0  happen red book wonder somebodi could clear co...   \n",
       "1  make peopl turn invis put one ring guess big q...   \n",
       "2  theori point told tale aragorn arwen must seri...   \n",
       "3  like purchas match set book everyth silmarilli...   \n",
       "4  faramir propos eowyn someth weird happen confe...   \n",
       "\n",
       "                                      clean_text_lem  \n",
       "0  happened red book wondering somebody could cle...  \n",
       "1  make people turn invisible put one ring guess ...  \n",
       "2  theory point told tale aragorn arwen must seri...  \n",
       "3  like purchase matching set book everything sil...  \n",
       "4  faramir proposes eowyn something weird happens...  "
      ]
     },
     "execution_count": 55,
     "metadata": {},
     "output_type": "execute_result"
    }
   ],
   "source": [
    "posts.head()"
   ]
  },
  {
   "cell_type": "code",
   "execution_count": 56,
   "metadata": {},
   "outputs": [],
   "source": [
    "# Resets the index of the dataframe\n",
    "posts.reset_index(drop=True, inplace=True)"
   ]
  },
  {
   "cell_type": "code",
   "execution_count": 58,
   "metadata": {},
   "outputs": [],
   "source": [
    "# drops any row that has less than 10 words in them\n",
    "posts = posts[posts['clean_text_stem'].map(len) > 10]\n",
    "posts = posts[posts['clean_text_lem'].map(len) > 10]"
   ]
  },
  {
   "cell_type": "code",
   "execution_count": 59,
   "metadata": {},
   "outputs": [],
   "source": [
    "# Resets the index of the dataframe after the drop\n",
    "posts.reset_index(drop=True, inplace=True)"
   ]
  },
  {
   "cell_type": "code",
   "execution_count": 60,
   "metadata": {},
   "outputs": [],
   "source": [
    "# Saves the dataframe to a csv file\n",
    "posts.to_csv('../../data/clean_data/clean_posts_no_names.csv')"
   ]
  },
  {
   "cell_type": "code",
   "execution_count": null,
   "metadata": {},
   "outputs": [],
   "source": []
  }
 ],
 "metadata": {
  "kernelspec": {
   "display_name": "Python 3",
   "language": "python",
   "name": "python3"
  },
  "language_info": {
   "codemirror_mode": {
    "name": "ipython",
    "version": 3
   },
   "file_extension": ".py",
   "mimetype": "text/x-python",
   "name": "python",
   "nbconvert_exporter": "python",
   "pygments_lexer": "ipython3",
   "version": "3.8.5"
  }
 },
 "nbformat": 4,
 "nbformat_minor": 4
}
